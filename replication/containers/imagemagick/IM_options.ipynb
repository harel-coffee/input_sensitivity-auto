{
 "cells": [
  {
   "cell_type": "markdown",
   "metadata": {},
   "source": [
    "### Goal : Generate the configurations for ImageMagick"
   ]
  },
  {
   "cell_type": "markdown",
   "metadata": {},
   "source": [
    "##### Libraries"
   ]
  },
  {
   "cell_type": "code",
   "execution_count": 29,
   "metadata": {},
   "outputs": [],
   "source": [
    "import os, time \n",
    "import numpy as np\n",
    "import pandas as pd\n",
    "from scipy import stats"
   ]
  },
  {
   "cell_type": "markdown",
   "metadata": {},
   "source": [
    "##### Runtime configs"
   ]
  },
  {
   "cell_type": "code",
   "execution_count": 30,
   "metadata": {},
   "outputs": [],
   "source": [
    "cols = [\"-limit memory\", \"-posterize\", \"-gaussian-blur\", \"-limit thread\", \"-quality\"]\n",
    "dico = dict({\"-limit memory\" : [\"2mb\", \"10mb\", \"100mb\", \"1GiB\", \"2GiB\"\"\"],\n",
    "             \"-posterize\" : [\"2\",\"4\",\"10\",\"20\"],\n",
    "             \"-gaussian-blur\" : [\"1\",\"11\", \"21\"],\n",
    "             \"-limit thread\" : [\"1\", \"2\", \"5\", \"12\"],\n",
    "             \"-quality\" : [\"1\", \"50\", \"100\"]})"
   ]
  },
  {
   "cell_type": "code",
   "execution_count": 31,
   "metadata": {
    "scrolled": false
   },
   "outputs": [
    {
     "data": {
      "text/html": [
       "<div>\n",
       "<style scoped>\n",
       "    .dataframe tbody tr th:only-of-type {\n",
       "        vertical-align: middle;\n",
       "    }\n",
       "\n",
       "    .dataframe tbody tr th {\n",
       "        vertical-align: top;\n",
       "    }\n",
       "\n",
       "    .dataframe thead th {\n",
       "        text-align: right;\n",
       "    }\n",
       "</style>\n",
       "<table border=\"1\" class=\"dataframe\">\n",
       "  <thead>\n",
       "    <tr style=\"text-align: right;\">\n",
       "      <th></th>\n",
       "      <th>-limit memory</th>\n",
       "      <th>-posterize</th>\n",
       "      <th>-gaussian-blur</th>\n",
       "      <th>-limit thread</th>\n",
       "      <th>-quality</th>\n",
       "    </tr>\n",
       "  </thead>\n",
       "  <tbody>\n",
       "    <tr>\n",
       "      <th>0</th>\n",
       "      <td>4</td>\n",
       "      <td>2</td>\n",
       "      <td>2</td>\n",
       "      <td>0</td>\n",
       "      <td>0</td>\n",
       "    </tr>\n",
       "    <tr>\n",
       "      <th>1</th>\n",
       "      <td>0</td>\n",
       "      <td>0</td>\n",
       "      <td>1</td>\n",
       "      <td>2</td>\n",
       "      <td>0</td>\n",
       "    </tr>\n",
       "    <tr>\n",
       "      <th>2</th>\n",
       "      <td>1</td>\n",
       "      <td>2</td>\n",
       "      <td>2</td>\n",
       "      <td>2</td>\n",
       "      <td>2</td>\n",
       "    </tr>\n",
       "    <tr>\n",
       "      <th>3</th>\n",
       "      <td>3</td>\n",
       "      <td>3</td>\n",
       "      <td>1</td>\n",
       "      <td>0</td>\n",
       "      <td>1</td>\n",
       "    </tr>\n",
       "    <tr>\n",
       "      <th>4</th>\n",
       "      <td>2</td>\n",
       "      <td>2</td>\n",
       "      <td>0</td>\n",
       "      <td>1</td>\n",
       "      <td>0</td>\n",
       "    </tr>\n",
       "    <tr>\n",
       "      <th>...</th>\n",
       "      <td>...</td>\n",
       "      <td>...</td>\n",
       "      <td>...</td>\n",
       "      <td>...</td>\n",
       "      <td>...</td>\n",
       "    </tr>\n",
       "    <tr>\n",
       "      <th>95</th>\n",
       "      <td>3</td>\n",
       "      <td>0</td>\n",
       "      <td>1</td>\n",
       "      <td>1</td>\n",
       "      <td>2</td>\n",
       "    </tr>\n",
       "    <tr>\n",
       "      <th>96</th>\n",
       "      <td>3</td>\n",
       "      <td>0</td>\n",
       "      <td>0</td>\n",
       "      <td>3</td>\n",
       "      <td>2</td>\n",
       "    </tr>\n",
       "    <tr>\n",
       "      <th>97</th>\n",
       "      <td>0</td>\n",
       "      <td>3</td>\n",
       "      <td>2</td>\n",
       "      <td>1</td>\n",
       "      <td>2</td>\n",
       "    </tr>\n",
       "    <tr>\n",
       "      <th>98</th>\n",
       "      <td>0</td>\n",
       "      <td>3</td>\n",
       "      <td>2</td>\n",
       "      <td>1</td>\n",
       "      <td>1</td>\n",
       "    </tr>\n",
       "    <tr>\n",
       "      <th>99</th>\n",
       "      <td>2</td>\n",
       "      <td>2</td>\n",
       "      <td>1</td>\n",
       "      <td>3</td>\n",
       "      <td>1</td>\n",
       "    </tr>\n",
       "  </tbody>\n",
       "</table>\n",
       "<p>100 rows × 5 columns</p>\n",
       "</div>"
      ],
      "text/plain": [
       "    -limit memory  -posterize  -gaussian-blur  -limit thread  -quality\n",
       "0               4           2               2              0         0\n",
       "1               0           0               1              2         0\n",
       "2               1           2               2              2         2\n",
       "3               3           3               1              0         1\n",
       "4               2           2               0              1         0\n",
       "..            ...         ...             ...            ...       ...\n",
       "95              3           0               1              1         2\n",
       "96              3           0               0              3         2\n",
       "97              0           3               2              1         2\n",
       "98              0           3               2              1         1\n",
       "99              2           2               1              3         1\n",
       "\n",
       "[100 rows x 5 columns]"
      ]
     },
     "execution_count": 31,
     "metadata": {},
     "output_type": "execute_result"
    }
   ],
   "source": [
    "df = pd.DataFrame({})\n",
    "\n",
    "nb_conf = 1000\n",
    "nb_conf_final = 100\n",
    "\n",
    "for d in dico.keys():\n",
    "    df[d] = np.random.randint(0,len(dico[d]),nb_conf)\n",
    "\n",
    "df = df.drop_duplicates()[0:nb_conf_final].reset_index().drop([\"index\"], axis=1)\n",
    "df"
   ]
  },
  {
   "cell_type": "code",
   "execution_count": 32,
   "metadata": {},
   "outputs": [],
   "source": [
    "df.to_csv('runtime_options.csv')"
   ]
  },
  {
   "cell_type": "code",
   "execution_count": 33,
   "metadata": {},
   "outputs": [],
   "source": [
    "for j in range(nb_conf_final):\n",
    "    with open(\"./scripts/\"+str(j)+\".sh\",\"w\") as f:\n",
    "        f.write('#!/bin/bash\\nnumb=\"'+str(j))\n",
    "        f.write('\"\\nlogfilename=\"./logs/$numb.log\"\\ninputlocation=\"$1\"\\n')\n",
    "        f.write(\"# execute the configuration and measure its time\\n\")\n",
    "        vals = df.iloc[j]\n",
    "        cmd_line = \"{ time ./ImageMagick/utilities/magick ./images/$inputlocation.JPEG \"\n",
    "        list_conf = \"\"\n",
    "        for i in range(len(vals)):\n",
    "            cmd_line+=cols[i]+\" \"+dico[cols[i]][vals[i]]+\" \"\n",
    "            list_conf+=str(dico[cols[i]][vals[i]])+\",\"\n",
    "            val_config = str(dico[cols[i]][vals[i]])\n",
    "            list_conf+=str(int(val_config == \"\"))+\",\"*(i!=(len(vals)-1))\n",
    "        cmd_line+= \" ./test.png; } 2> $logfilename\\n\"\n",
    "        f.write(cmd_line)\n",
    "        f.write(\"# extract compiled program size \\n\")\n",
    "        f.write(\"size=`ls -lrt ./test.png | awk '{print $5}'`\\n\")\n",
    "        f.write(\"# analyze log to extract relevant timing information and CPU usage\\n\")\n",
    "        f.write(\"\"\"time=`grep \"user\" $logfilename | sed 's/user/,/;s/elapsed/,/;s/system/,/' | cut -d \"%\" -f 1`\\n\"\"\")\n",
    "        f.write(\"# clean\\n\")\n",
    "        f.write(\"eval `rm test.png`\\n\")\n",
    "        f.write('''csvLine=\"$numb,''')\n",
    "        f.write(list_conf+'''\"\\n''')\n",
    "        f.write('''csvLine=\"$csvLine,$size,$time\"\\n''')\n",
    "        f.write('''echo $csvLine''')"
   ]
  },
  {
   "cell_type": "code",
   "execution_count": null,
   "metadata": {},
   "outputs": [],
   "source": []
  },
  {
   "cell_type": "code",
   "execution_count": null,
   "metadata": {},
   "outputs": [],
   "source": []
  },
  {
   "cell_type": "code",
   "execution_count": null,
   "metadata": {},
   "outputs": [],
   "source": []
  },
  {
   "cell_type": "code",
   "execution_count": null,
   "metadata": {},
   "outputs": [],
   "source": []
  },
  {
   "cell_type": "code",
   "execution_count": null,
   "metadata": {},
   "outputs": [],
   "source": []
  },
  {
   "cell_type": "code",
   "execution_count": null,
   "metadata": {},
   "outputs": [],
   "source": []
  },
  {
   "cell_type": "code",
   "execution_count": null,
   "metadata": {},
   "outputs": [],
   "source": []
  }
 ],
 "metadata": {
  "kernelspec": {
   "display_name": "Python 3",
   "language": "python",
   "name": "python3"
  },
  "language_info": {
   "codemirror_mode": {
    "name": "ipython",
    "version": 3
   },
   "file_extension": ".py",
   "mimetype": "text/x-python",
   "name": "python",
   "nbconvert_exporter": "python",
   "pygments_lexer": "ipython3",
   "version": "3.7.6"
  }
 },
 "nbformat": 4,
 "nbformat_minor": 4
}

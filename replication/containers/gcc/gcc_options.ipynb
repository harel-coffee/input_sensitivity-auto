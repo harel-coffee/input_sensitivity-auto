{
 "cells": [
  {
   "cell_type": "markdown",
   "metadata": {},
   "source": [
    "### Goal : Generate the configurations for gcc"
   ]
  },
  {
   "cell_type": "markdown",
   "metadata": {},
   "source": [
    "##### Libraries"
   ]
  },
  {
   "cell_type": "code",
   "execution_count": 1,
   "metadata": {},
   "outputs": [],
   "source": [
    "import os, time \n",
    "import numpy as np\n",
    "import pandas as pd\n",
    "from scipy import stats"
   ]
  },
  {
   "cell_type": "markdown",
   "metadata": {},
   "source": [
    "##### Runtime configs"
   ]
  },
  {
   "cell_type": "code",
   "execution_count": 2,
   "metadata": {},
   "outputs": [],
   "source": [
    "cols = [\"optim\", \"-floop-interchange\", \"-fprefetch-loop-arrays\", \"-ffloat-store\", \"-fno-asm\"]\n",
    "dico = dict({\"optim\" : [\"-O1\", \"-O2\", \"-O0\", \"-Ofast\", \"-Og\"],\n",
    "             \"-floop-interchange\" : [\"-floop-interchange\",\"\"],\n",
    "             \"-fprefetch-loop-arrays\" : [\"-fprefetch-loop-arrays\",\"\"],\n",
    "             \"-ffloat-store\" : [\"-ffloat-store\",\"\"],\n",
    "             \"-fno-asm\" : [\"-fno-asm\", \"\"]})"
   ]
  },
  {
   "cell_type": "code",
   "execution_count": 3,
   "metadata": {
    "scrolled": false
   },
   "outputs": [
    {
     "data": {
      "text/html": [
       "<div>\n",
       "<style scoped>\n",
       "    .dataframe tbody tr th:only-of-type {\n",
       "        vertical-align: middle;\n",
       "    }\n",
       "\n",
       "    .dataframe tbody tr th {\n",
       "        vertical-align: top;\n",
       "    }\n",
       "\n",
       "    .dataframe thead th {\n",
       "        text-align: right;\n",
       "    }\n",
       "</style>\n",
       "<table border=\"1\" class=\"dataframe\">\n",
       "  <thead>\n",
       "    <tr style=\"text-align: right;\">\n",
       "      <th></th>\n",
       "      <th>optim</th>\n",
       "      <th>-floop-interchange</th>\n",
       "      <th>-fprefetch-loop-arrays</th>\n",
       "      <th>-ffloat-store</th>\n",
       "      <th>-fno-asm</th>\n",
       "    </tr>\n",
       "  </thead>\n",
       "  <tbody>\n",
       "    <tr>\n",
       "      <th>0</th>\n",
       "      <td>1</td>\n",
       "      <td>1</td>\n",
       "      <td>1</td>\n",
       "      <td>0</td>\n",
       "      <td>0</td>\n",
       "    </tr>\n",
       "    <tr>\n",
       "      <th>1</th>\n",
       "      <td>4</td>\n",
       "      <td>1</td>\n",
       "      <td>1</td>\n",
       "      <td>0</td>\n",
       "      <td>1</td>\n",
       "    </tr>\n",
       "    <tr>\n",
       "      <th>2</th>\n",
       "      <td>4</td>\n",
       "      <td>0</td>\n",
       "      <td>1</td>\n",
       "      <td>0</td>\n",
       "      <td>0</td>\n",
       "    </tr>\n",
       "    <tr>\n",
       "      <th>3</th>\n",
       "      <td>2</td>\n",
       "      <td>1</td>\n",
       "      <td>0</td>\n",
       "      <td>1</td>\n",
       "      <td>0</td>\n",
       "    </tr>\n",
       "    <tr>\n",
       "      <th>4</th>\n",
       "      <td>1</td>\n",
       "      <td>0</td>\n",
       "      <td>0</td>\n",
       "      <td>0</td>\n",
       "      <td>0</td>\n",
       "    </tr>\n",
       "    <tr>\n",
       "      <th>...</th>\n",
       "      <td>...</td>\n",
       "      <td>...</td>\n",
       "      <td>...</td>\n",
       "      <td>...</td>\n",
       "      <td>...</td>\n",
       "    </tr>\n",
       "    <tr>\n",
       "      <th>75</th>\n",
       "      <td>0</td>\n",
       "      <td>1</td>\n",
       "      <td>0</td>\n",
       "      <td>0</td>\n",
       "      <td>1</td>\n",
       "    </tr>\n",
       "    <tr>\n",
       "      <th>76</th>\n",
       "      <td>1</td>\n",
       "      <td>1</td>\n",
       "      <td>0</td>\n",
       "      <td>1</td>\n",
       "      <td>1</td>\n",
       "    </tr>\n",
       "    <tr>\n",
       "      <th>77</th>\n",
       "      <td>4</td>\n",
       "      <td>1</td>\n",
       "      <td>1</td>\n",
       "      <td>1</td>\n",
       "      <td>0</td>\n",
       "    </tr>\n",
       "    <tr>\n",
       "      <th>78</th>\n",
       "      <td>0</td>\n",
       "      <td>0</td>\n",
       "      <td>0</td>\n",
       "      <td>0</td>\n",
       "      <td>0</td>\n",
       "    </tr>\n",
       "    <tr>\n",
       "      <th>79</th>\n",
       "      <td>0</td>\n",
       "      <td>1</td>\n",
       "      <td>0</td>\n",
       "      <td>1</td>\n",
       "      <td>1</td>\n",
       "    </tr>\n",
       "  </tbody>\n",
       "</table>\n",
       "<p>80 rows × 5 columns</p>\n",
       "</div>"
      ],
      "text/plain": [
       "    optim  -floop-interchange  -fprefetch-loop-arrays  -ffloat-store  -fno-asm\n",
       "0       1                   1                       1              0         0\n",
       "1       4                   1                       1              0         1\n",
       "2       4                   0                       1              0         0\n",
       "3       2                   1                       0              1         0\n",
       "4       1                   0                       0              0         0\n",
       "..    ...                 ...                     ...            ...       ...\n",
       "75      0                   1                       0              0         1\n",
       "76      1                   1                       0              1         1\n",
       "77      4                   1                       1              1         0\n",
       "78      0                   0                       0              0         0\n",
       "79      0                   1                       0              1         1\n",
       "\n",
       "[80 rows x 5 columns]"
      ]
     },
     "execution_count": 3,
     "metadata": {},
     "output_type": "execute_result"
    }
   ],
   "source": [
    "df = pd.DataFrame({})\n",
    "\n",
    "nb_conf = 1000\n",
    "nb_conf_final = 80\n",
    "\n",
    "for d in dico.keys():\n",
    "    df[d] = np.random.randint(0,len(dico[d]),nb_conf)\n",
    "\n",
    "df = df.drop_duplicates()[0:nb_conf_final].reset_index().drop([\"index\"], axis=1)\n",
    "df"
   ]
  },
  {
   "cell_type": "code",
   "execution_count": 4,
   "metadata": {},
   "outputs": [],
   "source": [
    "df.to_csv('runtime_options.csv')"
   ]
  },
  {
   "cell_type": "code",
   "execution_count": 10,
   "metadata": {},
   "outputs": [],
   "source": [
    "for j in range(nb_conf_final):\n",
    "    with open(\"./scripts/\"+str(j)+\".sh\",\"w\") as f:\n",
    "        f.write('#!/bin/bash\\nnumb=\"'+str(j))\n",
    "        f.write('\"\\nlogfilename=\"./logs/$numb.log\"\\ninputlocation=\"$1\"\\ninputname=\"$2\"\\n')\n",
    "        f.write(\"# execute the configuration and measure its time\\n\")\n",
    "        vals = df.iloc[j]\n",
    "        cmd_line = \"{ time gcc \"\n",
    "        list_conf = \"\"\n",
    "        for i in range(len(vals)):\n",
    "            if i ==0:\n",
    "                cmd_line+=dico[cols[i]][vals[i]]+\" \"\n",
    "                list_conf+=str(dico[cols[i]][vals[i]])+\",\"\n",
    "            else:\n",
    "                cmd_line+=dico[cols[i]][vals[i]]+\" \"\n",
    "                val_config = str(dico[cols[i]][vals[i]])\n",
    "                list_conf+=str(int(val_config == \"\"))+\",\"*(i!=(len(vals)-1))\n",
    "        cmd_line+= \" -I ./inputs/utilities -I ./inputs/$inputlocation ./inputs/utilities/polybench.c ./inputs/$inputlocation/$inputname.c -DPOLYBENCH_TIME -o ./test; } 2> $logfilename\\n\"\n",
    "        f.write(cmd_line)\n",
    "        f.write(\"# extract compiled program size \\n\")\n",
    "        f.write(\"size=`ls -lrt ./test | awk '{print $5}'`\\n\")\n",
    "        f.write(\"# analyze log to extract relevant timing information and CPU usage\\n\")\n",
    "        f.write(\"\"\"time=`grep \"user\" $logfilename | sed 's/user/,/;s/elapsed/,/;s/system/,/' | cut -d \"%\" -f 1`\\n\"\"\")\n",
    "        f.write(\"# clean\\n\")\n",
    "        f.write(\"\"\"time=`grep \"user\" $logfilename | sed 's/user/,/;s/elapsed/,/;s/system/,/' | cut -d \"%\" -f 1`\\n\"\"\")\n",
    "        f.write(\"exec=`./test`\\n\")\n",
    "        f.write(\"eval `rm test`\\n\")\n",
    "        f.write('''csvLine=\"$numb,''')\n",
    "        f.write(list_conf+'''\"\\n''')\n",
    "        f.write('''csvLine=\"$csvLine,$size,$time,$exec\"\\n''')\n",
    "        f.write('''echo $csvLine''')"
   ]
  },
  {
   "cell_type": "code",
   "execution_count": null,
   "metadata": {},
   "outputs": [],
   "source": []
  },
  {
   "cell_type": "code",
   "execution_count": null,
   "metadata": {},
   "outputs": [],
   "source": []
  },
  {
   "cell_type": "code",
   "execution_count": null,
   "metadata": {},
   "outputs": [],
   "source": []
  },
  {
   "cell_type": "code",
   "execution_count": null,
   "metadata": {},
   "outputs": [],
   "source": []
  },
  {
   "cell_type": "code",
   "execution_count": null,
   "metadata": {},
   "outputs": [],
   "source": []
  },
  {
   "cell_type": "code",
   "execution_count": null,
   "metadata": {},
   "outputs": [],
   "source": []
  },
  {
   "cell_type": "code",
   "execution_count": null,
   "metadata": {},
   "outputs": [],
   "source": []
  }
 ],
 "metadata": {
  "kernelspec": {
   "display_name": "Python 3",
   "language": "python",
   "name": "python3"
  },
  "language_info": {
   "codemirror_mode": {
    "name": "ipython",
    "version": 3
   },
   "file_extension": ".py",
   "mimetype": "text/x-python",
   "name": "python",
   "nbconvert_exporter": "python",
   "pygments_lexer": "ipython3",
   "version": "3.7.6"
  }
 },
 "nbformat": 4,
 "nbformat_minor": 4
}

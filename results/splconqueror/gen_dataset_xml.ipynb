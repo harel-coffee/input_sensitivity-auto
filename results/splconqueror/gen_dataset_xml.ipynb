{
 "cells": [
  {
   "cell_type": "code",
   "execution_count": 1,
   "metadata": {},
   "outputs": [],
   "source": [
    "import xml\n",
    "import pandas as pd\n",
    "import xml.etree.ElementTree as ET\n",
    "import numpy as np"
   ]
  },
  {
   "cell_type": "code",
   "execution_count": 3,
   "metadata": {},
   "outputs": [],
   "source": [
    "# name = \"Animation_720P-0acc.csv\"\n",
    "name = \"Animation_1080P-3d67.csv\"\n",
    "\n",
    "var = ['cabac', 'ref', 'subme', 'mixed_ref', 'me_range', 'trellis', '8x8dct', 'fast_pskip', 'chroma_qp_offset',\n",
    "       'bframes', 'b_pyramid', 'b_adapt', 'weightb', 'open_gop', 'weightp', 'scenecut', 'rc_lookahead', \n",
    "       'mbtree', 'qpmax', 'aq-mode', 'size']\n",
    "\n",
    "data = pd.read_csv(name,index_col=0)[var]\n",
    "sizes = np.array(data[\"size\"])\n",
    "std_sizes = [(sizes[k]-np.mean(sizes))/np.std(sizes) for k in range(len(sizes))]\n",
    "df = pd.get_dummies(data, columns=data.columns[:-1])\n",
    "\n",
    "# data[\"size\"]\n",
    "\n",
    "names = df.columns\n",
    "\n",
    "vm = ET.Element(\"vm\", name = name[:-4])\n",
    "bin_opt = ET.SubElement(vm, \"binaryOptions\")\n",
    "\n",
    "for nbo in names:\n",
    "    inter = ET.SubElement(bin_opt, \"configurationOption\")\n",
    "    ET.SubElement(inter, \"name\").text = nbo\n",
    "    ET.SubElement(inter, \"optional\").text = \"True\"\n",
    "\n",
    "tree = ET.ElementTree(vm)\n",
    "tree.write(\"fm\"+name[:-4]+\".xml\")\n",
    "\n",
    "vm = ET.Element(\"results\")\n",
    "\n",
    "\n",
    "for i in range(df.shape[0]):\n",
    "    num_opt = ET.SubElement(vm, \"row\")\n",
    "    inter = ET.SubElement(num_opt, \"data\")\n",
    "    inter.set(\"columnname\",\"Configuration\")\n",
    "    final_config=\"\"\n",
    "    for col in df.columns:\n",
    "        arr = np.copy(df[col])\n",
    "        if col != \"size\" and arr[i]:\n",
    "            final_config+=col+','\n",
    "    inter.text = final_config\n",
    "    inter = ET.SubElement(num_opt, \"data\")\n",
    "    inter.set(\"columnname\",\"size\")\n",
    "    inter.text = str(std_sizes[i])\n",
    "    \n",
    "\n",
    "tree = ET.ElementTree(vm)\n",
    "tree.write(\"measurement_\"+name[:-4]+\".xml\")"
   ]
  },
  {
   "cell_type": "code",
   "execution_count": null,
   "metadata": {},
   "outputs": [],
   "source": []
  },
  {
   "cell_type": "code",
   "execution_count": null,
   "metadata": {},
   "outputs": [],
   "source": []
  },
  {
   "cell_type": "code",
   "execution_count": null,
   "metadata": {},
   "outputs": [],
   "source": []
  },
  {
   "cell_type": "code",
   "execution_count": null,
   "metadata": {},
   "outputs": [],
   "source": []
  },
  {
   "cell_type": "code",
   "execution_count": null,
   "metadata": {},
   "outputs": [],
   "source": []
  },
  {
   "cell_type": "code",
   "execution_count": null,
   "metadata": {},
   "outputs": [],
   "source": []
  },
  {
   "cell_type": "code",
   "execution_count": null,
   "metadata": {},
   "outputs": [],
   "source": []
  },
  {
   "cell_type": "code",
   "execution_count": null,
   "metadata": {},
   "outputs": [],
   "source": []
  },
  {
   "cell_type": "code",
   "execution_count": null,
   "metadata": {},
   "outputs": [],
   "source": []
  },
  {
   "cell_type": "code",
   "execution_count": null,
   "metadata": {},
   "outputs": [],
   "source": []
  },
  {
   "cell_type": "code",
   "execution_count": null,
   "metadata": {},
   "outputs": [],
   "source": []
  }
 ],
 "metadata": {
  "kernelspec": {
   "display_name": "Python 3",
   "language": "python",
   "name": "python3"
  },
  "language_info": {
   "codemirror_mode": {
    "name": "ipython",
    "version": 3
   },
   "file_extension": ".py",
   "mimetype": "text/x-python",
   "name": "python",
   "nbconvert_exporter": "python",
   "pygments_lexer": "ipython3",
   "version": "3.7.6"
  }
 },
 "nbformat": 4,
 "nbformat_minor": 2
}

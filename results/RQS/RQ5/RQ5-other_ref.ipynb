{
 "cells": [
  {
   "cell_type": "markdown",
   "metadata": {},
   "source": [
    "# Replication with ICPE \"Sampling Effect ...\""
   ]
  },
  {
   "cell_type": "markdown",
   "metadata": {},
   "source": [
    "#### First, we import some libraries"
   ]
  },
  {
   "cell_type": "code",
   "execution_count": 21,
   "metadata": {},
   "outputs": [],
   "source": [
    "# for arrays\n",
    "import numpy as np\n",
    "\n",
    "# for dataframes\n",
    "import pandas as pd\n",
    "\n",
    "# plots\n",
    "import matplotlib.pyplot as plt\n",
    "# high-level plots\n",
    "import seaborn as sns\n",
    "\n",
    "# statistics\n",
    "import scipy.stats as sc\n",
    "# hierarchical clustering, clusters\n",
    "from scipy.cluster.hierarchy import linkage, cut_tree, leaves_list\n",
    "from scipy import stats\n",
    "# statistical tests\n",
    "from scipy.stats import mannwhitneyu\n",
    "\n",
    "# machine learning library\n",
    "# Principal Component Analysis - determine new axis for representing data\n",
    "from sklearn.decomposition import PCA\n",
    "# Random Forests -> vote between decision trees\n",
    "# Gradient boosting -> instead of a vote, upgrade the same tree\n",
    "from sklearn.ensemble import RandomForestRegressor, RandomForestClassifier, GradientBoostingClassifier\n",
    "# Decision Tree\n",
    "from sklearn.tree import DecisionTreeRegressor, plot_tree\n",
    "# To add interactions in linear regressions models\n",
    "from sklearn.preprocessing import PolynomialFeatures\n",
    "# Elasticnet is an hybrid method between ridge and Lasso\n",
    "from sklearn.linear_model import LinearRegression, ElasticNet\n",
    "# To separate the data into training and test\n",
    "from sklearn.model_selection import train_test_split\n",
    "# Simple clustering (iterative steps)\n",
    "from sklearn.cluster import KMeans\n",
    "# get interactions of features\n",
    "from sklearn.preprocessing import PolynomialFeatures\n",
    "\n",
    "\n",
    "# we use it to interact with the file system\n",
    "import os\n",
    "# compute time\n",
    "from time import time\n",
    "\n",
    "# statistics\n",
    "import scipy.stats as sc\n",
    "# hierarchical clustering, clusters\n",
    "from scipy.cluster.hierarchy import linkage, cut_tree, leaves_list\n",
    "from scipy import stats\n",
    "# statistical tests\n",
    "from scipy.stats import mannwhitneyu\n",
    "\n",
    "# no warning\n",
    "import warnings\n",
    "warnings.filterwarnings(\"ignore\")"
   ]
  },
  {
   "cell_type": "markdown",
   "metadata": {},
   "source": [
    "### Import data"
   ]
  },
  {
   "cell_type": "code",
   "execution_count": 22,
   "metadata": {},
   "outputs": [],
   "source": [
    "ref_dir = './ICPE_sampling/'\n",
    "inputs_count = 13\n",
    "perf = [\"size\", \"time\"]\n",
    "\n",
    "data = dict()\n",
    "for i in range(inputs_count):\n",
    "    df = pd.read_csv(ref_dir+str(i)+'.csv', dtype= float)\n",
    "    df2 = pd.get_dummies(df.drop([\"configurationID\", \"size\", \n",
    "                                  \"usertime\", \"systemtime\", \"elapsedtime\"], axis = 1),\n",
    "                         columns= [\"ref\", \"rc_lookahead\"], \n",
    "                         dtype = float)\n",
    "    df2[\"size\"] = df[\"size\"]\n",
    "    df2[\"time\"] = df[\"elapsedtime\"]\n",
    "    data[i] = df2\n",
    "\n",
    "inputs_feat = df2.columns[:len(df2.columns)-2]"
   ]
  },
  {
   "cell_type": "code",
   "execution_count": 23,
   "metadata": {},
   "outputs": [
    {
     "data": {
      "text/html": [
       "<div>\n",
       "<style scoped>\n",
       "    .dataframe tbody tr th:only-of-type {\n",
       "        vertical-align: middle;\n",
       "    }\n",
       "\n",
       "    .dataframe tbody tr th {\n",
       "        vertical-align: top;\n",
       "    }\n",
       "\n",
       "    .dataframe thead th {\n",
       "        text-align: right;\n",
       "    }\n",
       "</style>\n",
       "<table border=\"1\" class=\"dataframe\">\n",
       "  <thead>\n",
       "    <tr style=\"text-align: right;\">\n",
       "      <th></th>\n",
       "      <th>H264</th>\n",
       "      <th>no_8x8dct</th>\n",
       "      <th>no_asm</th>\n",
       "      <th>no_cabac</th>\n",
       "      <th>no_deblock</th>\n",
       "      <th>no_fast_pskip</th>\n",
       "      <th>no_mbtree</th>\n",
       "      <th>no_mixed_refs</th>\n",
       "      <th>no_weightb</th>\n",
       "      <th>ref_1.0</th>\n",
       "      <th>ref_5.0</th>\n",
       "      <th>ref_9.0</th>\n",
       "      <th>rc_lookahead_20.0</th>\n",
       "      <th>rc_lookahead_40.0</th>\n",
       "      <th>rc_lookahead_60.0</th>\n",
       "      <th>size</th>\n",
       "      <th>time</th>\n",
       "    </tr>\n",
       "  </thead>\n",
       "  <tbody>\n",
       "    <tr>\n",
       "      <th>0</th>\n",
       "      <td>1.0</td>\n",
       "      <td>1.0</td>\n",
       "      <td>1.0</td>\n",
       "      <td>0.0</td>\n",
       "      <td>1.0</td>\n",
       "      <td>1.0</td>\n",
       "      <td>0.0</td>\n",
       "      <td>1.0</td>\n",
       "      <td>1.0</td>\n",
       "      <td>0.0</td>\n",
       "      <td>0.0</td>\n",
       "      <td>1.0</td>\n",
       "      <td>1.0</td>\n",
       "      <td>0.0</td>\n",
       "      <td>0.0</td>\n",
       "      <td>48.0</td>\n",
       "      <td>0.755</td>\n",
       "    </tr>\n",
       "    <tr>\n",
       "      <th>1</th>\n",
       "      <td>1.0</td>\n",
       "      <td>1.0</td>\n",
       "      <td>1.0</td>\n",
       "      <td>1.0</td>\n",
       "      <td>0.0</td>\n",
       "      <td>1.0</td>\n",
       "      <td>0.0</td>\n",
       "      <td>0.0</td>\n",
       "      <td>1.0</td>\n",
       "      <td>0.0</td>\n",
       "      <td>0.0</td>\n",
       "      <td>1.0</td>\n",
       "      <td>0.0</td>\n",
       "      <td>1.0</td>\n",
       "      <td>0.0</td>\n",
       "      <td>56.0</td>\n",
       "      <td>0.856</td>\n",
       "    </tr>\n",
       "    <tr>\n",
       "      <th>2</th>\n",
       "      <td>1.0</td>\n",
       "      <td>1.0</td>\n",
       "      <td>1.0</td>\n",
       "      <td>0.0</td>\n",
       "      <td>1.0</td>\n",
       "      <td>0.0</td>\n",
       "      <td>1.0</td>\n",
       "      <td>1.0</td>\n",
       "      <td>0.0</td>\n",
       "      <td>1.0</td>\n",
       "      <td>0.0</td>\n",
       "      <td>0.0</td>\n",
       "      <td>0.0</td>\n",
       "      <td>1.0</td>\n",
       "      <td>0.0</td>\n",
       "      <td>64.0</td>\n",
       "      <td>0.341</td>\n",
       "    </tr>\n",
       "    <tr>\n",
       "      <th>3</th>\n",
       "      <td>1.0</td>\n",
       "      <td>1.0</td>\n",
       "      <td>1.0</td>\n",
       "      <td>1.0</td>\n",
       "      <td>0.0</td>\n",
       "      <td>1.0</td>\n",
       "      <td>1.0</td>\n",
       "      <td>1.0</td>\n",
       "      <td>0.0</td>\n",
       "      <td>0.0</td>\n",
       "      <td>0.0</td>\n",
       "      <td>1.0</td>\n",
       "      <td>0.0</td>\n",
       "      <td>1.0</td>\n",
       "      <td>0.0</td>\n",
       "      <td>64.0</td>\n",
       "      <td>0.760</td>\n",
       "    </tr>\n",
       "    <tr>\n",
       "      <th>4</th>\n",
       "      <td>1.0</td>\n",
       "      <td>0.0</td>\n",
       "      <td>1.0</td>\n",
       "      <td>0.0</td>\n",
       "      <td>1.0</td>\n",
       "      <td>0.0</td>\n",
       "      <td>0.0</td>\n",
       "      <td>1.0</td>\n",
       "      <td>0.0</td>\n",
       "      <td>0.0</td>\n",
       "      <td>1.0</td>\n",
       "      <td>0.0</td>\n",
       "      <td>0.0</td>\n",
       "      <td>0.0</td>\n",
       "      <td>1.0</td>\n",
       "      <td>56.0</td>\n",
       "      <td>0.484</td>\n",
       "    </tr>\n",
       "    <tr>\n",
       "      <th>...</th>\n",
       "      <td>...</td>\n",
       "      <td>...</td>\n",
       "      <td>...</td>\n",
       "      <td>...</td>\n",
       "      <td>...</td>\n",
       "      <td>...</td>\n",
       "      <td>...</td>\n",
       "      <td>...</td>\n",
       "      <td>...</td>\n",
       "      <td>...</td>\n",
       "      <td>...</td>\n",
       "      <td>...</td>\n",
       "      <td>...</td>\n",
       "      <td>...</td>\n",
       "      <td>...</td>\n",
       "      <td>...</td>\n",
       "      <td>...</td>\n",
       "    </tr>\n",
       "    <tr>\n",
       "      <th>1147</th>\n",
       "      <td>1.0</td>\n",
       "      <td>1.0</td>\n",
       "      <td>1.0</td>\n",
       "      <td>1.0</td>\n",
       "      <td>1.0</td>\n",
       "      <td>0.0</td>\n",
       "      <td>1.0</td>\n",
       "      <td>1.0</td>\n",
       "      <td>1.0</td>\n",
       "      <td>1.0</td>\n",
       "      <td>0.0</td>\n",
       "      <td>0.0</td>\n",
       "      <td>1.0</td>\n",
       "      <td>0.0</td>\n",
       "      <td>0.0</td>\n",
       "      <td>68.0</td>\n",
       "      <td>0.359</td>\n",
       "    </tr>\n",
       "    <tr>\n",
       "      <th>1148</th>\n",
       "      <td>1.0</td>\n",
       "      <td>1.0</td>\n",
       "      <td>1.0</td>\n",
       "      <td>1.0</td>\n",
       "      <td>0.0</td>\n",
       "      <td>1.0</td>\n",
       "      <td>1.0</td>\n",
       "      <td>1.0</td>\n",
       "      <td>0.0</td>\n",
       "      <td>1.0</td>\n",
       "      <td>0.0</td>\n",
       "      <td>0.0</td>\n",
       "      <td>0.0</td>\n",
       "      <td>1.0</td>\n",
       "      <td>0.0</td>\n",
       "      <td>64.0</td>\n",
       "      <td>0.344</td>\n",
       "    </tr>\n",
       "    <tr>\n",
       "      <th>1149</th>\n",
       "      <td>1.0</td>\n",
       "      <td>0.0</td>\n",
       "      <td>1.0</td>\n",
       "      <td>0.0</td>\n",
       "      <td>0.0</td>\n",
       "      <td>0.0</td>\n",
       "      <td>1.0</td>\n",
       "      <td>1.0</td>\n",
       "      <td>0.0</td>\n",
       "      <td>1.0</td>\n",
       "      <td>0.0</td>\n",
       "      <td>0.0</td>\n",
       "      <td>0.0</td>\n",
       "      <td>1.0</td>\n",
       "      <td>0.0</td>\n",
       "      <td>64.0</td>\n",
       "      <td>0.348</td>\n",
       "    </tr>\n",
       "    <tr>\n",
       "      <th>1150</th>\n",
       "      <td>1.0</td>\n",
       "      <td>1.0</td>\n",
       "      <td>1.0</td>\n",
       "      <td>1.0</td>\n",
       "      <td>0.0</td>\n",
       "      <td>1.0</td>\n",
       "      <td>1.0</td>\n",
       "      <td>1.0</td>\n",
       "      <td>0.0</td>\n",
       "      <td>0.0</td>\n",
       "      <td>1.0</td>\n",
       "      <td>0.0</td>\n",
       "      <td>0.0</td>\n",
       "      <td>1.0</td>\n",
       "      <td>0.0</td>\n",
       "      <td>64.0</td>\n",
       "      <td>0.547</td>\n",
       "    </tr>\n",
       "    <tr>\n",
       "      <th>1151</th>\n",
       "      <td>1.0</td>\n",
       "      <td>0.0</td>\n",
       "      <td>1.0</td>\n",
       "      <td>1.0</td>\n",
       "      <td>1.0</td>\n",
       "      <td>1.0</td>\n",
       "      <td>1.0</td>\n",
       "      <td>1.0</td>\n",
       "      <td>0.0</td>\n",
       "      <td>0.0</td>\n",
       "      <td>0.0</td>\n",
       "      <td>1.0</td>\n",
       "      <td>0.0</td>\n",
       "      <td>0.0</td>\n",
       "      <td>1.0</td>\n",
       "      <td>68.0</td>\n",
       "      <td>0.790</td>\n",
       "    </tr>\n",
       "  </tbody>\n",
       "</table>\n",
       "<p>1152 rows × 17 columns</p>\n",
       "</div>"
      ],
      "text/plain": [
       "      H264  no_8x8dct  no_asm  no_cabac  no_deblock  no_fast_pskip  no_mbtree  \\\n",
       "0      1.0        1.0     1.0       0.0         1.0            1.0        0.0   \n",
       "1      1.0        1.0     1.0       1.0         0.0            1.0        0.0   \n",
       "2      1.0        1.0     1.0       0.0         1.0            0.0        1.0   \n",
       "3      1.0        1.0     1.0       1.0         0.0            1.0        1.0   \n",
       "4      1.0        0.0     1.0       0.0         1.0            0.0        0.0   \n",
       "...    ...        ...     ...       ...         ...            ...        ...   \n",
       "1147   1.0        1.0     1.0       1.0         1.0            0.0        1.0   \n",
       "1148   1.0        1.0     1.0       1.0         0.0            1.0        1.0   \n",
       "1149   1.0        0.0     1.0       0.0         0.0            0.0        1.0   \n",
       "1150   1.0        1.0     1.0       1.0         0.0            1.0        1.0   \n",
       "1151   1.0        0.0     1.0       1.0         1.0            1.0        1.0   \n",
       "\n",
       "      no_mixed_refs  no_weightb  ref_1.0  ref_5.0  ref_9.0  rc_lookahead_20.0  \\\n",
       "0               1.0         1.0      0.0      0.0      1.0                1.0   \n",
       "1               0.0         1.0      0.0      0.0      1.0                0.0   \n",
       "2               1.0         0.0      1.0      0.0      0.0                0.0   \n",
       "3               1.0         0.0      0.0      0.0      1.0                0.0   \n",
       "4               1.0         0.0      0.0      1.0      0.0                0.0   \n",
       "...             ...         ...      ...      ...      ...                ...   \n",
       "1147            1.0         1.0      1.0      0.0      0.0                1.0   \n",
       "1148            1.0         0.0      1.0      0.0      0.0                0.0   \n",
       "1149            1.0         0.0      1.0      0.0      0.0                0.0   \n",
       "1150            1.0         0.0      0.0      1.0      0.0                0.0   \n",
       "1151            1.0         0.0      0.0      0.0      1.0                0.0   \n",
       "\n",
       "      rc_lookahead_40.0  rc_lookahead_60.0  size   time  \n",
       "0                   0.0                0.0  48.0  0.755  \n",
       "1                   1.0                0.0  56.0  0.856  \n",
       "2                   1.0                0.0  64.0  0.341  \n",
       "3                   1.0                0.0  64.0  0.760  \n",
       "4                   0.0                1.0  56.0  0.484  \n",
       "...                 ...                ...   ...    ...  \n",
       "1147                0.0                0.0  68.0  0.359  \n",
       "1148                1.0                0.0  64.0  0.344  \n",
       "1149                1.0                0.0  64.0  0.348  \n",
       "1150                1.0                0.0  64.0  0.547  \n",
       "1151                0.0                1.0  68.0  0.790  \n",
       "\n",
       "[1152 rows x 17 columns]"
      ]
     },
     "execution_count": 23,
     "metadata": {},
     "output_type": "execute_result"
    }
   ],
   "source": [
    "data[0]"
   ]
  },
  {
   "cell_type": "code",
   "execution_count": null,
   "metadata": {},
   "outputs": [],
   "source": []
  },
  {
   "cell_type": "code",
   "execution_count": null,
   "metadata": {},
   "outputs": [],
   "source": []
  },
  {
   "cell_type": "markdown",
   "metadata": {},
   "source": [
    "# RQ1 results"
   ]
  },
  {
   "cell_type": "code",
   "execution_count": 24,
   "metadata": {},
   "outputs": [],
   "source": [
    "def plot_correlationmatrix_dendogram(dim):\n",
    "    # dim : dimension\n",
    "    # output : a plot of an ordered correlogram\n",
    "    \n",
    "    # number of inputs\n",
    "    inputs_nb = inputs_count\n",
    "\n",
    "    corr = [[0 for x in range(inputs_nb)] for y in range(inputs_nb)]\n",
    "\n",
    "    for i in range(inputs_nb):\n",
    "        for j in range(inputs_nb):\n",
    "            # A distribution of bitrates will have a correlaiton of 1 with itself\n",
    "            if (i == j):\n",
    "                corr[i][j] = 1\n",
    "            else:\n",
    "                # we compute the Spearman correlation between the input video i and the input video j\n",
    "                corr[i][j] = sc.spearmanr(data[i][dim],\n",
    "                                          data[j][dim]).correlation\n",
    "\n",
    "    # we transform our matrix into a dataframe\n",
    "    df = pd.DataFrame(corr)\n",
    "    # we replace nan correlations (with a distribution whose values are all equal to 0)\n",
    "    df = df.fillna(0)\n",
    "\n",
    "    # group the videos, we choose the ward method \n",
    "    # single link method (minimum of distance) leads to numerous tiny clusters\n",
    "    # centroid or average tend to split homogeneous clusters\n",
    "    # and complete link aggregates unbalanced groups. \n",
    "    links = linkage(df, method=\"ward\",)\n",
    "    order = leaves_list(links)\n",
    "    \n",
    "    # Generate a mask for the upper triangle\n",
    "    # we order the correlation following the aggregation clustering\n",
    "    mask = np.zeros_like(corr, dtype=np.bool)\n",
    "\n",
    "    for i in range(inputs_nb):\n",
    "        for j in range(inputs_nb):    \n",
    "            if i>j:\n",
    "                mask[order[i]][order[j]] = True\n",
    "    \n",
    "    # compute the actual clustermap\n",
    "    g = sns.clustermap(df, cmap=\"vlag\", mask=mask, method=\"ward\",\n",
    "                   linewidths=0, figsize=(13, 13), \n",
    "                   cbar_kws={\"ticks\":[k/5 for k in np.arange(-10,10,1)]}, \n",
    "                   vmin =-1)\n",
    "    g.ax_heatmap.set_yticklabels([])\n",
    "    g.ax_heatmap.set_xticklabels([])\n",
    "    g.ax_heatmap.tick_params(right=False, bottom=False)\n",
    "    # abcissa and ordered labels\n",
    "    g.ax_heatmap.set_xlabel(\"Inputs\", fontsize = 18)\n",
    "    g.ax_heatmap.set_ylabel(\"Inputs\", fontsize = 18)\n",
    "    # we save the figure in the result folder\n",
    "    #plt.savefig(\"../../../results/systems/\"+ns+\"/\"+\"corr_\"+dim+\".png\")\n",
    "    # we show the graph\n",
    "    plt.show()\n",
    "    \n",
    "    return corr\n",
    "\n",
    "def describe(corr):\n",
    "    \n",
    "    corrDescription = [corr[i][j] for i in range(len(corr)) \n",
    "                              for j in range(len(corr)) if i >j]\n",
    "    \n",
    "    return np.round(pd.Series(corrDescription).describe(), 2)"
   ]
  },
  {
   "cell_type": "markdown",
   "metadata": {},
   "source": [
    "## x264 - time"
   ]
  },
  {
   "cell_type": "code",
   "execution_count": 25,
   "metadata": {
    "scrolled": false
   },
   "outputs": [
    {
     "data": {
      "image/png": "[encoded data removed]",
      "text/plain": [
       "<Figure size 936x936 with 4 Axes>"
      ]
     },
     "metadata": {
      "needs_background": "light"
     },
     "output_type": "display_data"
    }
   ],
   "source": [
    "corr_time = plot_correlationmatrix_dendogram(\"time\")"
   ]
  },
  {
   "cell_type": "code",
   "execution_count": 26,
   "metadata": {},
   "outputs": [
    {
     "data": {
      "text/plain": [
       "count    78.00\n",
       "mean      0.94\n",
       "std       0.05\n",
       "min       0.72\n",
       "25%       0.92\n",
       "50%       0.96\n",
       "75%       0.98\n",
       "max       1.00\n",
       "dtype: float64"
      ]
     },
     "execution_count": 26,
     "metadata": {},
     "output_type": "execute_result"
    }
   ],
   "source": [
    "describe(corr_time)"
   ]
  },
  {
   "cell_type": "markdown",
   "metadata": {},
   "source": [
    "## x264 - size"
   ]
  },
  {
   "cell_type": "code",
   "execution_count": 27,
   "metadata": {
    "scrolled": false
   },
   "outputs": [
    {
     "data": {
      "image/png": "[encoded data removed]",
      "text/plain": [
       "<Figure size 936x936 with 4 Axes>"
      ]
     },
     "metadata": {
      "needs_background": "light"
     },
     "output_type": "display_data"
    }
   ],
   "source": [
    "corr_size = plot_correlationmatrix_dendogram(\"size\")"
   ]
  },
  {
   "cell_type": "code",
   "execution_count": 28,
   "metadata": {},
   "outputs": [
    {
     "data": {
      "text/plain": [
       "count    78.00\n",
       "mean      0.54\n",
       "std       0.55\n",
       "min      -0.64\n",
       "25%       0.10\n",
       "50%       0.87\n",
       "75%       0.90\n",
       "max       1.00\n",
       "dtype: float64"
      ]
     },
     "execution_count": 28,
     "metadata": {},
     "output_type": "execute_result"
    }
   ],
   "source": [
    "describe(corr_size)"
   ]
  },
  {
   "cell_type": "markdown",
   "metadata": {},
   "source": [
    "# RQ2 results"
   ]
  },
  {
   "cell_type": "code",
   "execution_count": 29,
   "metadata": {},
   "outputs": [],
   "source": [
    "def compute_importances(dim):\n",
    "    # input : a list of videos\n",
    "    # output : a dataframe of feature importances\n",
    "    \n",
    "    # the final list of importances\n",
    "    listImportances = []\n",
    "    \n",
    "    features = inputs_feat\n",
    "    to_keep = [f for f in features]\n",
    "    to_keep.append(dim)\n",
    "\n",
    "    # for each video of the list\n",
    "    for id_input in range(inputs_count):\n",
    "        \n",
    "        # we replace missing numbers by 0\n",
    "        df = data[id_input][to_keep]\n",
    "        \n",
    "        df = df.replace(to_replace = \"None\", value = '0')\n",
    "        \n",
    "        # standardization\n",
    "        for col in features:\n",
    "            # we center and reduce the quantitative variables\n",
    "            # i.e substract the mean, and divide by the standard deviation\n",
    "            # to avoid the scale of the vars to interfere with the learning process\n",
    "            arr_col = np.array(df[col], float)\n",
    "            arr_col = (arr_col-np.mean(arr_col))/(np.std(arr_col)+1e-5)\n",
    "            df[col] = arr_col\n",
    "        \n",
    "        # for each video, we train a model\n",
    "        clf = RandomForestRegressor(n_estimators=20)\n",
    "        # we use all the configuration options as predicting variables\n",
    "        X = df.drop([dim], axis=1)\n",
    "        # and the bitrate distribution of the video as a variable to predict\n",
    "        y = df[dim]\n",
    "        # we train the model on all the data (not train-test since we don't use the model)\n",
    "        clf.fit(X, y)\n",
    "        \n",
    "        # we add feature importances to the list\n",
    "        listImportances.append(clf.feature_importances_)\n",
    "    \n",
    "    # final dataframe of feature importances\n",
    "    res = pd.DataFrame({'features' : features})\n",
    "    \n",
    "    # significative numbers p, cs = 10^p\n",
    "    cs = 100\n",
    "    \n",
    "    # we add the feature imps to the dataframe \n",
    "    for id_input in range(len(listImportances)):\n",
    "        res['video_'+str(id_input)] = np.round(cs*listImportances[id_input])/cs\n",
    "    \n",
    "    # transpose it\n",
    "    res = res.set_index('features').transpose()\n",
    "    \n",
    "    # return it \n",
    "    return res"
   ]
  },
  {
   "cell_type": "code",
   "execution_count": 30,
   "metadata": {},
   "outputs": [],
   "source": [
    "def compute_coefs(dim):\n",
    "    # input : a list of videos\n",
    "    # output : a dataframe of feature importances\n",
    "    \n",
    "    # the final list of coefficients\n",
    "    listCoefs = []\n",
    "    \n",
    "    features = inputs_feat\n",
    "    to_keep = [f for f in features]\n",
    "    to_keep.append(dim)\n",
    "\n",
    "    # for each video of the list\n",
    "    for id_input in range(inputs_count):\n",
    "        \n",
    "        # we replace missing numbers by 0\n",
    "        df = data[id_input][to_keep]\n",
    "        \n",
    "        df = df.replace(to_replace = \"NaN\", value = '0')\n",
    "        df = df.replace(to_replace = \"None\", value = '0')\n",
    "\n",
    "        # standardization\n",
    "        for col in to_keep:\n",
    "            # we center and reduce the quantitative variables\n",
    "            # i.e substract the mean, and divide by the standard deviation\n",
    "            # to avoid the scale of the vars to interfere with the learning process\n",
    "            arr_col = np.array(df[col], float)\n",
    "            arr_col = (arr_col-np.mean(arr_col))/(np.std(arr_col)+1e-5)\n",
    "            df[col] = arr_col\n",
    "\n",
    "        # for each video, we train a model\n",
    "        indexes = np.array([k for k in range(len(df[dim])) \n",
    "                            if df[dim][k] != float(\"inf\") and not np.isnan(df[dim][k])],int)\n",
    "        lr = LinearRegression()\n",
    "        # we use all the configuration options as predicting variables\n",
    "        X = df.drop([dim], axis=1)\n",
    "        # and the bitrate distribution of the video as a variable to predict\n",
    "        y = [float(k) for k in df[dim]]\n",
    "        #print(y)\n",
    "        # we train the model on all the data (not train-test since we don't use the model)\n",
    "        lr.fit(X, y)\n",
    "        # we add feature importances to the list\n",
    "        listCoefs.append(lr.coef_)\n",
    "    \n",
    "    # final dataframe of feature importances\n",
    "    res = pd.DataFrame({'features' : features})\n",
    "    \n",
    "    # significative numbers p, cs = 10^p\n",
    "    cs = 100\n",
    "    \n",
    "    # we add the feature imps to the dataframe \n",
    "    for id_input in range(len(listCoefs)):\n",
    "        res['video_'+str(id_input)] = np.round(cs*listCoefs[id_input])/cs\n",
    "    \n",
    "    # transpose it\n",
    "    res = res.set_index('features').transpose()\n",
    "    \n",
    "    # return it \n",
    "    return res"
   ]
  },
  {
   "cell_type": "code",
   "execution_count": 31,
   "metadata": {},
   "outputs": [],
   "source": [
    "def boxplot_imp(dim, xlim = None, xname='Importances'):\n",
    "    ### in: \n",
    "    #### ns the name of the system\n",
    "    #### dim the name of the current performance property\n",
    "    #### xlim limits if needed to focus on the important part of the chart\n",
    "    #### xname the name of the abcissae and if we compute the importances or the effects\n",
    "    ### out :\n",
    "    #### a boxplot (saved in the system file)\n",
    "    \n",
    "    if xname == 'Importances':\n",
    "        res = compute_importances(dim)\n",
    "    else:\n",
    "        res = compute_coefs(dim)\n",
    "    \n",
    "    # sort by names\n",
    "    listImp = [(np.abs(np.percentile(res[col],75)-np.percentile(res[col],25)),res[col], col) \n",
    "               for col in res.columns]\n",
    "    listImp.sort(key=lambda tup: tup[2], reverse=True)\n",
    "\n",
    "    # see figures 2a and 2b\n",
    "    red_square = dict(markerfacecolor='r', marker='s')\n",
    "    plt.figure(figsize=(15,8))\n",
    "    plt.grid()\n",
    "    plt.boxplot([l[1] for l in listImp], flierprops=red_square, \n",
    "              vert=False, patch_artist=True, #widths=0.25,\n",
    "              boxprops=dict(facecolor=(0,0,1,0.5),linewidth=1,edgecolor='k'),\n",
    "              whiskerprops = dict(linestyle='-.',linewidth=1.0, color='black'))\n",
    "    plt.xlabel(xname, size=13)\n",
    "    if xlim:\n",
    "        plt.xlim(xlim)\n",
    "    plt.yticks(range(1, len(listImp) + 1), [l[2] for l in listImp])\n",
    "    plt.show()"
   ]
  },
  {
   "cell_type": "markdown",
   "metadata": {},
   "source": [
    "## x264 - time"
   ]
  },
  {
   "cell_type": "code",
   "execution_count": 32,
   "metadata": {
    "scrolled": false
   },
   "outputs": [
    {
     "data": {
      "image/png": "[encoded data removed]",
      "text/plain": [
       "<Figure size 1080x576 with 1 Axes>"
      ]
     },
     "metadata": {
      "needs_background": "light"
     },
     "output_type": "display_data"
    }
   ],
   "source": [
    "boxplot_imp(\"time\", xlim =[0,1], xname='Importances')"
   ]
  },
  {
   "cell_type": "code",
   "execution_count": 33,
   "metadata": {},
   "outputs": [
    {
     "data": {
      "image/png": "[encoded data removed]",
      "text/plain": [
       "<Figure size 1080x576 with 1 Axes>"
      ]
     },
     "metadata": {
      "needs_background": "light"
     },
     "output_type": "display_data"
    }
   ],
   "source": [
    "boxplot_imp(\"time\", xlim =[0,1], xname='Coefs')"
   ]
  },
  {
   "cell_type": "markdown",
   "metadata": {},
   "source": [
    "## x264 - size"
   ]
  },
  {
   "cell_type": "code",
   "execution_count": 34,
   "metadata": {
    "scrolled": false
   },
   "outputs": [
    {
     "data": {
      "image/png": "[encoded data removed]",
      "text/plain": [
       "<Figure size 1080x576 with 1 Axes>"
      ]
     },
     "metadata": {
      "needs_background": "light"
     },
     "output_type": "display_data"
    }
   ],
   "source": [
    "boxplot_imp(\"size\", xlim =[0,1], xname='Importances')"
   ]
  },
  {
   "cell_type": "code",
   "execution_count": 35,
   "metadata": {},
   "outputs": [
    {
     "data": {
      "image/png": "[encoded data removed]",
      "text/plain": [
       "<Figure size 1080x576 with 1 Axes>"
      ]
     },
     "metadata": {
      "needs_background": "light"
     },
     "output_type": "display_data"
    }
   ],
   "source": [
    "boxplot_imp(\"size\", xlim =[0,1], xname='Coefs')"
   ]
  },
  {
   "cell_type": "markdown",
   "metadata": {},
   "source": [
    "# RQ3 results"
   ]
  },
  {
   "cell_type": "code",
   "execution_count": 36,
   "metadata": {},
   "outputs": [],
   "source": [
    "def get_ratios(perf):\n",
    "    \n",
    "    ratios = []\n",
    "    \n",
    "    nb_inputs = inputs_count\n",
    "    \n",
    "    for index_target in range(nb_inputs):\n",
    "\n",
    "        list_ratios = []\n",
    "        s1 = np.max(data[index_target][perf])\n",
    "\n",
    "        for i in range(20):\n",
    "            index_source = np.random.randint(nb_inputs)\n",
    "            s2 = data[index_target][perf][np.argmax(data[index_source][perf])]\n",
    "            # we drop the ratios that are division per 0 or nan values\n",
    "            if not np.isnan(s1) and not np.isnan(s2) and s2!=0:\n",
    "                # we drop the ratios too high because it is just due to the fact that s2 is too low \n",
    "                # and it increases the standard deviation\n",
    "                if int(s1/s2) <= 50:\n",
    "                    list_ratios.append(s1/s2)\n",
    "\n",
    "        ratios.append(np.nanmean(list_ratios))\n",
    "\n",
    "    return (np.nanmean(ratios), \n",
    "            np.nanstd(ratios), \n",
    "            np.nanpercentile(ratios,5),\n",
    "            np.nanpercentile(ratios,25),\n",
    "            np.nanmedian(ratios),\n",
    "            np.nanpercentile(ratios,75),\n",
    "            np.nanpercentile(ratios,95))"
   ]
  },
  {
   "cell_type": "markdown",
   "metadata": {},
   "source": [
    "## x264 - time"
   ]
  },
  {
   "cell_type": "code",
   "execution_count": 37,
   "metadata": {
    "scrolled": true
   },
   "outputs": [
    {
     "data": {
      "text/plain": [
       "(1.0514837573442548,\n",
       " 0.03403677118322399,\n",
       " 1.0187998221137924,\n",
       " 1.024666421982939,\n",
       " 1.0399336799966563,\n",
       " 1.0531700361173681,\n",
       " 1.1116803078380264)"
      ]
     },
     "execution_count": 37,
     "metadata": {},
     "output_type": "execute_result"
    }
   ],
   "source": [
    "get_ratios(\"time\")"
   ]
  },
  {
   "cell_type": "markdown",
   "metadata": {},
   "source": [
    "## x264 - size"
   ]
  },
  {
   "cell_type": "code",
   "execution_count": 38,
   "metadata": {},
   "outputs": [
    {
     "data": {
      "text/plain": [
       "(1.0691287247706707,\n",
       " 0.0925690944731146,\n",
       " 1.009934763423683,\n",
       " 1.019049828745968,\n",
       " 1.0338588901289447,\n",
       " 1.0615515579275165,\n",
       " 1.2593862448178283)"
      ]
     },
     "execution_count": 38,
     "metadata": {},
     "output_type": "execute_result"
    }
   ],
   "source": [
    "get_ratios(\"size\")"
   ]
  },
  {
   "cell_type": "markdown",
   "metadata": {},
   "source": [
    "# Score"
   ]
  },
  {
   "cell_type": "code",
   "execution_count": 54,
   "metadata": {},
   "outputs": [
    {
     "data": {
      "text/plain": [
       "0.31"
      ]
     },
     "execution_count": 54,
     "metadata": {},
     "output_type": "execute_result"
    }
   ],
   "source": [
    "alpha = 0.1\n",
    "np.round(np.abs(max(max(corr_time))-min(min(corr_time)))/4 + min(get_ratios(\"time\")[4]-1, alpha)/(2*alpha),2)"
   ]
  },
  {
   "cell_type": "code",
   "execution_count": 55,
   "metadata": {},
   "outputs": [
    {
     "data": {
      "text/plain": [
       "0.66"
      ]
     },
     "execution_count": 55,
     "metadata": {},
     "output_type": "execute_result"
    }
   ],
   "source": [
    "alpha = 0.1\n",
    "np.round(np.abs(max(max(corr_size))-min(min(corr_size)))/4 + min(get_ratios(\"size\")[4]-1, alpha)/(2*alpha),2)"
   ]
  },
  {
   "cell_type": "code",
   "execution_count": null,
   "metadata": {},
   "outputs": [],
   "source": []
  },
  {
   "cell_type": "code",
   "execution_count": null,
   "metadata": {},
   "outputs": [],
   "source": []
  },
  {
   "cell_type": "code",
   "execution_count": null,
   "metadata": {},
   "outputs": [],
   "source": []
  },
  {
   "cell_type": "code",
   "execution_count": null,
   "metadata": {},
   "outputs": [],
   "source": []
  }
 ],
 "metadata": {
  "kernelspec": {
   "display_name": "Python 3",
   "language": "python",
   "name": "python3"
  },
  "language_info": {
   "codemirror_mode": {
    "name": "ipython",
    "version": 3
   },
   "file_extension": ".py",
   "mimetype": "text/x-python",
   "name": "python",
   "nbconvert_exporter": "python",
   "pygments_lexer": "ipython3",
   "version": "3.8.1"
  }
 },
 "nbformat": 4,
 "nbformat_minor": 4
}

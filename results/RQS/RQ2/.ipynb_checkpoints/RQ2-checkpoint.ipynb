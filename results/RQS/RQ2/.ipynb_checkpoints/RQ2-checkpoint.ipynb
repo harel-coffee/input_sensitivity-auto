{
 "cells": [
  {
   "cell_type": "markdown",
   "metadata": {},
   "source": [
    "# RQ2 additional results\n",
    "\n",
    "But software performances are influenced by the configuration options e.g. the energy consumption. \n",
    "An option is called influential for a performance when its values have a strong effect on this performance. \n",
    "For example, developers might wonder whether the option they add to a configurable software has an influence on its performance.\n",
    "However, is an option identified as influential for some inputs still influential for other inputs?\n",
    "If not, it would become both tedious and time-consuming to find influential options on a per-input basis. \n",
    "Besides, it is unclear if activating an option is always worth it in terms of performance; an option could improve the overall performance but reduce it for few inputs. \n",
    "If so, users may wonder which options to enable to improve software performances based on their input data. \n",
    "\n",
    "In order to understand how a performance model can change based on a given input, we next study how input data interact with configuration options. \n",
    "\n",
    "## RQ2 - Do configuration option’s effects change with input data?\n",
    "\n",
    "\n",
    "To assess the relative importances and effects of options, we use two well-known statistical methods. \n",
    "\n",
    "\n",
    "**Random Forest Importances.** The tree structure provides insights about the most essential options for prediction as a tree splits first options that provide the highest information gain. \n",
    "We use random forests (a vote between multiple decision trees):\n",
    "we can derive, from the forests trained on the inputs, estimates of the options importance. \n",
    "The computation of option importance is realized through the observation of the eﬀect on random forest accuracy of randomly shuffling each predictor variable.\n",
    "For a random forest, we consider that an option is influential if its option importance (i.e. median on all inputs) is greater than $\\frac{1}{n_{opt}}$, where $n_{opt}$ is the number of options considered in the dataset. \n",
    "This threshold represents the theoretic importance of options for a software having equally important options (inspired by the Kaiser rule). \n",
    "\n",
    "\n",
    "**Linear Regression Coefficients.** The coefficients of an Ordinary Least Square (OLS) regression weight the effect of configuration options. \n",
    "These coefficients can be positive (resp. negative) if a bigger (resp. lower) option value results in a bigger performance. \n",
    "Ideally, the sign of the coefficients of a given option should remain the same for all inputs: it would suggest that the effect of an option onto performance is stableWe also provide details about coefficients related to the interactions of options (i.e. feature interactions).\n"
   ]
  },
  {
   "cell_type": "markdown",
   "metadata": {},
   "source": [
    "#### First, we import some libraries"
   ]
  },
  {
   "cell_type": "code",
   "execution_count": 3,
   "metadata": {},
   "outputs": [],
   "source": [
    "# for arrays\n",
    "import numpy as np\n",
    "\n",
    "# for dataframes\n",
    "import pandas as pd\n",
    "\n",
    "# plots\n",
    "import matplotlib.pyplot as plt\n",
    "# high-level plots\n",
    "import seaborn as sns\n",
    "\n",
    "# statistics\n",
    "import scipy.stats as sc\n",
    "# hierarchical clustering, clusters\n",
    "from scipy.cluster.hierarchy import linkage, cut_tree, leaves_list\n",
    "from scipy import stats\n",
    "# statistical tests\n",
    "from scipy.stats import mannwhitneyu\n",
    "\n",
    "# machine learning library\n",
    "# Principal Component Analysis - determine new axis for representing data\n",
    "from sklearn.decomposition import PCA\n",
    "# Random Forests -> vote between decision trees\n",
    "# Gradient boosting -> instead of a vote, upgrade the same tree\n",
    "from sklearn.ensemble import RandomForestRegressor, RandomForestClassifier, GradientBoostingClassifier\n",
    "# Decision Tree\n",
    "from sklearn.tree import DecisionTreeRegressor, plot_tree\n",
    "# To add interactions in linear regressions models\n",
    "from sklearn.preprocessing import PolynomialFeatures\n",
    "# Elasticnet is an hybrid method between ridge and Lasso\n",
    "from sklearn.linear_model import LinearRegression, ElasticNet\n",
    "# To separate the data into training and test\n",
    "from sklearn.model_selection import train_test_split\n",
    "# Simple clustering (iterative steps)\n",
    "from sklearn.cluster import KMeans\n",
    "# get interactions of features\n",
    "from sklearn.preprocessing import PolynomialFeatures\n",
    "# mean absolute percentage error\n",
    "from sklearn.metrics import mean_absolute_percentage_error\n",
    "\n",
    "\n",
    "# we use it to interact with the file system\n",
    "import os\n",
    "# compute time\n",
    "from time import time\n",
    "\n",
    "# statistics\n",
    "import scipy.stats as sc\n",
    "# hierarchical clustering, clusters\n",
    "from scipy.cluster.hierarchy import linkage, cut_tree, leaves_list\n",
    "from scipy import stats\n",
    "# statistical tests\n",
    "from scipy.stats import mannwhitneyu\n",
    "\n",
    "# no warning\n",
    "import warnings\n",
    "warnings.filterwarnings(\"ignore\")"
   ]
  },
  {
   "cell_type": "markdown",
   "metadata": {},
   "source": [
    "### Import data"
   ]
  },
  {
   "cell_type": "code",
   "execution_count": 2,
   "metadata": {},
   "outputs": [],
   "source": [
    "data_dir = \"../../../data/\"\n",
    "name_systems = [\"nodejs\", \"poppler\", \"xz\", \"x264\", \"gcc\", \"lingeling\", \"sqlite\", \"imagemagick\"]\n",
    "\n",
    "data = dict()\n",
    "inputs_name = dict()\n",
    "inputs_count = dict()\n",
    "inputs_perf = dict()\n",
    "\n",
    "inputs_perf[\"gcc\"] = [\"size\", \"ctime\", \"exec\"]\n",
    "inputs_perf[\"imagemagick\"] = [\"size\", \"time\"]\n",
    "inputs_perf[\"lingeling\"] = [\"conflicts\", \"cps\", \"reductions\"]\n",
    "inputs_perf[\"nodejs\"] = [\"ops\"]\n",
    "inputs_perf[\"poppler\"] = [\"size\", \"time\"]\n",
    "inputs_perf[\"sqlite\"] = [\"q\"+str(i+1) for i in range(15)]\n",
    "inputs_perf[\"x264\"] = [\"size\", \"kbs\", \"fps\", \"etime\", \"cpu\"]\n",
    "inputs_perf[\"xz\"] = [\"size\", \"time\"]\n",
    "\n",
    "\n",
    "inputs_feat = dict()\n",
    "\n",
    "inputs_feat[\"gcc\"] = [\"optim\",\"-floop-interchange\",\"-fprefetch-loop-arrays\",\"-ffloat-store\",\"-fno-asm\"]\n",
    "inputs_feat[\"imagemagick\"] = [\"memory_r\", \"posterize_r\", \"gaussian-blur\", \"thread\", \"quality\"]\n",
    "inputs_feat[\"lingeling\"] = [\"--boost\", \"--carduse\", \"--decompose\", \"--gluescale\", \"--lkhd\", \"--memlim\", \n",
    "\"--minimize\", \"--prbsimple\", \"--sweepirr\", \"--sweepred\"]\n",
    "inputs_feat[\"nodejs\"] = [\"--jitless\", \"--experimental-wasm-modules\", \"--experimental-vm-modules\",\n",
    "                         \"--preserve-symlinks-main\",\"--no-warnings\",\"--node-memory-debug\"]\n",
    "inputs_feat[\"poppler\"] = [\"format\",\"j\",\"jp2\",\"jbig2\",\"ccitt\"]\n",
    "inputs_feat[\"sqlite\"] = [\"-deserialize\", \"-memtrace\", \"-maxsize\", \"-append\", \"-output\"]\n",
    "inputs_feat[\"x264\"] = [\"cabac\", \"ref\", \"deblock\", \"analyse\", \"me\", \"subme\", \"mixed_ref\", \"me_range\", \"trellis\", \n",
    "                \"8x8dct\", \"fast_pskip\", \"chroma_qp_offset\", \"bframes\", \"b_pyramid\", \"b_adapt\", \"direct\", \n",
    "                \"weightb\", \"open_gop\", \"weightp\", \"scenecut\", \"rc_lookahead\", \"mbtree\", \"qpmax\", \"aq-mode\"]\n",
    "inputs_feat[\"xz\"] = [\"memory\",\"format\",\"level\",\"depth\"]\n",
    "\n",
    "\n",
    "inputs_categ = dict()\n",
    "\n",
    "inputs_categ[\"gcc\"] = [\"optim\"]\n",
    "inputs_categ[\"imagemagick\"] = []\n",
    "inputs_categ[\"lingeling\"] = []\n",
    "inputs_categ[\"nodejs\"] = []\n",
    "inputs_categ[\"poppler\"] = [\"format\"]\n",
    "inputs_categ[\"sqlite\"] = []\n",
    "inputs_categ[\"x264\"] = ['analyse', 'me', 'direct', 'deblock']\n",
    "inputs_categ[\"xz\"] = ['memory', 'format']\n",
    "\n",
    "\n",
    "for ns in name_systems:\n",
    "    \n",
    "    data_path = data_dir+ns+'/'\n",
    "    \n",
    "    inputs = sorted(os.listdir(data_path))\n",
    "    inputs.remove('others')\n",
    "\n",
    "    inputs_name[ns] = inputs\n",
    "    inputs_count[ns] = len(inputs)\n",
    "    \n",
    "    for i in range(len(inputs)):\n",
    "        loc = data_path+inputs[i]\n",
    "        data[ns, i] = pd.read_csv(loc)"
   ]
  },
  {
   "cell_type": "markdown",
   "metadata": {},
   "source": [
    "# RQ2 code"
   ]
  },
  {
   "cell_type": "markdown",
   "metadata": {},
   "source": [
    "## Compute importances"
   ]
  },
  {
   "cell_type": "code",
   "execution_count": 28,
   "metadata": {},
   "outputs": [],
   "source": [
    "def compute_importances(ns, dim):\n",
    "    # input : a list of videos\n",
    "    # output : a dataframe of feature importances\n",
    "    \n",
    "    # the final list of importances\n",
    "    listImportances = []\n",
    "    listMAPE = []\n",
    "    \n",
    "    features = inputs_feat[ns]\n",
    "    to_keep = [f for f in features]\n",
    "    to_keep.append(dim)\n",
    "    categorial = inputs_categ[ns]\n",
    "\n",
    "    # for each video of the list\n",
    "    for id_input in range(inputs_count[ns]):\n",
    "        \n",
    "        # we replace missing numbers by 0\n",
    "        df = data[ns, id_input][to_keep]\n",
    "        \n",
    "        df = df.replace(to_replace = \"None\", value = '0')\n",
    "        \n",
    "        # standardization\n",
    "        for col in features:\n",
    "            # we center and reduce the quantitative variables\n",
    "            # i.e substract the mean, and divide by the standard deviation\n",
    "            # to avoid the scale of the vars to interfere with the learning process\n",
    "            if col not in categorial:\n",
    "                arr_col = np.array(df[col], float)\n",
    "                arr_col = (arr_col-np.mean(arr_col))/(np.std(arr_col)+1e-5)\n",
    "                df[col] = arr_col\n",
    "            else:\n",
    "                # if the variable is categorial\n",
    "                df[col] = [np.where(k==df[col].unique())[0][0] for k in df[col]]\n",
    "                arr_col = np.array(df[col], float)\n",
    "                arr_col = (arr_col-np.mean(arr_col))/(np.std(arr_col)+1e-5)\n",
    "                df[col] = arr_col\n",
    "        \n",
    "        # for each video, we train a model\n",
    "        clf = RandomForestRegressor(n_estimators=20)\n",
    "        # we use all the configuration options as predicting variables\n",
    "        X = df.drop([dim], axis=1)\n",
    "        # and the bitrate distribution of the video as a variable to predict\n",
    "        y = df[dim]\n",
    "        # we train the model on all the data (not train-test since we don't use the model)\n",
    "        clf.fit(X, y)\n",
    "        \n",
    "        listMAPE.append(mean_absolute_percentage_error(clf.predict(X), y))\n",
    "        \n",
    "        # we add feature importances to the list\n",
    "        listImportances.append(clf.feature_importances_)\n",
    "    \n",
    "    # final dataframe of feature importances\n",
    "    res = pd.DataFrame({'features' : features})\n",
    "    \n",
    "    # significative numbers p, cs = 10^p\n",
    "    cs = 100\n",
    "    \n",
    "    # we add the feature imps to the dataframe \n",
    "    for id_input in range(len(listImportances)):\n",
    "        res['video_'+str(id_input)] = np.round(cs*listImportances[id_input])/cs\n",
    "    \n",
    "    # transpose it\n",
    "    res = res.set_index('features').transpose()\n",
    "    \n",
    "    print(\"RF\")\n",
    "    print(np.median(listMAPE))\n",
    "    \n",
    "    # return it \n",
    "    return res"
   ]
  },
  {
   "cell_type": "markdown",
   "metadata": {},
   "source": [
    "## Compute effects"
   ]
  },
  {
   "cell_type": "code",
   "execution_count": 35,
   "metadata": {},
   "outputs": [],
   "source": [
    "def compute_coefs(ns, dim):\n",
    "    # input : a list of videos\n",
    "    # output : a dataframe of feature importances\n",
    "    \n",
    "    # the final list of coefficients\n",
    "    listCoefs = []\n",
    "    \n",
    "    listMAPE = []\n",
    "    \n",
    "    features = inputs_feat[ns]\n",
    "    to_keep = [f for f in features]\n",
    "    to_keep.append(dim)\n",
    "    categorial = inputs_categ[ns]\n",
    "\n",
    "    # for each video of the list\n",
    "    for id_input in range(inputs_count[ns]):\n",
    "        \n",
    "        # we replace missing numbers by 0\n",
    "        df = data[ns, id_input][to_keep]\n",
    "        \n",
    "        df = df.replace(to_replace = \"NaN\", value = '0')\n",
    "        df = df.replace(to_replace = \"None\", value = '0')\n",
    "\n",
    "        # standardization\n",
    "        for col in to_keep:\n",
    "            # we center and reduce the quantitative variables\n",
    "            # i.e substract the mean, and divide by the standard deviation\n",
    "            # to avoid the scale of the vars to interfere with the learning process\n",
    "            if col not in categorial:\n",
    "                arr_col = np.array(df[col], float)\n",
    "                arr_col = (arr_col-np.mean(arr_col))/(np.std(arr_col)+1e-5)\n",
    "                df[col] = arr_col\n",
    "            else:\n",
    "                # if the variable is categorial\n",
    "                df[col] = [np.where(k==df[col].unique())[0][0] for k in df[col]]\n",
    "                arr_col = np.array(df[col], float)\n",
    "                arr_col = (arr_col-np.mean(arr_col))/(np.std(arr_col)+1e-5)\n",
    "                df[col] = arr_col\n",
    "\n",
    "        # for each video, we train a model\n",
    "        indexes = np.array([k for k in range(len(df[dim])) \n",
    "                            if df[dim][k] != float(\"inf\") and not np.isnan(df[dim][k])],int)\n",
    "        lr = LinearRegression()\n",
    "        # we use all the configuration options as predicting variables\n",
    "        X = df.drop([dim], axis=1)\n",
    "        # and the bitrate distribution of the video as a variable to predict\n",
    "        y = [float(k) for k in df[dim]]\n",
    "        #print(y)\n",
    "        # we train the model on all the data (not train-test since we don't use the model)\n",
    "        lr.fit(X, y)\n",
    "        \n",
    "        listMAPE.append(mean_absolute_percentage_error(lr.predict(X), y))\n",
    "        # we add feature importances to the list\n",
    "        listCoefs.append(lr.coef_)\n",
    "    \n",
    "    # final dataframe of feature importances\n",
    "    res = pd.DataFrame({'features' : features})\n",
    "    \n",
    "    # significative numbers p, cs = 10^p\n",
    "    cs = 100\n",
    "    \n",
    "    # we add the feature imps to the dataframe \n",
    "    for id_input in range(len(listCoefs)):\n",
    "        res['video_'+str(id_input)] = np.round(cs*listCoefs[id_input])/cs\n",
    "    \n",
    "    # transpose it\n",
    "    res = res.set_index('features').transpose()\n",
    "    \n",
    "        \n",
    "    print(\"LR\")\n",
    "    print(np.median(listMAPE))\n",
    "    \n",
    "    # return it \n",
    "    return res"
   ]
  },
  {
   "cell_type": "markdown",
   "metadata": {},
   "source": [
    "## Show the boxplot of effects and importances"
   ]
  },
  {
   "cell_type": "code",
   "execution_count": 36,
   "metadata": {},
   "outputs": [],
   "source": [
    "def boxplot_imp(ns, dim, xlim = None, xname='Importances'):\n",
    "    ### in: \n",
    "    #### ns the name of the system\n",
    "    #### dim the name of the current performance property\n",
    "    #### xlim limits if needed to focus on the important part of the chart\n",
    "    #### xname the name of the abcissae and if we compute the importances or the effects\n",
    "    ### out :\n",
    "    #### a boxplot (saved in the system file)\n",
    "    \n",
    "    if xname == 'Importances':\n",
    "        res = compute_importances(ns, dim)\n",
    "    else:\n",
    "        res = compute_coefs(ns, dim)\n",
    "    \n",
    "    # sort by names\n",
    "    listImp = [(np.abs(np.percentile(res[col],75)-np.percentile(res[col],25)),res[col], col) \n",
    "               for col in res.columns]\n",
    "    listImp.sort(key=lambda tup: tup[2], reverse=True)\n",
    "\n",
    "    # see figures 2a and 2b\n",
    "    red_square = dict(markerfacecolor='r', marker='s')\n",
    "    plt.figure(figsize=(15,8))\n",
    "    plt.grid()\n",
    "    plt.boxplot([l[1] for l in listImp], flierprops=red_square, \n",
    "              vert=False, patch_artist=True, #widths=0.25,\n",
    "              boxprops=dict(facecolor=(0,0,1,0.5),linewidth=1,edgecolor='k'),\n",
    "              whiskerprops = dict(linestyle='-.',linewidth=1.0, color='black'))\n",
    "    plt.xlabel(xname, size=13)\n",
    "    if xlim:\n",
    "        plt.xlim(xlim)\n",
    "    plt.yticks(range(1, len(listImp) + 1), [l[2] for l in listImp])\n",
    "    if xname == 'Importances':\n",
    "        plt.savefig(\"../../../results/systems/\"+ns+\"/\"+\"boxplot_imp_\"+dim+\".png\")\n",
    "    else:\n",
    "        plt.savefig(\"../../../results/systems/\"+ns+\"/\"+\"boxplot_effect_\"+dim+\".png\")\n",
    "    plt.show()"
   ]
  },
  {
   "cell_type": "markdown",
   "metadata": {},
   "source": [
    "# RQ2 results for each system"
   ]
  },
  {
   "cell_type": "markdown",
   "metadata": {},
   "source": [
    "### GCC"
   ]
  },
  {
   "cell_type": "markdown",
   "metadata": {},
   "source": [
    "#### compilation time"
   ]
  },
  {
   "cell_type": "code",
   "execution_count": 37,
   "metadata": {},
   "outputs": [
    {
     "name": "stdout",
     "output_type": "stream",
     "text": [
      "RF\n",
      "0.0284828822245891\n"
     ]
    },
    {
     "data": {
      "image/png": "[encoded data removed]",
      "text/plain": [
       "<Figure size 1080x576 with 1 Axes>"
      ]
     },
     "metadata": {
      "needs_background": "light"
     },
     "output_type": "display_data"
    },
    {
     "name": "stdout",
     "output_type": "stream",
     "text": [
      "LR\n",
      "9.969166110915317\n"
     ]
    },
    {
     "data": {
      "image/png": "[encoded data removed]",
      "text/plain": [
       "<Figure size 1080x576 with 1 Axes>"
      ]
     },
     "metadata": {
      "needs_background": "light"
     },
     "output_type": "display_data"
    }
   ],
   "source": [
    "boxplot_imp(\"gcc\", \"ctime\", xlim =[0,1], xname='Importances')\n",
    "boxplot_imp(\"gcc\", \"ctime\", xlim =[-1,1], xname='Coefficients')"
   ]
  },
  {
   "cell_type": "markdown",
   "metadata": {},
   "source": [
    "Overall, for the compilation time of gcc, there is one influential options, namely `optim` i.e., the flag -Og -O1 -O2 -O3 -Ofast\n",
    "\n",
    "Apart from one single value, this option is always negatively related to the time; without much surprise, activating -Ofast decreases the compile time of the program."
   ]
  },
  {
   "cell_type": "markdown",
   "metadata": {},
   "source": [
    "#### execution time"
   ]
  },
  {
   "cell_type": "code",
   "execution_count": 38,
   "metadata": {},
   "outputs": [
    {
     "name": "stdout",
     "output_type": "stream",
     "text": [
      "RF\n",
      "0.007424360342158147\n"
     ]
    },
    {
     "data": {
      "image/png": "[encoded data removed]",
      "text/plain": [
       "<Figure size 1080x576 with 1 Axes>"
      ]
     },
     "metadata": {
      "needs_background": "light"
     },
     "output_type": "display_data"
    },
    {
     "name": "stdout",
     "output_type": "stream",
     "text": [
      "LR\n",
      "2.613727634602696\n"
     ]
    },
    {
     "data": {
      "image/png": "[encoded data removed]",
      "text/plain": [
       "<Figure size 1080x576 with 1 Axes>"
      ]
     },
     "metadata": {
      "needs_background": "light"
     },
     "output_type": "display_data"
    }
   ],
   "source": [
    "boxplot_imp(\"gcc\", \"exec\", xlim =[0,1], xname='Importances')\n",
    "boxplot_imp(\"gcc\", \"exec\", xlim =[-1,1], xname='Coefficients')"
   ]
  },
  {
   "cell_type": "markdown",
   "metadata": {},
   "source": [
    "Overall, for the execution time of gcc, there is two influential options, namely `optim` i.e., the flag -Og -O1 -O2 -O3 -Ofast and `-ffloat-store`"
   ]
  },
  {
   "cell_type": "markdown",
   "metadata": {},
   "source": [
    "#### size"
   ]
  },
  {
   "cell_type": "code",
   "execution_count": 39,
   "metadata": {},
   "outputs": [
    {
     "name": "stdout",
     "output_type": "stream",
     "text": [
      "RF\n",
      "0.001633003556909114\n"
     ]
    },
    {
     "data": {
      "image/png": "[encoded data removed]",
      "text/plain": [
       "<Figure size 1080x576 with 1 Axes>"
      ]
     },
     "metadata": {
      "needs_background": "light"
     },
     "output_type": "display_data"
    },
    {
     "name": "stdout",
     "output_type": "stream",
     "text": [
      "LR\n",
      "67539777342676.92\n"
     ]
    },
    {
     "data": {
      "image/png": "[encoded data removed]",
      "text/plain": [
       "<Figure size 1080x576 with 1 Axes>"
      ]
     },
     "metadata": {
      "needs_background": "light"
     },
     "output_type": "display_data"
    }
   ],
   "source": [
    "boxplot_imp(\"gcc\", \"size\", xlim =[0,1], xname='Importances')\n",
    "boxplot_imp(\"gcc\", \"size\", xlim =[-1,1], xname='Coefficients')"
   ]
  },
  {
   "cell_type": "markdown",
   "metadata": {},
   "source": [
    "For the binary size, it is a very interesting result; there is nothing wrong with the boxplots of the upper charts, there is only one value for each, so we are not able to see them.\n",
    "\n",
    "As presented in the paper, this is our textbook case of a stable software system (in our experiment) w.r.t. the input sensitivity."
   ]
  },
  {
   "cell_type": "markdown",
   "metadata": {},
   "source": [
    "### Imagemagick"
   ]
  },
  {
   "cell_type": "markdown",
   "metadata": {},
   "source": [
    "#### time"
   ]
  },
  {
   "cell_type": "code",
   "execution_count": null,
   "metadata": {},
   "outputs": [],
   "source": [
    "boxplot_imp(\"imagemagick\", \"time\", xlim =[0,1], xname='Importances')\n",
    "boxplot_imp(\"imagemagick\", \"time\", xlim =[-1,1], xname='Coefficients')"
   ]
  },
  {
   "cell_type": "markdown",
   "metadata": {},
   "source": [
    "### Lingeling"
   ]
  },
  {
   "cell_type": "markdown",
   "metadata": {},
   "source": [
    "#### conflicts"
   ]
  },
  {
   "cell_type": "code",
   "execution_count": null,
   "metadata": {},
   "outputs": [],
   "source": [
    "boxplot_imp(\"lingeling\", \"conflicts\", xlim =[0,1], xname='Importances')\n",
    "boxplot_imp(\"lingeling\", \"conflicts\", xlim =[-1,1], xname='Coefficients')"
   ]
  },
  {
   "cell_type": "markdown",
   "metadata": {},
   "source": [
    "For lingeling, to contrast with gcc, there are lots of variations depending on the SAT formula processed by the software. \n",
    "\n",
    "There are many corner cases, for which an option becomes suddently influential.\n",
    "\n",
    "Most options can have positive and negative effects depending on inputs."
   ]
  },
  {
   "cell_type": "markdown",
   "metadata": {},
   "source": [
    "#### conflicts per second"
   ]
  },
  {
   "cell_type": "code",
   "execution_count": null,
   "metadata": {},
   "outputs": [],
   "source": [
    "boxplot_imp(\"lingeling\", \"cps\", xlim =[0,1], xname='Importances')\n",
    "boxplot_imp(\"lingeling\", \"cps\", xlim =[-1,1], xname='Coefficients')"
   ]
  },
  {
   "cell_type": "markdown",
   "metadata": {},
   "source": [
    "Same conclusion as for the conflicts performance property."
   ]
  },
  {
   "cell_type": "markdown",
   "metadata": {},
   "source": [
    "#### reductions"
   ]
  },
  {
   "cell_type": "code",
   "execution_count": null,
   "metadata": {},
   "outputs": [],
   "source": [
    "boxplot_imp(\"lingeling\", \"reductions\", xlim =[0,1], xname='Importances')\n",
    "boxplot_imp(\"lingeling\", \"reductions\", xlim =[-1,1], xname='Coefficients')"
   ]
  },
  {
   "cell_type": "markdown",
   "metadata": {},
   "source": [
    "Again, all the options might be influential at some point, for few inputs.\n",
    "\n",
    "An expertise of the domain could help to understand the link between the content of these formulae and the way it is processed by the software i.e. how it interacts with configuration options. "
   ]
  },
  {
   "cell_type": "markdown",
   "metadata": {},
   "source": [
    "### NodeJS"
   ]
  },
  {
   "cell_type": "markdown",
   "metadata": {},
   "source": [
    "#### number of operations per second"
   ]
  },
  {
   "cell_type": "code",
   "execution_count": null,
   "metadata": {
    "scrolled": false
   },
   "outputs": [],
   "source": [
    "boxplot_imp(\"nodejs\", \"ops\", xlim =[0,1], xname='Importances')\n",
    "boxplot_imp(\"nodejs\", \"ops\", xlim =[-1,1], xname='Coefficients')"
   ]
  },
  {
   "cell_type": "markdown",
   "metadata": {},
   "source": [
    "For nodeJS, the `jitless` option is definitely the most influential across inputs.\n",
    "\n",
    "In general, activating it will reduce the number of operations computed by the input (java)scripts. But there are few exceptions.\n",
    "\n",
    "The other configuration option to watch is the `node-memory-debug` feature; for few inputs, it can have a greater influence than `jitless`."
   ]
  },
  {
   "cell_type": "markdown",
   "metadata": {},
   "source": [
    "### Poppler"
   ]
  },
  {
   "cell_type": "markdown",
   "metadata": {},
   "source": [
    "#### size"
   ]
  },
  {
   "cell_type": "code",
   "execution_count": null,
   "metadata": {
    "scrolled": false
   },
   "outputs": [],
   "source": [
    "boxplot_imp(\"poppler\", \"size\", xlim =[0,1], xname='Importances')\n",
    "boxplot_imp(\"poppler\", \"size\", xlim =[-1,1], xname='Coefficients')"
   ]
  },
  {
   "cell_type": "markdown",
   "metadata": {},
   "source": [
    "The size of the output directory containing the images extracted from the pdfs is naturally highly dependent of the format of the output image (e.g. jpg, png, etc.).\n",
    "\n",
    "But using a library to handle jpegs files can interact with the influential options for few inputs.\n",
    "\n",
    "Again, this is a case where : (1) there is a general trend for the influential options but (2) for some inputs, it does not respect the rule.\n",
    "\n",
    "It can be interesting to detect a priori the second cases (2) thanks to machine learning, so we can predict performances whatever the input. "
   ]
  },
  {
   "cell_type": "markdown",
   "metadata": {},
   "source": [
    "#### time"
   ]
  },
  {
   "cell_type": "code",
   "execution_count": null,
   "metadata": {},
   "outputs": [],
   "source": [
    "boxplot_imp(\"poppler\", \"time\", xlim =[0,1], xname='Importances')\n",
    "boxplot_imp(\"poppler\", \"time\", xlim =[-1,1], xname='Coefficients')"
   ]
  },
  {
   "cell_type": "markdown",
   "metadata": {},
   "source": [
    "Here, there is a compromise to find for the value of `format` between the time and the size, since activating `format` decreases the size, but increases the time.\n",
    "\n",
    "And this value may depend on input data; we have to adapt the predictive model."
   ]
  },
  {
   "cell_type": "markdown",
   "metadata": {},
   "source": [
    "### SQLite"
   ]
  },
  {
   "cell_type": "markdown",
   "metadata": {},
   "source": [
    "#### q1"
   ]
  },
  {
   "cell_type": "code",
   "execution_count": null,
   "metadata": {},
   "outputs": [],
   "source": [
    "boxplot_imp(\"sqlite\", \"q1\", xlim =[0,1], xname='Importances')\n",
    "boxplot_imp(\"sqlite\", \"q1\", xlim =[-1,1], xname='Coefficients')"
   ]
  },
  {
   "cell_type": "markdown",
   "metadata": {},
   "source": [
    "#### q2"
   ]
  },
  {
   "cell_type": "code",
   "execution_count": null,
   "metadata": {},
   "outputs": [],
   "source": [
    "boxplot_imp(\"sqlite\", \"q2\", xlim =[0,1], xname='Importances')\n",
    "boxplot_imp(\"sqlite\", \"q2\", xlim =[-1,1], xname='Coefficients')"
   ]
  },
  {
   "cell_type": "markdown",
   "metadata": {},
   "source": [
    "#### q3"
   ]
  },
  {
   "cell_type": "code",
   "execution_count": null,
   "metadata": {},
   "outputs": [],
   "source": [
    "boxplot_imp(\"sqlite\", \"q3\", xlim =[0,1], xname='Importances')\n",
    "boxplot_imp(\"sqlite\", \"q3\", xlim =[-1,1], xname='Coefficients')"
   ]
  },
  {
   "cell_type": "markdown",
   "metadata": {},
   "source": [
    "#### q4"
   ]
  },
  {
   "cell_type": "code",
   "execution_count": null,
   "metadata": {},
   "outputs": [],
   "source": [
    "boxplot_imp(\"sqlite\", \"q4\", xlim =[0,1], xname='Importances')\n",
    "boxplot_imp(\"sqlite\", \"q4\", xlim =[-1,1], xname='Coefficients')"
   ]
  },
  {
   "cell_type": "markdown",
   "metadata": {},
   "source": [
    "#### q5"
   ]
  },
  {
   "cell_type": "code",
   "execution_count": null,
   "metadata": {},
   "outputs": [],
   "source": [
    "boxplot_imp(\"sqlite\", \"q5\", xlim =[0,1], xname='Importances')\n",
    "boxplot_imp(\"sqlite\", \"q5\", xlim =[-1,1], xname='Coefficients')"
   ]
  },
  {
   "cell_type": "markdown",
   "metadata": {},
   "source": [
    "#### q6"
   ]
  },
  {
   "cell_type": "code",
   "execution_count": null,
   "metadata": {
    "scrolled": false
   },
   "outputs": [],
   "source": [
    "boxplot_imp(\"sqlite\", \"q6\", xlim =[0,1], xname='Importances')\n",
    "boxplot_imp(\"sqlite\", \"q6\", xlim =[-1,1], xname='Coefficients')"
   ]
  },
  {
   "cell_type": "markdown",
   "metadata": {},
   "source": [
    "#### q7"
   ]
  },
  {
   "cell_type": "code",
   "execution_count": null,
   "metadata": {},
   "outputs": [],
   "source": [
    "boxplot_imp(\"sqlite\", \"q7\", xlim =[0,1], xname='Importances')\n",
    "boxplot_imp(\"sqlite\", \"q7\", xlim =[-1,1], xname='Coefficients')"
   ]
  },
  {
   "cell_type": "markdown",
   "metadata": {},
   "source": [
    "#### q8"
   ]
  },
  {
   "cell_type": "code",
   "execution_count": null,
   "metadata": {},
   "outputs": [],
   "source": [
    "boxplot_imp(\"sqlite\", \"q8\", xlim =[0,1], xname='Importances')\n",
    "boxplot_imp(\"sqlite\", \"q8\", xlim =[-1,1], xname='Coefficients')"
   ]
  },
  {
   "cell_type": "markdown",
   "metadata": {},
   "source": [
    "#### q9"
   ]
  },
  {
   "cell_type": "code",
   "execution_count": null,
   "metadata": {},
   "outputs": [],
   "source": [
    "boxplot_imp(\"sqlite\", \"q9\", xlim =[0,1], xname='Importances')\n",
    "boxplot_imp(\"sqlite\", \"q9\", xlim =[-1,1], xname='Coefficients')"
   ]
  },
  {
   "cell_type": "markdown",
   "metadata": {},
   "source": [
    "#### q10"
   ]
  },
  {
   "cell_type": "code",
   "execution_count": null,
   "metadata": {},
   "outputs": [],
   "source": [
    "boxplot_imp(\"sqlite\", \"q10\", xlim =[0,1], xname='Importances')\n",
    "boxplot_imp(\"sqlite\", \"q10\", xlim =[-1,1], xname='Coefficients')"
   ]
  },
  {
   "cell_type": "markdown",
   "metadata": {},
   "source": [
    "#### q11"
   ]
  },
  {
   "cell_type": "code",
   "execution_count": null,
   "metadata": {},
   "outputs": [],
   "source": [
    "boxplot_imp(\"sqlite\", \"q11\", xlim =[0,1], xname='Importances')\n",
    "boxplot_imp(\"sqlite\", \"q11\", xlim =[-1,1], xname='Coefficients')"
   ]
  },
  {
   "cell_type": "markdown",
   "metadata": {},
   "source": [
    "#### q12"
   ]
  },
  {
   "cell_type": "code",
   "execution_count": null,
   "metadata": {},
   "outputs": [],
   "source": [
    "boxplot_imp(\"sqlite\", \"q12\", xlim =[0,1], xname='Importances')\n",
    "boxplot_imp(\"sqlite\", \"q12\", xlim =[-1,1], xname='Coefficients')"
   ]
  },
  {
   "cell_type": "markdown",
   "metadata": {},
   "source": [
    "#### q13"
   ]
  },
  {
   "cell_type": "code",
   "execution_count": null,
   "metadata": {},
   "outputs": [],
   "source": [
    "boxplot_imp(\"sqlite\", \"q13\", xlim =[0,1], xname='Importances')\n",
    "boxplot_imp(\"sqlite\", \"q13\", xlim =[-1,1], xname='Coefficients')"
   ]
  },
  {
   "cell_type": "markdown",
   "metadata": {},
   "source": [
    "#### q14"
   ]
  },
  {
   "cell_type": "code",
   "execution_count": null,
   "metadata": {},
   "outputs": [],
   "source": [
    "boxplot_imp(\"sqlite\", \"q14\", xlim =[0,1], xname='Importances')\n",
    "boxplot_imp(\"sqlite\", \"q14\", xlim =[-1,1], xname='Coefficients')"
   ]
  },
  {
   "cell_type": "markdown",
   "metadata": {},
   "source": [
    "#### q15"
   ]
  },
  {
   "cell_type": "code",
   "execution_count": null,
   "metadata": {},
   "outputs": [],
   "source": [
    "boxplot_imp(\"sqlite\", \"q15\", xlim =[0,1], xname='Importances')\n",
    "boxplot_imp(\"sqlite\", \"q15\", xlim =[-1,1], xname='Coefficients')"
   ]
  },
  {
   "cell_type": "markdown",
   "metadata": {},
   "source": [
    "Between the different queries, the importances of options and the effect of coefficients vary.\n",
    "\n",
    "SQLite is an input-sensitive software system."
   ]
  },
  {
   "cell_type": "markdown",
   "metadata": {},
   "source": [
    "### xz"
   ]
  },
  {
   "cell_type": "markdown",
   "metadata": {},
   "source": [
    "#### size"
   ]
  },
  {
   "cell_type": "code",
   "execution_count": null,
   "metadata": {},
   "outputs": [],
   "source": [
    "boxplot_imp(\"xz\", \"size\", xlim =[0,1], xname='Importances')\n",
    "boxplot_imp(\"xz\", \"size\", xlim =[-1,1], xname='Coefficients')"
   ]
  },
  {
   "cell_type": "markdown",
   "metadata": {},
   "source": [
    "Like gcc, another case of stability w.r.t. input sensitivity\n",
    "\n",
    "The influential options remain the same, with the same effect."
   ]
  },
  {
   "cell_type": "markdown",
   "metadata": {},
   "source": [
    "#### time"
   ]
  },
  {
   "cell_type": "code",
   "execution_count": null,
   "metadata": {},
   "outputs": [],
   "source": [
    "boxplot_imp(\"xz\", \"time\", xlim =[0,1], xname='Importances')\n",
    "boxplot_imp(\"xz\", \"time\", xlim =[-1,1], xname='Coefficients')"
   ]
  },
  {
   "cell_type": "markdown",
   "metadata": {},
   "source": [
    "Globally similar conclusion as for the size. \n",
    "\n",
    "The more stable the effect of options in RQ2, the more stable the distribution of performances in RQ1."
   ]
  },
  {
   "cell_type": "markdown",
   "metadata": {},
   "source": [
    "### x264"
   ]
  },
  {
   "cell_type": "markdown",
   "metadata": {},
   "source": [
    "#### bitrate"
   ]
  },
  {
   "cell_type": "code",
   "execution_count": null,
   "metadata": {},
   "outputs": [],
   "source": [
    "boxplot_imp(\"x264\", \"kbs\", xlim =[0,1], xname='Importances')\n",
    "boxplot_imp(\"x264\", \"kbs\", xlim =[-1,1], xname='Coefficients')"
   ]
  },
  {
   "cell_type": "markdown",
   "metadata": {},
   "source": [
    "x264 can encode different kinds of videos, such as an animation movie with many details, or a soccer game with large and monochromatic areas of grass. \n",
    "When encoding the soccer game, x264 can use those fixed green areas to reduce the amount of data encoded per second i.e. the bitrate. \n",
    "In other words, configuration options aggregating pixels (e.g. macro-block tree estimation `mbtree`) could: reduce the bitrate for the soccer game; increase the bitrate for the animation movie since nothing can be aggregated. \n",
    "\n",
    "\n",
    "This figures report on respectively the boxplots of configuration options' importances and effects when predicting x264's bitrate for all input videos. \n",
    "\n",
    "Three options are strongly influential for a majority of videos: \n",
    "`subme`, `mbtree` and `aq-mode`, but their importance can differ depending on input videos: for instance, the importance of subme is 0.83 for video 1365 and only 0.01 for 40. \n",
    "Because influential features vary with input videos for x264, performance models and approaches based on *feature selection* may not generalize well to all input videos. \n",
    "\n",
    "\n",
    "Most of the options have positive and negative coefficients; thus, the specific effects of options heavily depend on input videos. \n",
    "It is also true for influential options: mbtree can have positive and negative (influential) effects on the bitrate i.e. activating mbtree may be worth only for few input videos. \n",
    "The consequence is that one cannot reliably provide end-users with a unique x264 performance prediction model or a x264 default configuration whatever the input is.\n"
   ]
  },
  {
   "cell_type": "markdown",
   "metadata": {},
   "source": [
    "#### frame encoded per second"
   ]
  },
  {
   "cell_type": "code",
   "execution_count": null,
   "metadata": {},
   "outputs": [],
   "source": [
    "boxplot_imp(\"x264\", \"fps\", xlim =[0,1], xname='Importances')\n",
    "boxplot_imp(\"x264\", \"fps\", xlim =[-1,1], xname='Coefficients')"
   ]
  },
  {
   "cell_type": "markdown",
   "metadata": {},
   "source": [
    "#### CPU usage"
   ]
  },
  {
   "cell_type": "code",
   "execution_count": null,
   "metadata": {},
   "outputs": [],
   "source": [
    "boxplot_imp(\"x264\", \"cpu\", xlim =[0,1], xname='Importances')\n",
    "boxplot_imp(\"x264\", \"cpu\", xlim =[-1,1], xname='Coefficients')"
   ]
  },
  {
   "cell_type": "markdown",
   "metadata": {},
   "source": [
    "#### Encoded size of video"
   ]
  },
  {
   "cell_type": "code",
   "execution_count": null,
   "metadata": {},
   "outputs": [],
   "source": [
    "boxplot_imp(\"x264\", \"size\", xlim =[0,1], xname='Importances')\n",
    "boxplot_imp(\"x264\", \"size\", xlim =[-1,1], xname='Coefficients')"
   ]
  },
  {
   "cell_type": "markdown",
   "metadata": {},
   "source": [
    "#### Encoding time"
   ]
  },
  {
   "cell_type": "code",
   "execution_count": null,
   "metadata": {},
   "outputs": [],
   "source": [
    "boxplot_imp(\"x264\", \"etime\", xlim =[0,1], xname='Importances')\n",
    "boxplot_imp(\"x264\", \"etime\", xlim =[-1,1], xname='Coefficients')"
   ]
  },
  {
   "cell_type": "code",
   "execution_count": null,
   "metadata": {},
   "outputs": [],
   "source": []
  },
  {
   "cell_type": "code",
   "execution_count": null,
   "metadata": {},
   "outputs": [],
   "source": []
  },
  {
   "cell_type": "code",
   "execution_count": null,
   "metadata": {},
   "outputs": [],
   "source": []
  },
  {
   "cell_type": "code",
   "execution_count": null,
   "metadata": {},
   "outputs": [],
   "source": []
  },
  {
   "cell_type": "code",
   "execution_count": null,
   "metadata": {},
   "outputs": [],
   "source": []
  },
  {
   "cell_type": "code",
   "execution_count": null,
   "metadata": {},
   "outputs": [],
   "source": []
  },
  {
   "cell_type": "code",
   "execution_count": null,
   "metadata": {},
   "outputs": [],
   "source": []
  },
  {
   "cell_type": "code",
   "execution_count": null,
   "metadata": {},
   "outputs": [],
   "source": []
  },
  {
   "cell_type": "code",
   "execution_count": null,
   "metadata": {},
   "outputs": [],
   "source": []
  },
  {
   "cell_type": "code",
   "execution_count": null,
   "metadata": {},
   "outputs": [],
   "source": []
  },
  {
   "cell_type": "code",
   "execution_count": null,
   "metadata": {},
   "outputs": [],
   "source": []
  }
 ],
 "metadata": {
  "kernelspec": {
   "display_name": "Python 3",
   "language": "python",
   "name": "python3"
  },
  "language_info": {
   "codemirror_mode": {
    "name": "ipython",
    "version": 3
   },
   "file_extension": ".py",
   "mimetype": "text/x-python",
   "name": "python",
   "nbconvert_exporter": "python",
   "pygments_lexer": "ipython3",
   "version": "3.7.6"
  }
 },
 "nbformat": 4,
 "nbformat_minor": 4
}

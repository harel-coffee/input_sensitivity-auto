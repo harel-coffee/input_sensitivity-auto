{
 "cells": [
  {
   "cell_type": "markdown",
   "metadata": {},
   "source": [
    "# How many inputs do we need to compute a robust IS score?\n",
    "\n",
    "We study the evolution of the score for different inputs considered in the case of x264."
   ]
  },
  {
   "cell_type": "markdown",
   "metadata": {},
   "source": [
    "#### First, we import some libraries"
   ]
  },
  {
   "cell_type": "code",
   "execution_count": 1,
   "metadata": {},
   "outputs": [],
   "source": [
    "# for arrays\n",
    "import numpy as np\n",
    "\n",
    "# for dataframes\n",
    "import pandas as pd\n",
    "\n",
    "# plots\n",
    "import matplotlib.pyplot as plt\n",
    "from matplotlib.ticker import ScalarFormatter\n",
    "# high-level plots\n",
    "import seaborn as sns\n",
    "\n",
    "# statistics\n",
    "import scipy.stats as sc\n",
    "# hierarchical clustering, clusters\n",
    "from scipy.cluster.hierarchy import linkage, cut_tree, leaves_list\n",
    "from scipy import stats\n",
    "# statistical tests\n",
    "from scipy.stats import mannwhitneyu\n",
    "\n",
    "# machine learning library\n",
    "# Principal Component Analysis - determine new axis for representing data\n",
    "from sklearn.decomposition import PCA\n",
    "# Random Forests -> vote between decision trees\n",
    "# Gradient boosting -> instead of a vote, upgrade the same tree\n",
    "from sklearn.ensemble import RandomForestRegressor, RandomForestClassifier, GradientBoostingClassifier\n",
    "# Decision Tree\n",
    "from sklearn.tree import DecisionTreeRegressor, plot_tree\n",
    "# To add interactions in linear regressions models\n",
    "from sklearn.preprocessing import PolynomialFeatures\n",
    "# Elasticnet is an hybrid method between ridge and Lasso\n",
    "from sklearn.linear_model import LinearRegression, ElasticNet\n",
    "# To separate the data into training and test\n",
    "from sklearn.model_selection import train_test_split\n",
    "# Simple clustering (iterative steps)\n",
    "from sklearn.cluster import KMeans\n",
    "# get interactions of features\n",
    "from sklearn.preprocessing import PolynomialFeatures\n",
    "\n",
    "\n",
    "# we use it to interact with the file system\n",
    "import os\n",
    "# compute time\n",
    "from time import time\n",
    "\n",
    "# statistics\n",
    "import scipy.stats as sc\n",
    "# hierarchical clustering, clusters\n",
    "from scipy.cluster.hierarchy import linkage, cut_tree, leaves_list\n",
    "from scipy import stats\n",
    "# statistical tests\n",
    "from scipy.stats import mannwhitneyu\n",
    "\n",
    "# no warning\n",
    "import warnings\n",
    "warnings.filterwarnings(\"ignore\")"
   ]
  },
  {
   "cell_type": "markdown",
   "metadata": {},
   "source": [
    "### Import data"
   ]
  },
  {
   "cell_type": "code",
   "execution_count": 2,
   "metadata": {},
   "outputs": [],
   "source": [
    "data_dir = \"../../../data/\"\n",
    "name_systems = [\"nodejs\", \"poppler\", \"xz\", \"x264\", \"gcc\", \"lingeling\", \"sqlite\"]\n",
    "\n",
    "data = dict()\n",
    "inputs_name = dict()\n",
    "inputs_count = dict()\n",
    "\n",
    "inputs_perf = dict()\n",
    "\n",
    "inputs_perf[\"gcc\"] = [\"size\", \"ctime\", \"exec\"]\n",
    "inputs_perf[\"lingeling\"] = [\"conflicts\", \"reductions\"]\n",
    "inputs_perf[\"nodejs\"] = [\"ops\"]\n",
    "inputs_perf[\"poppler\"] = [\"size\", \"time\"]\n",
    "#inputs_perf[\"sqlite\"] = [\"q\"+str(i+1) for i in range(15)]\n",
    "#not enough room\n",
    "inputs_perf[\"sqlite\"] = [\"q1\",\"q12\",\"q14\"]\n",
    "inputs_perf[\"x264\"] = [\"size\", \"kbs\", \"fps\", \"etime\", \"cpu\"]\n",
    "inputs_perf[\"xz\"] = [\"size\", \"time\"]\n",
    "\n",
    "\n",
    "inputs_feat = dict()\n",
    "\n",
    "inputs_feat[\"gcc\"] = [\"optim\",\"-floop-interchange\",\"-fprefetch-loop-arrays\",\"-ffloat-store\",\"-fno-asm\"]\n",
    "inputs_feat[\"lingeling\"] = [\"--boost\", \"--carduse\", \"--decompose\", \"--gluescale\", \"--lkhd\", \"--memlim\", \n",
    "\"--minimize\", \"--prbsimple\", \"--sweepirr\", \"--sweepred\"]\n",
    "inputs_feat[\"nodejs\"] = [\"--jitless\", \"--experimental-wasm-modules\", \"--experimental-vm-modules\",\n",
    "                         \"--preserve-symlinks-main\",\"--no-warnings\",\"--node-memory-debug\"]\n",
    "inputs_feat[\"poppler\"] = [\"format\",\"j\",\"jp2\",\"jbig2\",\"ccitt\"]\n",
    "inputs_feat[\"sqlite\"] = [\"-deserialize\", \"-memtrace\", \"-maxsize\", \"-append\", \"-output\"]\n",
    "inputs_feat[\"x264\"] = [\"cabac\", \"ref\", \"deblock\", \"analyse\", \"me\", \"subme\", \"mixed_ref\", \"me_range\", \"trellis\", \n",
    "                \"8x8dct\", \"fast_pskip\", \"chroma_qp_offset\", \"bframes\", \"b_pyramid\", \"b_adapt\", \"direct\", \n",
    "                \"weightb\", \"open_gop\", \"weightp\", \"scenecut\", \"rc_lookahead\", \"mbtree\", \"qpmax\", \"aq-mode\"]\n",
    "inputs_feat[\"xz\"] = [\"memory\",\"format\",\"level\",\"depth\"]\n",
    "\n",
    "\n",
    "inputs_categ = dict()\n",
    "\n",
    "inputs_categ[\"gcc\"] = [\"optim\"]\n",
    "inputs_categ[\"lingeling\"] = []\n",
    "inputs_categ[\"nodejs\"] = []\n",
    "inputs_categ[\"poppler\"] = [\"format\"]\n",
    "inputs_categ[\"sqlite\"] = []\n",
    "inputs_categ[\"x264\"] = ['analyse', 'me', 'direct', 'deblock']\n",
    "inputs_categ[\"xz\"] = ['memory', 'format']\n",
    "\n",
    "\n",
    "for ns in name_systems:\n",
    "    \n",
    "    data_path = data_dir+ns+'/'\n",
    "    \n",
    "    inputs = sorted(os.listdir(data_path))\n",
    "    inputs.remove('others')\n",
    "\n",
    "    inputs_name[ns] = inputs\n",
    "    inputs_count[ns] = len(inputs)\n",
    "    \n",
    "    for i in range(len(inputs)):\n",
    "        loc = data_path+inputs[i]\n",
    "        data[ns, i] = pd.read_csv(loc)"
   ]
  },
  {
   "cell_type": "code",
   "execution_count": null,
   "metadata": {},
   "outputs": [],
   "source": []
  },
  {
   "cell_type": "markdown",
   "metadata": {},
   "source": [
    "# RQ1 results"
   ]
  },
  {
   "cell_type": "code",
   "execution_count": 3,
   "metadata": {},
   "outputs": [],
   "source": [
    "def plot_correlationmatrix_dendogram(ns, dim, inputs_nb):\n",
    "    # ns : name_system\n",
    "    # dim : dimension\n",
    "    # output : a plot of an ordered correlogram of the different compile-time options\n",
    "    \n",
    "    # number of inputs\n",
    "    # inputs_nb = inputs_count[ns]\n",
    "\n",
    "    corr = [[0 for x in range(inputs_nb)] for y in range(inputs_nb)]\n",
    "\n",
    "    for i in range(inputs_nb):\n",
    "        for j in range(inputs_nb):\n",
    "            # A distribution of bitrates will have a correlaiton of 1 with itself\n",
    "            if (i == j):\n",
    "                corr[i][j] = 1\n",
    "            else:\n",
    "                # we compute the Spearman correlation between the input video i and the input video j\n",
    "                corr[i][j] = sc.spearmanr(data[ns, i][dim],\n",
    "                                          data[ns, j][dim]).correlation\n",
    "\n",
    "    # we transform our matrix into a dataframe\n",
    "    df = pd.DataFrame(corr)\n",
    "    # we replace nan correlations (with a distribution whose values are all equal to 0)\n",
    "    df = df.fillna(0)\n",
    "\n",
    "    # group the videos, we choose the ward method \n",
    "    # single link method (minimum of distance) leads to numerous tiny clusters\n",
    "    # centroid or average tend to split homogeneous clusters\n",
    "    # and complete link aggregates unbalanced groups. \n",
    "    links = linkage(df, method=\"ward\",)\n",
    "    order = leaves_list(links)\n",
    "    \n",
    "    # Generate a mask for the upper triangle\n",
    "    # we order the correlation following the aggregation clustering\n",
    "    mask = np.zeros_like(corr, dtype=np.bool)\n",
    "\n",
    "    for i in range(inputs_nb):\n",
    "        for j in range(inputs_nb):    \n",
    "            if i>j:\n",
    "                mask[order[i]][order[j]] = True\n",
    "    \n",
    "    # compute the actual clustermap\n",
    "    g = sns.clustermap(df, cmap=\"vlag\", mask=mask, method=\"ward\",\n",
    "                   linewidths=0, figsize=(13, 13), \n",
    "                   cbar_kws={\"ticks\":[k/5 for k in np.arange(-10,10,1)]}, \n",
    "                   vmin =-1)\n",
    "    g.ax_heatmap.set_yticklabels([])\n",
    "    g.ax_heatmap.set_xticklabels([])\n",
    "    g.ax_heatmap.tick_params(right=False, bottom=False)\n",
    "    # abcissa and ordered labels\n",
    "    g.ax_heatmap.set_xlabel(\"Inputs\", fontsize = 18)\n",
    "    g.ax_heatmap.set_ylabel(\"Inputs\", fontsize = 18)\n",
    "    # we save the figure in the result folder\n",
    "    # we show the graph\n",
    "    #plt.show()\n",
    "    \n",
    "    return corr"
   ]
  },
  {
   "cell_type": "code",
   "execution_count": null,
   "metadata": {},
   "outputs": [],
   "source": [
    "max_corrs = dict()\n",
    "min_corrs = dict()\n",
    "\n",
    "nb_inputs = [2, 3, 4, 5, 6, 7, 8, 9, 10, 12, 15, 20, 25, 30, 50, 75, 100, 200, 300]\n",
    "\n",
    "for perf in inputs_perf[\"x264\"]:\n",
    "    for nb_inp in nb_inputs:\n",
    "        corrs = plot_correlationmatrix_dendogram(\"x264\", perf, nb_inp)\n",
    "        max_corrs[perf, nb_inp] = max(max(corrs))\n",
    "        min_corrs[perf, nb_inp] = min(min(corrs))"
   ]
  },
  {
   "cell_type": "markdown",
   "metadata": {},
   "source": [
    "# RQ3 results"
   ]
  },
  {
   "cell_type": "code",
   "execution_count": 5,
   "metadata": {},
   "outputs": [],
   "source": [
    "def get_ratios(ns, perf, nb_inputs):\n",
    "    \n",
    "    ratios = []\n",
    "    \n",
    "    #nb_inputs = inputs_count[ns]\n",
    "    \n",
    "    for index_target in range(nb_inputs):\n",
    "\n",
    "        list_ratios = []\n",
    "        s1 = np.max(data[ns, index_target][perf])\n",
    "\n",
    "        for i in range(10):\n",
    "            index_source = np.random.randint(nb_inputs)\n",
    "            s2 = data[ns, index_target][perf][np.argmax(data[ns, index_source][perf])]\n",
    "            # we drop the ratios that are division per 0 or nan values\n",
    "            if not np.isnan(s1) and not np.isnan(s2) and s2!=0:\n",
    "                # we drop the ratios too high because it is just due to the fact that s2 is too low \n",
    "                # and it increases the standard deviation\n",
    "                if int(s1/s2) <= 50:\n",
    "                    list_ratios.append(s1/s2)\n",
    "\n",
    "        ratios.append(np.nanmean(list_ratios))\n",
    "\n",
    "    return (np.nanmean(ratios), \n",
    "            np.nanstd(ratios), \n",
    "            np.nanpercentile(ratios,5),\n",
    "            np.nanpercentile(ratios,25),\n",
    "            np.nanmedian(ratios),\n",
    "            np.nanpercentile(ratios,75),\n",
    "            np.nanpercentile(ratios,95))"
   ]
  },
  {
   "cell_type": "code",
   "execution_count": 6,
   "metadata": {},
   "outputs": [],
   "source": [
    "ratios = dict()\n",
    "\n",
    "for perf in inputs_perf[\"x264\"]:\n",
    "    for nb_inp in nb_inputs:\n",
    "        tab = [get_ratios(\"x264\", perf, nb_inp)[4] for i in range(20)]\n",
    "        ratios[perf, nb_inp] = np.mean(tab)"
   ]
  },
  {
   "cell_type": "markdown",
   "metadata": {},
   "source": [
    "# RQ4 results"
   ]
  },
  {
   "cell_type": "code",
   "execution_count": 7,
   "metadata": {},
   "outputs": [],
   "source": [
    "alpha = 0.1\n",
    "scores = dict()\n",
    "\n",
    "for perf in inputs_perf[\"x264\"]:\n",
    "    for nb_inp in nb_inputs:\n",
    "        scores[perf, nb_inp] = np.round(np.abs(max_corrs[perf, nb_inp]-min_corrs[perf, nb_inp])/4 + min(ratios[perf, nb_inp]-1, alpha)/(2*alpha),2)"
   ]
  },
  {
   "cell_type": "code",
   "execution_count": 9,
   "metadata": {},
   "outputs": [
    {
     "data": {
      "image/png": "[encoded data removed]",
      "text/plain": [
       "<Figure size 1152x576 with 1 Axes>"
      ]
     },
     "metadata": {
      "needs_background": "light"
     },
     "output_type": "display_data"
    }
   ],
   "source": [
    "fig = plt.figure(figsize=(16,8))\n",
    "ax = fig.add_subplot(111)\n",
    "\n",
    "plt.grid(alpha=0.5)\n",
    "\n",
    "markers = ['x', 'o', 's', 'p', 'P']\n",
    "\n",
    "for i in range(len(inputs_perf[\"x264\"])):\n",
    "    perf = inputs_perf[\"x264\"][i]\n",
    "    ax.scatter(nb_inputs, [scores[perf, nb_inp] for nb_inp in nb_inputs], \n",
    "               label = perf, marker=markers[i], s = 50)\n",
    "\n",
    "ax.set_xscale('log')\n",
    "ax.tick_params(axis='both', which='major', labelsize=12)\n",
    "ax.get_xaxis().set_major_formatter(ScalarFormatter())\n",
    "ax.set_xticks(nb_inputs, minor= False)\n",
    "\n",
    "plt.xlim(1.9, 300)\n",
    "plt.ylabel(\"IS score\", fontsize = 30)\n",
    "plt.xlabel(\"# Inputs\", fontsize = 30)\n",
    "plt.legend(fontsize =10)\n",
    "plt.show()"
   ]
  },
  {
   "cell_type": "code",
   "execution_count": null,
   "metadata": {},
   "outputs": [],
   "source": []
  },
  {
   "cell_type": "code",
   "execution_count": null,
   "metadata": {},
   "outputs": [],
   "source": []
  },
  {
   "cell_type": "code",
   "execution_count": null,
   "metadata": {},
   "outputs": [],
   "source": []
  },
  {
   "cell_type": "code",
   "execution_count": null,
   "metadata": {},
   "outputs": [],
   "source": []
  },
  {
   "cell_type": "code",
   "execution_count": null,
   "metadata": {},
   "outputs": [],
   "source": []
  },
  {
   "cell_type": "code",
   "execution_count": null,
   "metadata": {},
   "outputs": [],
   "source": []
  },
  {
   "cell_type": "code",
   "execution_count": null,
   "metadata": {},
   "outputs": [],
   "source": []
  },
  {
   "cell_type": "code",
   "execution_count": null,
   "metadata": {},
   "outputs": [],
   "source": []
  },
  {
   "cell_type": "code",
   "execution_count": null,
   "metadata": {},
   "outputs": [],
   "source": []
  },
  {
   "cell_type": "code",
   "execution_count": null,
   "metadata": {},
   "outputs": [],
   "source": []
  },
  {
   "cell_type": "code",
   "execution_count": null,
   "metadata": {},
   "outputs": [],
   "source": []
  },
  {
   "cell_type": "code",
   "execution_count": null,
   "metadata": {},
   "outputs": [],
   "source": []
  }
 ],
 "metadata": {
  "kernelspec": {
   "display_name": "Python 3",
   "language": "python",
   "name": "python3"
  },
  "language_info": {
   "codemirror_mode": {
    "name": "ipython",
    "version": 3
   },
   "file_extension": ".py",
   "mimetype": "text/x-python",
   "name": "python",
   "nbconvert_exporter": "python",
   "pygments_lexer": "ipython3",
   "version": "3.8.1"
  }
 },
 "nbformat": 4,
 "nbformat_minor": 4
}

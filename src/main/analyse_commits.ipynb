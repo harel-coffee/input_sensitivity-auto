{
 "cells": [
  {
   "cell_type": "markdown",
   "metadata": {},
   "source": [
    "## In this notebook, we study the commits of x264 to get additional information about x264's features \n",
    "\n",
    "The commits are extracted from this repo : https://github.com/mirror/x264\n",
    "\n",
    "We consider the master (or main?) branch "
   ]
  },
  {
   "cell_type": "markdown",
   "metadata": {},
   "source": [
    "Libraries"
   ]
  },
  {
   "cell_type": "code",
   "execution_count": 2,
   "metadata": {},
   "outputs": [],
   "source": [
    "import os\n",
    "import json"
   ]
  },
  {
   "cell_type": "markdown",
   "metadata": {},
   "source": [
    "Load"
   ]
  },
  {
   "cell_type": "code",
   "execution_count": 3,
   "metadata": {},
   "outputs": [],
   "source": [
    "commits = json.load(open(\"../../data/commits_x264.json\"))"
   ]
  },
  {
   "cell_type": "markdown",
   "metadata": {},
   "source": [
    "Example of a commit"
   ]
  },
  {
   "cell_type": "code",
   "execution_count": 4,
   "metadata": {},
   "outputs": [
    {
     "data": {
      "text/plain": [
       "{'sha': 'e586d699b2f13364aa443b367dba9fe38699f5de',\n",
       " 'node_id': 'MDY6Q29tbWl0MjUwMTIxODk6ZTU4NmQ2OTliMmYxMzM2NGFhNDQzYjM2N2RiYTlmZTM4Njk5ZjVkZQ==',\n",
       " 'commit': {'author': {'name': 'Fiona Glaser',\n",
       "   'email': 'fiona@x264.com',\n",
       "   'date': '2009-08-14T00:13:33Z'},\n",
       "  'committer': {'name': 'Fiona Glaser',\n",
       "   'email': 'fiona@x264.com',\n",
       "   'date': '2009-08-14T00:13:33Z'},\n",
       "  'message': 'Fix a potential failure in VBV\\nIf VBV does underflow, ratecontrol could be permanently broken for the rest of the clip.\\nRevert part of the previous VBV changes to fix this.',\n",
       "  'tree': {'sha': 'b2fe82a234ece242d4710cf2d838e17ca3a8c869',\n",
       "   'url': 'https://api.github.com/repos/mirror/x264/git/trees/b2fe82a234ece242d4710cf2d838e17ca3a8c869'},\n",
       "  'url': 'https://api.github.com/repos/mirror/x264/git/commits/e586d699b2f13364aa443b367dba9fe38699f5de',\n",
       "  'comment_count': 0,\n",
       "  'verification': {'verified': False,\n",
       "   'reason': 'unsigned',\n",
       "   'signature': None,\n",
       "   'payload': None}},\n",
       " 'url': 'https://api.github.com/repos/mirror/x264/commits/e586d699b2f13364aa443b367dba9fe38699f5de',\n",
       " 'html_url': 'https://github.com/mirror/x264/commit/e586d699b2f13364aa443b367dba9fe38699f5de',\n",
       " 'comments_url': 'https://api.github.com/repos/mirror/x264/commits/e586d699b2f13364aa443b367dba9fe38699f5de/comments',\n",
       " 'author': None,\n",
       " 'committer': None,\n",
       " 'parents': [{'sha': 'db724ac24e6a94c896e1bac6f4c7b5a5504ed773',\n",
       "   'url': 'https://api.github.com/repos/mirror/x264/commits/db724ac24e6a94c896e1bac6f4c7b5a5504ed773',\n",
       "   'html_url': 'https://github.com/mirror/x264/commit/db724ac24e6a94c896e1bac6f4c7b5a5504ed773'}]}"
      ]
     },
     "execution_count": 4,
     "metadata": {},
     "output_type": "execute_result"
    }
   ],
   "source": [
    "commits[0]"
   ]
  },
  {
   "cell_type": "markdown",
   "metadata": {},
   "source": [
    "## First of all, we delete all the commits posterior to the commit related to our version of x264\n",
    "\n",
    "https://stackoverflow.com/questions/11856983/why-git-authordate-is-different-from-commitdate\n",
    "We take the authordate as reference"
   ]
  },
  {
   "cell_type": "code",
   "execution_count": 13,
   "metadata": {},
   "outputs": [
    {
     "data": {
      "text/plain": [
       "2896"
      ]
     },
     "execution_count": 13,
     "metadata": {},
     "output_type": "execute_result"
    }
   ],
   "source": [
    "msgs = [c['commit']['message'] for c in commits if c['commit']['author']['date'][:10]<=\"2017-10-22\"]\n",
    "\n",
    "len(msgs)"
   ]
  },
  {
   "cell_type": "markdown",
   "metadata": {},
   "source": [
    "#### We keep 2896 commit messages"
   ]
  },
  {
   "cell_type": "code",
   "execution_count": 14,
   "metadata": {},
   "outputs": [
    {
     "data": {
      "text/plain": [
       "['Fix a potential failure in VBV\\nIf VBV does underflow, ratecontrol could be permanently broken for the rest of the clip.\\nRevert part of the previous VBV changes to fix this.',\n",
       " 'new API function x264_encoder_delayed_frames.\\nfix x264cli on streams whose total length is less than the encoder latency.',\n",
       " 'Add no-mbtree to fprofile (and fix pyramid in fprofile)',\n",
       " \"Don't print a warning about direct=auto in 2pass when B-frames are off\",\n",
       " 'fix lowres padding, which failed to extrapolate the right side for some resolutions.\\nfix a buffer overread in x264_mbtree_propagate_cost_sse2. no effect on actual behavior, only theoretical correctness.\\nfix x264_slicetype_frame_cost_recalculate on I-frames, which previously used all 0 mb costs.\\nshut up a valgrind warning in predict_8x8_filter_mmx.',\n",
       " 'simd part of x264_macroblock_tree_propagate.\\n1.6x faster on conroe.',\n",
       " 'MB-tree fixes:\\nAQ was applied inconsistently, with some AQed costs compared to other non-AQed costs. Strangely enough, fixing this increases SSIM on some sources but decreases it on others. More investigation needed.\\nAccount for weighted bipred.\\nReduce memory, increase precision, simplify, and early terminate.',\n",
       " 'Add missing free()s for new data allocated for MB-tree\\nEliminates a memory leak.',\n",
       " 'Fix keyframe insertion with MB-tree and no B-frames',\n",
       " 'Fix MP4 output (bug in malloc checking patch)',\n",
       " 'Gracefully terminate in the case of a malloc failure\\nFuzz tests show that all mallocs appear to be checked correctly now.',\n",
       " \"Fix a potential infinite loop in QPfile parsing on Windows\\nftell doesn't seem to work properly on Windows in text mode.\",\n",
       " \"Fix delay calculation with multiple threads\\nDelay frames for threading don't actually count as part of lookahead.\",\n",
       " 'Add \"veryslow\" preset\\nApparently some people are actually *using* placebo, so I\\'ve added this preset to bridge the gap.',\n",
       " 'Macroblock-tree ratecontrol\\nOn by default; can be turned off with --no-mbtree.\\nUses a large lookahead to track temporal propagation of data and weight quality accordingly.\\nRequires a very large separate statsfile (2 bytes per macroblock) in multi-pass mode.\\nDoesn\\'t work with b-pyramid yet.\\nNote that MB-tree inherently measures quality different from the standard qcomp method, so bitrates produced by CRF may change somewhat.\\nThis makes the \"medium\" preset a bit slower.  Accordingly, make \"fast\" slower as well, and introduce a new preset \"faster\" between \"fast\" and \"veryfast\".\\nAll presets \"fast\" and above will have MB-tree on.\\nAdd a new option, --rc-lookahead, to control the distance MB tree looks ahead to perform propagation analysis.\\nDefault is 40; larger values will be slower and require more memory but give more accurate results.\\nThis value will be used in the future to control ratecontrol lookahead (VBV).\\nAdd a new option, --no-psy, to disable all psy optimizations that don\\'t improve PSNR or SSIM.\\nThis disables psy-RD/trellis, but also other more subtle internal psy optimizations that can\\'t be controlled directly via external parameters.\\nQuality improvement from MB-tree is about 2-70% depending on content.\\nStrength of MB-tree adjustments can be tweaked using qcompress; higher values mean lower MB-tree strength.\\nNote that MB-tree may perform slightly suboptimally on fades; this will be fixed by weighted prediction, which is coming soon.']"
      ]
     },
     "execution_count": 14,
     "metadata": {},
     "output_type": "execute_result"
    }
   ],
   "source": [
    "msgs[0:15]"
   ]
  },
  {
   "cell_type": "code",
   "execution_count": null,
   "metadata": {},
   "outputs": [],
   "source": []
  },
  {
   "cell_type": "code",
   "execution_count": null,
   "metadata": {},
   "outputs": [],
   "source": []
  }
 ],
 "metadata": {
  "kernelspec": {
   "display_name": "Python 3",
   "language": "python",
   "name": "python3"
  },
  "language_info": {
   "codemirror_mode": {
    "name": "ipython",
    "version": 3
   },
   "file_extension": ".py",
   "mimetype": "text/x-python",
   "name": "python",
   "nbconvert_exporter": "python",
   "pygments_lexer": "ipython3",
   "version": "3.7.6"
  }
 },
 "nbformat": 4,
 "nbformat_minor": 4
}

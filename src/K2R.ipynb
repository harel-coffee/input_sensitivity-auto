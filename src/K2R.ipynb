{
 "cells": [
  {
   "cell_type": "markdown",
   "metadata": {},
   "source": [
    "Import libraries"
   ]
  },
  {
   "cell_type": "code",
   "execution_count": 3,
   "metadata": {},
   "outputs": [],
   "source": [
    "import os\n",
    "\n",
    "import pandas as pd\n",
    "\n",
    "import numpy as np\n",
    "\n",
    "from scipy import stats\n",
    "import scipy.stats as sc\n",
    "from scipy.cluster.hierarchy import linkage, leaves_list\n",
    "\n",
    "import statsmodels.api as sm\n",
    "\n",
    "from sklearn import preprocessing\n",
    "from sklearn.model_selection import train_test_split\n",
    "from sklearn.metrics import r2_score\n",
    "from sklearn.ensemble import RandomForestRegressor\n",
    "\n",
    "import seaborn as sns\n",
    "\n",
    "import matplotlib.pyplot as plt\n",
    "%matplotlib inline\n",
    "\n",
    "from import_data import load_data"
   ]
  },
  {
   "cell_type": "markdown",
   "metadata": {},
   "source": [
    "Import data"
   ]
  },
  {
   "cell_type": "code",
   "execution_count": 4,
   "metadata": {},
   "outputs": [
    {
     "name": "stdout",
     "output_type": "stream",
     "text": [
      "   configurationID  H264  no_8x8dct  no_asm  no_cabac  no_deblock  \\\n",
      "0                1  True       True   False     False        True   \n",
      "1               10  True       True   False      True       False   \n",
      "2              100  True       True   False     False        True   \n",
      "3             1000  True       True   False      True       False   \n",
      "4             1001  True      False   False     False        True   \n",
      "\n",
      "   no_fast_pskip  no_mbtree  no_mixed_refs  no_weightb  rc_lookahead  ref  \\\n",
      "0           True      False           True        True            20    9   \n",
      "1           True      False          False        True            40    9   \n",
      "2          False       True           True       False            40    1   \n",
      "3           True       True           True       False            40    9   \n",
      "4          False      False           True       False            60    5   \n",
      "\n",
      "      size  usertime  systemtime  elapsedtime  \n",
      "0  1718492   22.9416      0.2784       3.1876  \n",
      "1  1962957   26.8176      0.3136       4.5942  \n",
      "2  3657562   18.7344      0.2088       2.4482  \n",
      "3  3436410   24.3128      0.2744       3.4714  \n",
      "4  2066645   20.1128      0.2872       3.0110  \n",
      "There are 17 videos\n"
     ]
    }
   ],
   "source": [
    "listVideo = load_data('../data_luc/video/')\n",
    "    \n",
    "nbVideos = len(listVideo)\n",
    "\n",
    "def mape(y_true, y_pred):\n",
    "    return np.mean(np.abs((y_true-y_pred)/y_true))"
   ]
  },
  {
   "cell_type": "markdown",
   "metadata": {},
   "source": [
    "## 1) K2R"
   ]
  },
  {
   "cell_type": "code",
   "execution_count": null,
   "metadata": {},
   "outputs": [],
   "source": []
  },
  {
   "cell_type": "code",
   "execution_count": null,
   "metadata": {},
   "outputs": [],
   "source": []
  }
 ],
 "metadata": {
  "kernelspec": {
   "display_name": "Python 3",
   "language": "python",
   "name": "python3"
  },
  "language_info": {
   "codemirror_mode": {
    "name": "ipython",
    "version": 3
   },
   "file_extension": ".py",
   "mimetype": "text/x-python",
   "name": "python",
   "nbconvert_exporter": "python",
   "pygments_lexer": "ipython3",
   "version": "3.7.5"
  }
 },
 "nbformat": 4,
 "nbformat_minor": 2
}

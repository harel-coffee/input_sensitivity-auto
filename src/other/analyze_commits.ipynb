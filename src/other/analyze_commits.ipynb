{
 "cells": [
  {
   "cell_type": "markdown",
   "metadata": {},
   "source": [
    "## In this notebook, we study the commits of x264 to get additional information about x264's features \n",
    "\n",
    "The commits are extracted from this repo : https://github.com/mirror/x264\n",
    "\n",
    "We consider the master (or main?) branch "
   ]
  },
  {
   "cell_type": "markdown",
   "metadata": {},
   "source": [
    "Libraries"
   ]
  },
  {
   "cell_type": "code",
   "execution_count": 1,
   "metadata": {},
   "outputs": [],
   "source": [
    "import os\n",
    "import json\n",
    "\n",
    "import numpy as np\n",
    "import pandas as pd\n",
    "\n",
    "#natural language processing\n",
    "import nltk\n",
    "from nltk.corpus import stopwords\n",
    "from nltk.stem import WordNetLemmatizer\n",
    "from nltk.stem import PorterStemmer\n",
    "#nltk.download()"
   ]
  },
  {
   "cell_type": "markdown",
   "metadata": {},
   "source": [
    "Load"
   ]
  },
  {
   "cell_type": "code",
   "execution_count": 3,
   "metadata": {},
   "outputs": [],
   "source": [
    "commits = json.load(open(\"../../data/commits_x264/commits_x264.json\"))"
   ]
  },
  {
   "cell_type": "markdown",
   "metadata": {},
   "source": [
    "Example of a commit"
   ]
  },
  {
   "cell_type": "code",
   "execution_count": 4,
   "metadata": {},
   "outputs": [
    {
     "data": {
      "text/plain": [
       "{'sha': 'e586d699b2f13364aa443b367dba9fe38699f5de',\n",
       " 'node_id': 'MDY6Q29tbWl0MjUwMTIxODk6ZTU4NmQ2OTliMmYxMzM2NGFhNDQzYjM2N2RiYTlmZTM4Njk5ZjVkZQ==',\n",
       " 'commit': {'author': {'name': 'Fiona Glaser',\n",
       "   'email': 'fiona@x264.com',\n",
       "   'date': '2009-08-14T00:13:33Z'},\n",
       "  'committer': {'name': 'Fiona Glaser',\n",
       "   'email': 'fiona@x264.com',\n",
       "   'date': '2009-08-14T00:13:33Z'},\n",
       "  'message': 'Fix a potential failure in VBV\\nIf VBV does underflow, ratecontrol could be permanently broken for the rest of the clip.\\nRevert part of the previous VBV changes to fix this.',\n",
       "  'tree': {'sha': 'b2fe82a234ece242d4710cf2d838e17ca3a8c869',\n",
       "   'url': 'https://api.github.com/repos/mirror/x264/git/trees/b2fe82a234ece242d4710cf2d838e17ca3a8c869'},\n",
       "  'url': 'https://api.github.com/repos/mirror/x264/git/commits/e586d699b2f13364aa443b367dba9fe38699f5de',\n",
       "  'comment_count': 0,\n",
       "  'verification': {'verified': False,\n",
       "   'reason': 'unsigned',\n",
       "   'signature': None,\n",
       "   'payload': None}},\n",
       " 'url': 'https://api.github.com/repos/mirror/x264/commits/e586d699b2f13364aa443b367dba9fe38699f5de',\n",
       " 'html_url': 'https://github.com/mirror/x264/commit/e586d699b2f13364aa443b367dba9fe38699f5de',\n",
       " 'comments_url': 'https://api.github.com/repos/mirror/x264/commits/e586d699b2f13364aa443b367dba9fe38699f5de/comments',\n",
       " 'author': None,\n",
       " 'committer': None,\n",
       " 'parents': [{'sha': 'db724ac24e6a94c896e1bac6f4c7b5a5504ed773',\n",
       "   'url': 'https://api.github.com/repos/mirror/x264/commits/db724ac24e6a94c896e1bac6f4c7b5a5504ed773',\n",
       "   'html_url': 'https://github.com/mirror/x264/commit/db724ac24e6a94c896e1bac6f4c7b5a5504ed773'}]}"
      ]
     },
     "execution_count": 4,
     "metadata": {},
     "output_type": "execute_result"
    }
   ],
   "source": [
    "commits[0]"
   ]
  },
  {
   "cell_type": "markdown",
   "metadata": {},
   "source": [
    "## First of all, we delete all the commits posterior to the one relative to our version of x264\n",
    "\n",
    "https://stackoverflow.com/questions/11856983/why-git-authordate-is-different-from-commitdate\n",
    "We take the authordate as reference"
   ]
  },
  {
   "cell_type": "code",
   "execution_count": 12,
   "metadata": {},
   "outputs": [
    {
     "data": {
      "text/plain": [
       "array(['fiona@x264.com', 'pengvado@akuvian.org', 'henrik@gramner.com',\n",
       "       'BugMaster@narod.ru', 'pengvado@videolan.org',\n",
       "       'fenrir@videolan.org', 'mru@mru.ath.cx', 'titer@videolan.org',\n",
       "       'gpoirier@mplayerhq.hu', 'sam@videolan.org', 'robux@videolan.org',\n",
       "       'chenm001@163.com', 'videolan@videolan.org', 'thresh@videolan.org',\n",
       "       'lool@videolan.org', 'aizvorski@gmail.com', 'xtophe@videolan.org',\n",
       "       'bugmaster@narod.ru', 'slyfox@inbox.ru', 'gramner@twoorioles.com',\n",
       "       'fkuehne@videolan.org', 'eric.petit@lapsus.org'], dtype=object)"
      ]
     },
     "execution_count": 12,
     "metadata": {},
     "output_type": "execute_result"
    }
   ],
   "source": [
    "msgs = pd.Series([c['commit']['committer']['email'] for c in commits]).unique()\n",
    "\n",
    "len(msgs)\n",
    "msgs"
   ]
  },
  {
   "cell_type": "code",
   "execution_count": 5,
   "metadata": {},
   "outputs": [
    {
     "data": {
      "text/plain": [
       "2896"
      ]
     },
     "execution_count": 5,
     "metadata": {},
     "output_type": "execute_result"
    }
   ],
   "source": [
    "msgs = [c['commit']['message'] for c in commits if c['commit']['author']['date'][:10]<=\"2017-10-22\"]\n",
    "\n",
    "len(msgs)"
   ]
  },
  {
   "cell_type": "markdown",
   "metadata": {},
   "source": [
    "#### We keep 2896 commit messages"
   ]
  },
  {
   "cell_type": "code",
   "execution_count": 32,
   "metadata": {},
   "outputs": [
    {
     "data": {
      "text/plain": [
       "['Fix a potential failure in VBV\\nIf VBV does underflow, ratecontrol could be permanently broken for the rest of the clip.\\nRevert part of the previous VBV changes to fix this.',\n",
       " 'new API function x264_encoder_delayed_frames.\\nfix x264cli on streams whose total length is less than the encoder latency.',\n",
       " 'Add no-mbtree to fprofile (and fix pyramid in fprofile)',\n",
       " \"Don't print a warning about direct=auto in 2pass when B-frames are off\",\n",
       " 'fix lowres padding, which failed to extrapolate the right side for some resolutions.\\nfix a buffer overread in x264_mbtree_propagate_cost_sse2. no effect on actual behavior, only theoretical correctness.\\nfix x264_slicetype_frame_cost_recalculate on I-frames, which previously used all 0 mb costs.\\nshut up a valgrind warning in predict_8x8_filter_mmx.',\n",
       " 'simd part of x264_macroblock_tree_propagate.\\n1.6x faster on conroe.',\n",
       " 'MB-tree fixes:\\nAQ was applied inconsistently, with some AQed costs compared to other non-AQed costs. Strangely enough, fixing this increases SSIM on some sources but decreases it on others. More investigation needed.\\nAccount for weighted bipred.\\nReduce memory, increase precision, simplify, and early terminate.',\n",
       " 'Add missing free()s for new data allocated for MB-tree\\nEliminates a memory leak.',\n",
       " 'Fix keyframe insertion with MB-tree and no B-frames',\n",
       " 'Fix MP4 output (bug in malloc checking patch)',\n",
       " 'Gracefully terminate in the case of a malloc failure\\nFuzz tests show that all mallocs appear to be checked correctly now.',\n",
       " \"Fix a potential infinite loop in QPfile parsing on Windows\\nftell doesn't seem to work properly on Windows in text mode.\",\n",
       " \"Fix delay calculation with multiple threads\\nDelay frames for threading don't actually count as part of lookahead.\",\n",
       " 'Add \"veryslow\" preset\\nApparently some people are actually *using* placebo, so I\\'ve added this preset to bridge the gap.',\n",
       " 'Macroblock-tree ratecontrol\\nOn by default; can be turned off with --no-mbtree.\\nUses a large lookahead to track temporal propagation of data and weight quality accordingly.\\nRequires a very large separate statsfile (2 bytes per macroblock) in multi-pass mode.\\nDoesn\\'t work with b-pyramid yet.\\nNote that MB-tree inherently measures quality different from the standard qcomp method, so bitrates produced by CRF may change somewhat.\\nThis makes the \"medium\" preset a bit slower.  Accordingly, make \"fast\" slower as well, and introduce a new preset \"faster\" between \"fast\" and \"veryfast\".\\nAll presets \"fast\" and above will have MB-tree on.\\nAdd a new option, --rc-lookahead, to control the distance MB tree looks ahead to perform propagation analysis.\\nDefault is 40; larger values will be slower and require more memory but give more accurate results.\\nThis value will be used in the future to control ratecontrol lookahead (VBV).\\nAdd a new option, --no-psy, to disable all psy optimizations that don\\'t improve PSNR or SSIM.\\nThis disables psy-RD/trellis, but also other more subtle internal psy optimizations that can\\'t be controlled directly via external parameters.\\nQuality improvement from MB-tree is about 2-70% depending on content.\\nStrength of MB-tree adjustments can be tweaked using qcompress; higher values mean lower MB-tree strength.\\nNote that MB-tree may perform slightly suboptimally on fades; this will be fixed by weighted prediction, which is coming soon.']"
      ]
     },
     "execution_count": 32,
     "metadata": {},
     "output_type": "execute_result"
    }
   ],
   "source": [
    "msgs[0:15]"
   ]
  },
  {
   "cell_type": "markdown",
   "metadata": {},
   "source": [
    "# Analyze:\n",
    "\n",
    "## Performance\n",
    "\n",
    "### Encoding size\n",
    "\n",
    "## Features\n",
    "\n",
    "### 1. mbtree\n",
    "### 2. aq-mode\n",
    "### 3. subme\n",
    "\n"
   ]
  },
  {
   "cell_type": "markdown",
   "metadata": {},
   "source": [
    "### We:\n",
    "- remove the punctuation;\n",
    "- normalize the words; \n",
    "- remove the stopwords;\n",
    "- use stemming & lemmatization."
   ]
  },
  {
   "cell_type": "code",
   "execution_count": 42,
   "metadata": {
    "scrolled": false
   },
   "outputs": [
    {
     "name": "stdout",
     "output_type": "stream",
     "text": [
      "Number of size commits : 316\n",
      "Number of mbt commits : 86\n",
      "Number of aq commits : 14\n",
      "Number of subme commits : 20\n"
     ]
    }
   ],
   "source": [
    "stop_w = stopwords.words(\"english\")\n",
    "lemmatizer = WordNetLemmatizer()\n",
    "ps = PorterStemmer()\n",
    "\n",
    "keywords_size = ['size', 'byte', 'space', 'file', 'memori', 'output', 'video']\n",
    "\n",
    "keywords_mbtree = ['mbtree','mb-tree','mb_tree', 'macroblock']\n",
    "keywords_aq_mode = ['aq', 'aq-mode', 'aq_mode']\n",
    "keywords_subme = ['subm', 'subq', 'subme']\n",
    "\n",
    "#keywords_decrease = ['reduc', 'decreas', 'small', 'save' ]\n",
    "#keywords_increase = ['larg', 'increas', ]\n",
    "\n",
    "def get_commits(keywords, list_words):\n",
    "    keep_commit = False\n",
    "    for kw_mbt in keywords:\n",
    "        for mw in list_words:\n",
    "            if kw_mbt in list_words:\n",
    "                keep_commit = True\n",
    "    return keep_commit\n",
    "\n",
    "commits_size = dict()\n",
    "commits_mbt = dict()\n",
    "commits_aq = dict()\n",
    "commits_subme = dict()\n",
    "\n",
    "for id_msg in range(len(msgs)):\n",
    "    \n",
    "    msg = msgs[id_msg].lower()\n",
    "    \n",
    "    #print(msg)\n",
    "    \n",
    "    del_c = ['*', '\"', ',', ';', ':', '(', ')']\n",
    "    space_c = ['\\n', '.']\n",
    "\n",
    "    for c in del_c:\n",
    "        msg = msg.replace(c, '')\n",
    "    for c in space_c:\n",
    "        msg = msg.replace(c, ' ')\n",
    "\n",
    "    words = msg.split(' ')\n",
    "\n",
    "    # not used to stemmer, a bit strange\n",
    "    main_words = [ps.stem(lemmatizer.lemmatize(w)) for w in words if w not in stop_w and w != '']\n",
    "\n",
    "    # a shot without stemmer\n",
    "    #main_words = [lemmatizer.lemmatize(w) for w in words if w not in stop_w and w != '']\n",
    "\n",
    "    commits_size[id_msg] = get_commits(keywords_size, main_words)\n",
    "    commits_mbt[id_msg] = get_commits(keywords_mbtree, main_words)\n",
    "    commits_aq[id_msg] = get_commits(keywords_aq_mode, main_words)\n",
    "    commits_subme[id_msg] = get_commits(keywords_subme, main_words)\n",
    "        \n",
    "    #print(main_words)\n",
    "\n",
    "\n",
    "size_index = [c_index for c_index, c_bool in commits_size.items() if commits_size[c_index]]\n",
    "print(\"Number of size commits :\", len(size_index))\n",
    "\n",
    "mbt_index = [c_index for c_index, c_bool in commits_mbt.items() if commits_mbt[c_index]]\n",
    "print(\"Number of mbt commits :\", len(mbt_index))\n",
    "\n",
    "aq_index = [c_index for c_index, c_bool in commits_aq.items() if commits_aq[c_index]]\n",
    "print(\"Number of aq commits :\", len(aq_index))\n",
    "\n",
    "subme_index = [c_index for c_index, c_bool in commits_subme.items() if commits_subme[c_index]]\n",
    "print(\"Number of subme commits :\", len(subme_index))"
   ]
  },
  {
   "cell_type": "code",
   "execution_count": 34,
   "metadata": {},
   "outputs": [],
   "source": [
    "np.savetxt(\"../../data/commits_doc/size_commits.txt\", \n",
    "           np.array([msgs[k] for k in size_index], dtype=str), \n",
    "           fmt='%s')\n",
    "\n",
    "np.savetxt(\"../../data/commits_doc/mbtree_commits.txt\", \n",
    "           np.array([msgs[k] for k in mbt_index], dtype=str), \n",
    "           fmt='%s')\n",
    "\n",
    "np.savetxt(\"../../data/commits_doc/aq_commits.txt\", \n",
    "           np.array([msgs[k] for k in aq_index], dtype=str), \n",
    "           fmt='%s')\n",
    "\n",
    "np.savetxt(\"../../data/commits_doc/subme_commits.txt\", \n",
    "           np.array([msgs[k] for k in subme_index], dtype=str), \n",
    "           fmt='%s')"
   ]
  },
  {
   "cell_type": "code",
   "execution_count": 35,
   "metadata": {},
   "outputs": [
    {
     "data": {
      "text/plain": [
       "{'sha': '835ccc3cec908b1febfd31613d3e6583628116b3',\n",
       " 'node_id': 'MDY6Q29tbWl0MjUwMTIxODk6ODM1Y2NjM2NlYzkwOGIxZmViZmQzMTYxM2QzZTY1ODM2MjgxMTZiMw==',\n",
       " 'commit': {'author': {'name': 'Fiona Glaser',\n",
       "   'email': 'fiona@x264.com',\n",
       "   'date': '2009-08-05T00:46:33Z'},\n",
       "  'committer': {'name': 'Fiona Glaser',\n",
       "   'email': 'fiona@x264.com',\n",
       "   'date': '2009-08-07T05:57:40Z'},\n",
       "  'message': 'Macroblock-tree ratecontrol\\nOn by default; can be turned off with --no-mbtree.\\nUses a large lookahead to track temporal propagation of data and weight quality accordingly.\\nRequires a very large separate statsfile (2 bytes per macroblock) in multi-pass mode.\\nDoesn\\'t work with b-pyramid yet.\\nNote that MB-tree inherently measures quality different from the standard qcomp method, so bitrates produced by CRF may change somewhat.\\nThis makes the \"medium\" preset a bit slower.  Accordingly, make \"fast\" slower as well, and introduce a new preset \"faster\" between \"fast\" and \"veryfast\".\\nAll presets \"fast\" and above will have MB-tree on.\\nAdd a new option, --rc-lookahead, to control the distance MB tree looks ahead to perform propagation analysis.\\nDefault is 40; larger values will be slower and require more memory but give more accurate results.\\nThis value will be used in the future to control ratecontrol lookahead (VBV).\\nAdd a new option, --no-psy, to disable all psy optimizations that don\\'t improve PSNR or SSIM.\\nThis disables psy-RD/trellis, but also other more subtle internal psy optimizations that can\\'t be controlled directly via external parameters.\\nQuality improvement from MB-tree is about 2-70% depending on content.\\nStrength of MB-tree adjustments can be tweaked using qcompress; higher values mean lower MB-tree strength.\\nNote that MB-tree may perform slightly suboptimally on fades; this will be fixed by weighted prediction, which is coming soon.',\n",
       "  'tree': {'sha': 'f757eafaeeb526f2be3071f3ba85cbe29befd92b',\n",
       "   'url': 'https://api.github.com/repos/mirror/x264/git/trees/f757eafaeeb526f2be3071f3ba85cbe29befd92b'},\n",
       "  'url': 'https://api.github.com/repos/mirror/x264/git/commits/835ccc3cec908b1febfd31613d3e6583628116b3',\n",
       "  'comment_count': 0,\n",
       "  'verification': {'verified': False,\n",
       "   'reason': 'unsigned',\n",
       "   'signature': None,\n",
       "   'payload': None}},\n",
       " 'url': 'https://api.github.com/repos/mirror/x264/commits/835ccc3cec908b1febfd31613d3e6583628116b3',\n",
       " 'html_url': 'https://github.com/mirror/x264/commit/835ccc3cec908b1febfd31613d3e6583628116b3',\n",
       " 'comments_url': 'https://api.github.com/repos/mirror/x264/commits/835ccc3cec908b1febfd31613d3e6583628116b3/comments',\n",
       " 'author': None,\n",
       " 'committer': None,\n",
       " 'parents': [{'sha': '93cc2893a9d4daf2d798f3cafddb499cabb3c0d7',\n",
       "   'url': 'https://api.github.com/repos/mirror/x264/commits/93cc2893a9d4daf2d798f3cafddb499cabb3c0d7',\n",
       "   'html_url': 'https://github.com/mirror/x264/commit/93cc2893a9d4daf2d798f3cafddb499cabb3c0d7'}]}"
      ]
     },
     "execution_count": 35,
     "metadata": {},
     "output_type": "execute_result"
    }
   ],
   "source": [
    "commits[size_index[3]]"
   ]
  },
  {
   "cell_type": "code",
   "execution_count": null,
   "metadata": {},
   "outputs": [],
   "source": []
  },
  {
   "cell_type": "code",
   "execution_count": 36,
   "metadata": {
    "scrolled": false
   },
   "outputs": [
    {
     "name": "stdout",
     "output_type": "stream",
     "text": [
      "0\n",
      "{'name': 'Loren Merritt', 'email': 'pengvado@videolan.org', 'date': '2004-12-29T10:53:03Z'}\n",
      "Chroma mode decision/subpel for B-frames\n",
      "Improves compression ~0.4-1%. Helps more on videos with lots of chroma detail.\n",
      "Enabled at subme 9 (preset slower) and higher.\n",
      "1\n",
      "{'name': 'Loren Merritt', 'email': 'pengvado@videolan.org', 'date': '2005-08-17T15:18:42Z'}\n",
      "Full sub8x8 RD mode decision\n",
      "Small speed penalty with p4x4 enabled, but significant quality gain at subme >= 6\n",
      "As before, gain is proportional to the amount of p4x4 actually useful in a given input at the given bitrate.\n",
      "2\n",
      "{'name': 'Fiona Glaser', 'email': 'fiona@x264.com', 'date': '2008-11-04T06:59:49Z'}\n",
      "Fix intra refresh with subme < 6\n",
      "Also improve the quality of intra masking.\n",
      "3\n",
      "{'name': 'Fiona Glaser', 'email': 'fiona@x264.com', 'date': '2009-04-18T06:38:29Z'}\n",
      "MBAFF: Disable adaptive MBAFF when subme 0 is used\n",
      "4\n",
      "{'name': 'Henrik Gramner', 'email': 'henrik@gramner.com', 'date': '2016-02-07T13:55:26Z'}\n",
      "Further reduce code size in bime\n",
      "~7-8 kilobytes saved, ~0.6% faster subme 9.\n",
      "5\n",
      "{'name': 'Loren Merritt', 'email': 'pengvado@videolan.org', 'date': '2005-10-08T06:49:29Z'}\n",
      "New \"superfast\" preset, much faster intra analysis\n",
      "\n",
      "Especially at the fastest settings, intra analysis was taking up the majority of MB analysis time.\n",
      "This patch takes a ton more shortcuts at the fastest encoding settings, decreasing compression 0.5-5% but improving speed greatly.\n",
      "Also rearrange the fastest presets a bit: now we have ultrafast, superfast, veryfast, faster.\n",
      "superfast is the old veryfast (but much faster due to this patch).\n",
      "veryfast is between the old veryfast and faster.\n",
      "faster is the same as before except with MB-tree on.\n",
      "\n",
      "Encoding with subme >= 5 should be unaffected by this patch.\n",
      "6\n",
      "{'name': 'Henrik Gramner', 'email': 'henrik@gramner.com', 'date': '2017-08-11T14:41:31Z'}\n",
      "Avoid a redundant qpel check in lookahead with subme <= 1.\n",
      "7\n",
      "{'name': 'Ning Xin', 'email': 'nxin2000@gmail.com', 'date': '2008-05-07T23:18:44Z'}\n",
      "Much faster CAVLC residual coding\n",
      "Use a VLC table for common levelcodes instead of constructing them on-the-spot\n",
      "Branchless version of i_trailing calculation (2x faster on Nehalem)\n",
      "Completely remove array_non_zero_count and instead use the count calculated in level/run coding.  Note: this slightly changes output with subme > 7 due to different nonzero counts being stored during qpel RD.\n",
      "8\n",
      "{'name': 'Loren Merritt', 'email': 'pengvado@videolan.org', 'date': '2007-01-20T05:07:44Z'}\n",
      "MMX code for predictor rounding/clipping\n",
      "Faster predictor checking at subme < 3.\n",
      "9\n",
      "{'name': 'Loren Merritt', 'email': 'pengvado@videolan.org', 'date': '2006-12-15T23:03:36Z'}\n",
      "Faster mv predictor checking at subme < 3\n",
      "Simplify the predicted MV cost check.\n",
      "10\n",
      "{'name': 'Anton Mitrofanov', 'email': 'BugMaster@narod.ru', 'date': '2011-05-31T22:11:56Z'}\n",
      "Fix trellis 2 + subme >= 8\n",
      "Trellis didn't return a boolean value as it was supposed to.\n",
      "Regression in r2143-5.\n",
      "11\n",
      "{'name': 'Martin Storsjö', 'email': 'martin@martin.st', 'date': '2016-11-16T08:57:30Z'}\n",
      "More lookahead optimizations\n",
      "Under subme 1, don't do any qpel search at all and round temporal MVs accordingly.\n",
      "Drop internal subme with subme 1 to do fullpel predictor checks only.\n",
      "Other minor optimizations.\n",
      "12\n",
      "{'name': 'Anton Mitrofanov', 'email': 'BugMaster@narod.ru', 'date': '2012-01-22T09:00:23Z'}\n",
      "r1548 broke subme < 3 + p8x8/b8x8\n",
      "Caused significantly worse compression.  Preset-wise, only affected veryfast.\n",
      "Fixed by not modifying mvc in-place.\n",
      "13\n",
      "{'name': 'Steven Walters', 'email': 'kemuri9@gmail.com', 'date': '2009-12-10T00:03:19Z'}\n",
      "Rework subme system, add RD refinement in B-frames\n",
      "The new system is as follows: subme6 is RD in I/P frames, subme7 is RD in all frames, subme8 is RD refinement in I/P frames, and subme9 is RD refinement in all frames.\n",
      "subme6 == old subme6, subme7 == old subme6+brdo, subme8 == old subme7+brdo, subme9 == no equivalent\n",
      "--b-rdo has, accordingly, been removed.  --bime has also been removed, and instead enabled automatically at subme >= 5.\n",
      "RD refinement in B-frames (subme9) includes both qpel-RD and an RD version of bime.\n",
      "14\n",
      "{'name': 'Laurent Aimar', 'email': 'fenrir@videolan.org', 'date': '2004-08-28T22:19:47Z'}\n",
      "Psychovisually optimized rate-distortion optimization and trellis\n",
      "The latter, psy-trellis, is disabled by default and is reserved as experimental; your mileage may vary.\n",
      "Default subme is raised to 6 so that psy RD is on by default.\n",
      "15\n",
      "{'name': 'Måns Rullgård', 'email': 'mru@mru.ath.cx', 'date': '2005-05-30T19:47:02Z'}\n",
      "Much more accurate B-skip detection at 2 < subme < 7\n",
      "Use the same method that x264 uses for P-skip detection.\n",
      "This significantly improves quality (1-6%), but at a significant speed cost as well (5-20%).\n",
      "It also may have a very positive visual effect in cases where the inaccurate skip detection resulted in slightly-off vectors in B-frames.\n",
      "This could cause slight blurring or non-smooth motion in low-complexity frames at high quantizers.\n",
      "Not all instances of this problem are solved: the only universal solution is non-locally-optimal mode decision, which x264 does not currently have.\n",
      "\n",
      "subme >= 7 or <= 2 are unaffected.\n",
      "16\n",
      "{'name': 'Henrik Gramner', 'email': 'henrik@gramner.com', 'date': '2013-04-16T21:27:00Z'}\n",
      "Fix subpel iteration counts with B-frame analysis and subme 6/8\n",
      "Since subme 6 means \"like subme 5, except RD on P-frames\", B-frame analysis\n",
      "shouldn't use the RD subpel counts at subme 6.  Similarly with subme 8.\n",
      "Slightly faster (and very marginally worse) compression at subme 6 and 8.\n",
      "17\n",
      "{'name': 'Henrik Gramner', 'email': 'henrik@gramner.com', 'date': '2015-08-11T15:19:35Z'}\n",
      "Deblock-aware RD\n",
      "Small quality gain (~0.5%) at lower bitrates, potentially larger with QPRD.\n",
      "May help more with psy, maybe not.\n",
      "Enabled at subme >= 9.  Small speed cost (a few %).\n",
      "18\n",
      "{'name': 'Henrik Gramner', 'email': 'henrik@gramner.com', 'date': '2013-08-11T17:50:42Z'}\n",
      "Don't force fast-intra for subme < 3\n",
      "\n",
      "It have caused significant quality hit without any meaningful (if any) speed up.\n"
     ]
    }
   ],
   "source": [
    "tab = np.array([msgs[k] for k in subme_index], dtype=str)\n",
    "\n",
    "for i in range(len(tab)):\n",
    "    print(i)\n",
    "    print(commits[subme_index[i]][\"commit\"][\"author\"])\n",
    "    print(tab[i])"
   ]
  },
  {
   "cell_type": "code",
   "execution_count": 41,
   "metadata": {},
   "outputs": [
    {
     "name": "stderr",
     "output_type": "stream",
     "text": [
      "/home/llesoil/anaconda3/envs/x264/lib/python3.7/site-packages/ipykernel_launcher.py:1: ParserWarning: Falling back to the 'python' engine because the 'c' engine does not support regex separators (separators > 1 char and different from '\\s+' are interpreted as regex); you can avoid this warning by specifying engine='python'.\n",
      "  \"\"\"Entry point for launching an IPython kernel.\n"
     ]
    },
    {
     "data": {
      "text/html": [
       "<div>\n",
       "<style scoped>\n",
       "    .dataframe tbody tr th:only-of-type {\n",
       "        vertical-align: middle;\n",
       "    }\n",
       "\n",
       "    .dataframe tbody tr th {\n",
       "        vertical-align: top;\n",
       "    }\n",
       "\n",
       "    .dataframe thead th {\n",
       "        text-align: right;\n",
       "    }\n",
       "</style>\n",
       "<table border=\"1\" class=\"dataframe\">\n",
       "  <thead>\n",
       "    <tr style=\"text-align: right;\">\n",
       "      <th></th>\n",
       "      <th>'message</th>\n",
       "      <th>author</th>\n",
       "      <th>date'</th>\n",
       "    </tr>\n",
       "  </thead>\n",
       "  <tbody>\n",
       "    <tr>\n",
       "      <th>0</th>\n",
       "      <td>'Quality improvement from MB-tree is about 2-7...</td>\n",
       "      <td>Fiona Glaser</td>\n",
       "      <td>2009-08-05T00:46:33Z'</td>\n",
       "    </tr>\n",
       "    <tr>\n",
       "      <th>1</th>\n",
       "      <td>'Attempt to optimize PPS pic_init_qp in 2-pass...</td>\n",
       "      <td>Fiona Glaser</td>\n",
       "      <td>2012-09-26T20:49:02Z'</td>\n",
       "    </tr>\n",
       "    <tr>\n",
       "      <th>2</th>\n",
       "      <td>'Allow setting a chroma format at compile time...</td>\n",
       "      <td>Janne Grunau</td>\n",
       "      <td>2014-07-18T15:44:57Z'</td>\n",
       "    </tr>\n",
       "    <tr>\n",
       "      <th>3</th>\n",
       "      <td>'Chroma mode decision/subpel for B-frames. Imp...</td>\n",
       "      <td>Loren Merritt</td>\n",
       "      <td>2004-12-29T10:53:03Z'</td>\n",
       "    </tr>\n",
       "    <tr>\n",
       "      <th>4</th>\n",
       "      <td>'Make b-pyramid normal the default. Now that b...</td>\n",
       "      <td>Loren Merritt</td>\n",
       "      <td>2006-08-16T20:13:06Z'</td>\n",
       "    </tr>\n",
       "    <tr>\n",
       "      <th>5</th>\n",
       "      <td>'Add faster mv0 special case for macroblock-tr...</td>\n",
       "      <td>Guillaume Poirier</td>\n",
       "      <td>2006-11-27T21:40:21Z'</td>\n",
       "    </tr>\n",
       "    <tr>\n",
       "      <th>6</th>\n",
       "      <td>'CABAC trellis opts part 1: minor change in ou...</td>\n",
       "      <td>Nikoli</td>\n",
       "      <td>2011-04-29T10:19:22Z'</td>\n",
       "    </tr>\n",
       "    <tr>\n",
       "      <th>7</th>\n",
       "      <td>'Fix two bugs in 2-pass ratecontrol. last_qsca...</td>\n",
       "      <td>Alexandra Hájková</td>\n",
       "      <td>2016-11-14T14:06:06Z'</td>\n",
       "    </tr>\n",
       "    <tr>\n",
       "      <th>8</th>\n",
       "      <td>'finish subpixel motion refinement for B-frame...</td>\n",
       "      <td>Anton Mitrofanov</td>\n",
       "      <td>2013-05-22T18:43:59Z'</td>\n",
       "    </tr>\n",
       "    <tr>\n",
       "      <th>9</th>\n",
       "      <td>'New \"superfast\" preset, much faster intra ana...</td>\n",
       "      <td>Loren Merritt</td>\n",
       "      <td>2005-10-08T06:49:29Z'</td>\n",
       "    </tr>\n",
       "    <tr>\n",
       "      <th>10</th>\n",
       "      <td>'Macroblock tree overhaul/optimization. Move t...</td>\n",
       "      <td>Martin Storsjö</td>\n",
       "      <td>2015-10-15T08:50:33Z'</td>\n",
       "    </tr>\n",
       "    <tr>\n",
       "      <th>11</th>\n",
       "      <td>'Much more accurate B-skip detection at 2 &lt; su...</td>\n",
       "      <td>Måns Rullgård</td>\n",
       "      <td>2005-05-30T19:47:02Z'</td>\n",
       "    </tr>\n",
       "  </tbody>\n",
       "</table>\n",
       "</div>"
      ],
      "text/plain": [
       "                                             'message             author  \\\n",
       "0   'Quality improvement from MB-tree is about 2-7...       Fiona Glaser   \n",
       "1   'Attempt to optimize PPS pic_init_qp in 2-pass...       Fiona Glaser   \n",
       "2   'Allow setting a chroma format at compile time...       Janne Grunau   \n",
       "3   'Chroma mode decision/subpel for B-frames. Imp...      Loren Merritt   \n",
       "4   'Make b-pyramid normal the default. Now that b...      Loren Merritt   \n",
       "5   'Add faster mv0 special case for macroblock-tr...  Guillaume Poirier   \n",
       "6   'CABAC trellis opts part 1: minor change in ou...             Nikoli   \n",
       "7   'Fix two bugs in 2-pass ratecontrol. last_qsca...  Alexandra Hájková   \n",
       "8   'finish subpixel motion refinement for B-frame...   Anton Mitrofanov   \n",
       "9   'New \"superfast\" preset, much faster intra ana...      Loren Merritt   \n",
       "10  'Macroblock tree overhaul/optimization. Move t...     Martin Storsjö   \n",
       "11  'Much more accurate B-skip detection at 2 < su...      Måns Rullgård   \n",
       "\n",
       "                    date'  \n",
       "0   2009-08-05T00:46:33Z'  \n",
       "1   2012-09-26T20:49:02Z'  \n",
       "2   2014-07-18T15:44:57Z'  \n",
       "3   2004-12-29T10:53:03Z'  \n",
       "4   2006-08-16T20:13:06Z'  \n",
       "5   2006-11-27T21:40:21Z'  \n",
       "6   2011-04-29T10:19:22Z'  \n",
       "7   2016-11-14T14:06:06Z'  \n",
       "8   2013-05-22T18:43:59Z'  \n",
       "9   2005-10-08T06:49:29Z'  \n",
       "10  2015-10-15T08:50:33Z'  \n",
       "11  2005-05-30T19:47:02Z'  "
      ]
     },
     "execution_count": 41,
     "metadata": {},
     "output_type": "execute_result"
    }
   ],
   "source": [
    "pd.read_table(\"../../data/commits_doc/res.txt\", delimiter=\"', '\")"
   ]
  },
  {
   "cell_type": "code",
   "execution_count": null,
   "metadata": {},
   "outputs": [],
   "source": []
  },
  {
   "cell_type": "code",
   "execution_count": null,
   "metadata": {},
   "outputs": [],
   "source": []
  },
  {
   "cell_type": "code",
   "execution_count": null,
   "metadata": {},
   "outputs": [],
   "source": []
  }
 ],
 "metadata": {
  "kernelspec": {
   "display_name": "Python 3",
   "language": "python",
   "name": "python3"
  },
  "language_info": {
   "codemirror_mode": {
    "name": "ipython",
    "version": 3
   },
   "file_extension": ".py",
   "mimetype": "text/x-python",
   "name": "python",
   "nbconvert_exporter": "python",
   "pygments_lexer": "ipython3",
   "version": "3.7.6"
  }
 },
 "nbformat": 4,
 "nbformat_minor": 4
}

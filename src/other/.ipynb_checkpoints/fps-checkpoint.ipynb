{
 "cells": [
  {
   "cell_type": "markdown",
   "metadata": {},
   "source": [
    "# Predicting Performances of Configurable Systems:the Issue of Input Sensitivity\n",
    "\n",
    "### This notebook details the main results presented in the paper submitted to ESEC/FSE."
   ]
  },
  {
   "cell_type": "markdown",
   "metadata": {},
   "source": [
    "#### Warning; Before launching the notebook, make sure you have installed all the packages in your python environment\n",
    "#### To do that,  open a terminal in the replication folder, and use the requirements.txt file to download the libraries needed for this script :\n",
    "`pip3 install -r requirements.txt`\n",
    "#### If it worked, you should be able to launch the following cell to import libraries."
   ]
  },
  {
   "cell_type": "code",
   "execution_count": 1,
   "metadata": {},
   "outputs": [
    {
     "name": "stderr",
     "output_type": "stream",
     "text": [
      "Using TensorFlow backend.\n"
     ]
    }
   ],
   "source": [
    "# for arrays\n",
    "import numpy as np\n",
    "\n",
    "# for dataframes\n",
    "import pandas as pd\n",
    "\n",
    "# plots\n",
    "import matplotlib.pyplot as plt\n",
    "# high-level plots\n",
    "import seaborn as sns\n",
    "\n",
    "# statistics\n",
    "import scipy.stats as sc\n",
    "# hierarchical clustering, clusters\n",
    "from scipy.cluster.hierarchy import linkage, cut_tree, leaves_list\n",
    "from scipy import stats\n",
    "# statistical tests\n",
    "from scipy.stats import mannwhitneyu\n",
    "\n",
    "# machine learning library\n",
    "# Principal Component Analysis - determine new axis for representing data\n",
    "from sklearn.decomposition import PCA\n",
    "# Random Forests -> vote between decision trees\n",
    "# Gradient boosting -> instead of a vote, upgrade the same tree\n",
    "from sklearn.ensemble import RandomForestRegressor, RandomForestClassifier, GradientBoostingClassifier\n",
    "# To add interactions in linear regressions models\n",
    "from sklearn.preprocessing import PolynomialFeatures\n",
    "# Elasticnet is an hybrid method between ridge and Lasso\n",
    "from sklearn.linear_model import LinearRegression, ElasticNet\n",
    "# To separate the data into training and test\n",
    "from sklearn.model_selection import train_test_split\n",
    "# Simple clustering (iterative steps)\n",
    "from sklearn.cluster import KMeans\n",
    "# Support vector machine - support vector regressor\n",
    "from sklearn.svm import SVR\n",
    "\n",
    "# gradient boosting trees\n",
    "from xgboost import XGBRegressor\n",
    "\n",
    "# we use it to interact with the file system\n",
    "import os\n",
    "# compute time\n",
    "from time import time\n",
    "\n",
    "# Neural network high level framework\n",
    "import keras\n",
    "# Sequential is a sequence of blocs\n",
    "# Input deals with the data fed to the network\n",
    "from keras.models import Sequential,Input,Model\n",
    "# Dense is a feedforward layer with fully connected nodes\n",
    "# Dropout allows to keep part of data, and to \"drop out\" a the rest\n",
    "# Flatten makes the data \"flat\", i.e. in one dimension\n",
    "from keras.layers import Dense, Dropout, Flatten\n",
    "# Conv -> convolution, MaxPooling is relative to Pooling\n",
    "# Activation if the function composing the data in output of a layer\n",
    "from keras.layers import Conv2D, MaxPooling2D, Activation"
   ]
  },
  {
   "cell_type": "markdown",
   "metadata": {},
   "source": [
    "#### Now, we import data"
   ]
  },
  {
   "cell_type": "code",
   "execution_count": 2,
   "metadata": {
    "scrolled": false
   },
   "outputs": [],
   "source": [
    "#because x264 output is \"m:s\", where m is the number of minutes and s the number of seconds \n",
    "# we define a function to convert this format into the number of seconds\n",
    "def elapsedtime_to_sec(el):\n",
    "    tab = el.split(\":\")\n",
    "    return float(tab[0])*60+float(tab[1])\n",
    "\n",
    "# the data folder, see the markdown there for additional explanations\n",
    "res_dir = \"../../data/ugc/res_ugc/\"\n",
    "\n",
    "# the list of videos names, e.g. Animation_360P-3e40\n",
    "# we sort the list so we keep the same ids between two launches\n",
    "v_names = sorted(os.listdir(res_dir)) \n",
    "\n",
    "# the list of measurements\n",
    "listVideo = []\n",
    "\n",
    "# we add each dataset in the list, converting the time to the right format\n",
    "# third line asserts that the measures are complete\n",
    "for v in v_names:\n",
    "    data = pd.read_table(res_dir+v, delimiter = ',')\n",
    "    data['etime'] = [*map(elapsedtime_to_sec, data['elapsedtime'])]\n",
    "    assert data.shape == (201,34), v\n",
    "    listVideo.append(data)"
   ]
  },
  {
   "cell_type": "code",
   "execution_count": 3,
   "metadata": {},
   "outputs": [
    {
     "name": "stdout",
     "output_type": "stream",
     "text": [
      " We consider  1397  videos\n"
     ]
    }
   ],
   "source": [
    "print(\" We consider \", len(listVideo), \" videos\")"
   ]
  },
  {
   "cell_type": "markdown",
   "metadata": {},
   "source": [
    "#### Just a few words about the time needed to compute the data; about a month is needed to fully replicate the experience"
   ]
  },
  {
   "cell_type": "code",
   "execution_count": 4,
   "metadata": {},
   "outputs": [
    {
     "name": "stdout",
     "output_type": "stream",
     "text": [
      "Hours : 810.7560972222223\n",
      "Days : 33.781504050925925\n"
     ]
    }
   ],
   "source": [
    "totalTime = np.sum([np.sum(vid[\"etime\"]) for vid in listVideo])\n",
    "print(\"Hours : \"+str(totalTime/(3600)))\n",
    "print(\"Days : \"+str(totalTime/(24*3600)))"
   ]
  },
  {
   "cell_type": "markdown",
   "metadata": {},
   "source": [
    "#### Our focus in this paper is the bitrate, in kilobits per second"
   ]
  },
  {
   "cell_type": "code",
   "execution_count": 5,
   "metadata": {},
   "outputs": [],
   "source": [
    "#our variable of interest\n",
    "predDimension = \"fps\"\n",
    "\n",
    "for i in range(len(listVideo)):\n",
    "    sizes = listVideo[i][predDimension]\n",
    "    ind = sorted(range(len(sizes)), key=lambda k: sizes[k])\n",
    "    listVideo[i]['ranking'] = ind"
   ]
  },
  {
   "cell_type": "code",
   "execution_count": 6,
   "metadata": {},
   "outputs": [
    {
     "data": {
      "text/plain": [
       "'VerticalVideo_1080P-2195.csv'"
      ]
     },
     "execution_count": 6,
     "metadata": {},
     "output_type": "execute_result"
    }
   ],
   "source": [
    "v_names[1167]"
   ]
  },
  {
   "cell_type": "markdown",
   "metadata": {},
   "source": [
    "# In the paper, here starts Section II"
   ]
  },
  {
   "cell_type": "markdown",
   "metadata": {},
   "source": [
    "# RQ1 - Do Input Videos Change Performances of x264 Configurations?"
   ]
  },
  {
   "cell_type": "markdown",
   "metadata": {},
   "source": [
    "## RQ1.1 - Do software performances stay consistent across inputs?"
   ]
  },
  {
   "cell_type": "markdown",
   "metadata": {},
   "source": [
    "#### A-] For this research question, we computed a matrix of Spearman correlations between each pair of input videos.\n",
    "\n",
    "Other alternatives : Kullback-Leibler divergences to detect outliers, and Pearson correlation to compute only linear correlations "
   ]
  },
  {
   "cell_type": "code",
   "execution_count": 7,
   "metadata": {},
   "outputs": [],
   "source": [
    "# number of videos\n",
    "nbVideos = len(listVideo)\n",
    "# matrix of coorelations\n",
    "corrSpearman = [[0 for x in range(nbVideos)] for y in range(nbVideos)]\n",
    "\n",
    "for i in range(nbVideos):\n",
    "    for j in range(nbVideos):\n",
    "        # A distribution of bitrates will have a correlaiton of 1 with itself\n",
    "        if (i == j):\n",
    "            corrSpearman[i][j] = 1\n",
    "        else:\n",
    "            # we compute the Spearman correlation between the input video i and the input video j\n",
    "            corrSpearman[i][j] = sc.spearmanr(listVideo[i][predDimension],\n",
    "                                            listVideo[j][predDimension]).correlation"
   ]
  },
  {
   "cell_type": "markdown",
   "metadata": {},
   "source": [
    "#### Here is the distribution depicted in figure 1, on the bottom left; we removed the diagonal $i!=j$ in the following code."
   ]
  },
  {
   "cell_type": "code",
   "execution_count": 8,
   "metadata": {},
   "outputs": [
    {
     "data": {
      "text/plain": [
       "count    975106.000000\n",
       "mean          0.933335\n",
       "std           0.082897\n",
       "min           0.005051\n",
       "25%           0.927942\n",
       "50%           0.958211\n",
       "75%           0.974024\n",
       "max           0.996437\n",
       "dtype: float64"
      ]
     },
     "execution_count": 8,
     "metadata": {},
     "output_type": "execute_result"
    }
   ],
   "source": [
    "corrDescription = [corrSpearman[i][j] for i in range(nbVideos) for j in range(nbVideos) if i >j]\n",
    "pd.Series(corrDescription).describe()"
   ]
  },
  {
   "cell_type": "markdown",
   "metadata": {},
   "source": [
    "#### Few statistics about input videos, mentioned in the text"
   ]
  },
  {
   "cell_type": "markdown",
   "metadata": {},
   "source": [
    "#### A small detail; in the paper, when we mention the video having the id $i$,  it means the $(i+1)^{th}$ video of the list, because the first input has the index 0"
   ]
  },
  {
   "cell_type": "code",
   "execution_count": 9,
   "metadata": {},
   "outputs": [
    {
     "name": "stdout",
     "output_type": "stream",
     "text": [
      "Value :  0.0050506020947232114\n",
      "i :  339 , j :  689\n"
     ]
    }
   ],
   "source": [
    "min_val = 1\n",
    "ind_i = 0\n",
    "ind_j = 0\n",
    "for i in range(len(corrSpearman)):\n",
    "    for j in range(len(corrSpearman[0])):\n",
    "        if corrSpearman[i][j] < min_val:\n",
    "            min_val = corrSpearman[i][j]\n",
    "            ind_i = i\n",
    "            ind_j = j\n",
    "\n",
    "print(\"Value : \", min_val)\n",
    "print(\"i : \", ind_i, \", j : \", ind_j)"
   ]
  },
  {
   "cell_type": "code",
   "execution_count": 10,
   "metadata": {},
   "outputs": [
    {
     "data": {
      "text/plain": [
       "0.904353004676807"
      ]
     },
     "execution_count": 10,
     "metadata": {},
     "output_type": "execute_result"
    }
   ],
   "source": [
    "corrSpearman[378][1192]"
   ]
  },
  {
   "cell_type": "code",
   "execution_count": 11,
   "metadata": {},
   "outputs": [
    {
     "data": {
      "text/plain": [
       "0.8459158382256203"
      ]
     },
     "execution_count": 11,
     "metadata": {},
     "output_type": "execute_result"
    }
   ],
   "source": [
    "corrSpearman[314][1192]"
   ]
  },
  {
   "cell_type": "code",
   "execution_count": 12,
   "metadata": {},
   "outputs": [
    {
     "data": {
      "text/plain": [
       "0.8608662306497918"
      ]
     },
     "execution_count": 12,
     "metadata": {},
     "output_type": "execute_result"
    }
   ],
   "source": [
    "corrSpearman[378][314]"
   ]
  },
  {
   "cell_type": "markdown",
   "metadata": {},
   "source": [
    "#### \"For 95% of the videos, it is always possible to find another video having a correlation higher than 0.92\" -> here is the proof "
   ]
  },
  {
   "cell_type": "code",
   "execution_count": 13,
   "metadata": {},
   "outputs": [
    {
     "data": {
      "text/plain": [
       "count    1397.000000\n",
       "mean        0.980582\n",
       "std         0.035919\n",
       "min         0.541805\n",
       "25%         0.985185\n",
       "50%         0.990412\n",
       "75%         0.992357\n",
       "max         0.996437\n",
       "dtype: float64"
      ]
     },
     "execution_count": 13,
     "metadata": {},
     "output_type": "execute_result"
    }
   ],
   "source": [
    "argm = [np.max([k for k in corrSpearman[i] if k <1]) for i in range(len(corrSpearman))]\n",
    "pd.Series(argm).describe()"
   ]
  },
  {
   "cell_type": "code",
   "execution_count": 14,
   "metadata": {
    "scrolled": true
   },
   "outputs": [
    {
     "data": {
      "text/plain": [
       "0.9367966381198882"
      ]
     },
     "execution_count": 14,
     "metadata": {},
     "output_type": "execute_result"
    }
   ],
   "source": [
    "np.percentile(argm, 5)"
   ]
  },
  {
   "cell_type": "markdown",
   "metadata": {},
   "source": [
    "## Figure 1\n",
    "\n",
    "#### Now, let's compute figure 1!"
   ]
  },
  {
   "cell_type": "code",
   "execution_count": 15,
   "metadata": {
    "scrolled": false
   },
   "outputs": [
    {
     "data": {
      "image/png": "[encoded data removed]",
      "text/plain": [
       "<Figure size 936x936 with 4 Axes>"
      ]
     },
     "metadata": {
      "needs_background": "light"
     },
     "output_type": "display_data"
    }
   ],
   "source": [
    "# the results directory\n",
    "result_dir = \"../../results/\"\n",
    "\n",
    "# We define a function to plot the correlogram\n",
    "def plot_correlationmatrix_dendogram(corr, img_name, ticks, method= 'ward'):\n",
    "    # inputs : a correlation matrix, or a matrix with quantitative values\n",
    "    # a name for the image\n",
    "    # the ticks to plot on axis\n",
    "    # the aggregation method\n",
    "    # output : a plot of an ordered correlogram with dendograms\n",
    "    \n",
    "    # we transform our matrix into a dataframe\n",
    "    df = pd.DataFrame(corr)\n",
    "    \n",
    "    # group the videos, we choose the ward method \n",
    "    # single link method (minimum of distance) leads to numerous tiny clusters\n",
    "    # centroid or average tend to split homogeneous clusters\n",
    "    # and complete link aggregates unbalanced groups. \n",
    "    links = linkage(df, method=method,)\n",
    "    order = leaves_list(links)\n",
    "    \n",
    "    # we order the correlation following the aggregation clustering\n",
    "    mask = np.zeros_like(corr, dtype=np.bool)\n",
    "    \n",
    "    for i in range(nbVideos):\n",
    "        for j in range(nbVideos):\n",
    "            # Generate a mask for the upper triangle\n",
    "            if i>j:\n",
    "                mask[order[i]][order[j]] = True\n",
    "    \n",
    "    # seaborn clustermap plots a nice graph combining the correlogram and dendograms\n",
    "    # cmap is the colormap, mask hides the lower triangular, method is the aggregation method,\n",
    "    # linewidth is set to 0 because otherwise we can't see squre colors\n",
    "    # figsize is the size of figure\n",
    "    # we cannot print 1400 ticks, wo we hide them\n",
    "    # to not fool the reviewers, we set the minimum to -1, to plot the full range of correlation\n",
    "    # -0.69 would give a false impression of high input sensitivity\n",
    "    g = sns.clustermap(df, cmap=\"vlag\", mask=mask, method=method,\n",
    "                   linewidths=0, figsize=(13, 13), cbar_kws={\"ticks\":ticks}, vmin =-1)\n",
    "    g.ax_heatmap.set_yticklabels([])\n",
    "    g.ax_heatmap.set_xticklabels([])\n",
    "    g.ax_heatmap.tick_params(right=False, bottom=False)\n",
    "    # abcissa and ordered labels\n",
    "    g.ax_heatmap.set_xlabel(\"Input videos\", fontsize = 18)\n",
    "    g.ax_heatmap.set_ylabel(\"Input videos\", fontsize = 18)\n",
    "    # we save the figure in the result folder\n",
    "    plt.savefig(result_dir+img_name)\n",
    "    # we show the graph\n",
    "    plt.show()\n",
    "    \n",
    "    # finally we cut the dendogram to have 4 groups, and return thietr indexes\n",
    "    return cut_tree(links, n_clusters = 4)\n",
    "\n",
    "group_no_ordered = plot_correlationmatrix_dendogram(corrSpearman, \n",
    "                                 \"corrmatrix-ugc-dendo-Spearman-\" + predDimension + \".pdf\",\n",
    "                                 [k/5 for k in np.arange(-10,10,1)], method='ward')"
   ]
  },
  {
   "cell_type": "markdown",
   "metadata": {},
   "source": [
    "#### To match the increasing number of groups to the order of the figure (from the left to the right), we change the ids of groups"
   ]
  },
  {
   "cell_type": "code",
   "execution_count": 16,
   "metadata": {},
   "outputs": [
    {
     "name": "stdout",
     "output_type": "stream",
     "text": [
      "Group 1 contains 1256 input videos.\n",
      "Group 2 contains 14 input videos.\n",
      "Group 3 contains 108 input videos.\n",
      "Group 4 contains 19 input videos.\n"
     ]
    }
   ],
   "source": [
    "map_group = [2, 0, 3, 1]\n",
    "\n",
    "def f(gr):\n",
    "    return map_group[int(gr)]\n",
    "\n",
    "# we apply this mapping\n",
    "groups = np.array([*map(f, group_no_ordered)],int)\n",
    "\n",
    "print(\"Group 1 contains\", sum(groups==0), \"input videos.\")\n",
    "print(\"Group 2 contains\", sum(groups==1), \"input videos.\")\n",
    "print(\"Group 3 contains\", sum(groups==2), \"input videos.\")\n",
    "print(\"Group 4 contains\", sum(groups==3), \"input videos.\")"
   ]
  },
  {
   "cell_type": "code",
   "execution_count": 17,
   "metadata": {},
   "outputs": [
    {
     "data": {
      "text/plain": [
       "['HDR_1080P-1be2.csv',\n",
       " 'HDR_1080P-3181.csv',\n",
       " 'HDR_1080P-3a4a.csv',\n",
       " 'HDR_1080P-46a4.csv',\n",
       " 'HDR_1080P-49d6.csv',\n",
       " 'HDR_1080P-55c4.csv',\n",
       " 'HDR_2160P-06ae.csv',\n",
       " 'HDR_2160P-1743.csv',\n",
       " 'HDR_2160P-2a72.csv',\n",
       " 'HDR_2160P-3663.csv',\n",
       " 'HDR_2160P-3bf1.csv',\n",
       " 'HDR_2160P-4581.csv',\n",
       " 'HDR_2160P-51ea.csv',\n",
       " 'HDR_2160P-5e25.csv',\n",
       " 'HDR_2160P-6c6e.csv',\n",
       " 'HDR_2160P-6eeb.csv',\n",
       " 'HDR_2160P-6fa4.csv',\n",
       " 'VR_2160P-4656.csv',\n",
       " 'VerticalVideo_480P-790a.csv']"
      ]
     },
     "execution_count": 17,
     "metadata": {},
     "output_type": "execute_result"
    }
   ],
   "source": [
    "[v_names[i] for i in np.where(groups==3)[0]]"
   ]
  },
  {
   "cell_type": "markdown",
   "metadata": {},
   "source": [
    "### B-] We also study rankings of configurations"
   ]
  },
  {
   "cell_type": "markdown",
   "metadata": {},
   "source": [
    "#### First, we compute the rankings"
   ]
  },
  {
   "cell_type": "code",
   "execution_count": 18,
   "metadata": {},
   "outputs": [
    {
     "data": {
      "text/html": [
       "<div>\n",
       "<style scoped>\n",
       "    .dataframe tbody tr th:only-of-type {\n",
       "        vertical-align: middle;\n",
       "    }\n",
       "\n",
       "    .dataframe tbody tr th {\n",
       "        vertical-align: top;\n",
       "    }\n",
       "\n",
       "    .dataframe thead th {\n",
       "        text-align: right;\n",
       "    }\n",
       "</style>\n",
       "<table border=\"1\" class=\"dataframe\">\n",
       "  <thead>\n",
       "    <tr style=\"text-align: right;\">\n",
       "      <th></th>\n",
       "      <th>video0</th>\n",
       "      <th>video1</th>\n",
       "      <th>video2</th>\n",
       "      <th>video3</th>\n",
       "      <th>video4</th>\n",
       "      <th>video5</th>\n",
       "      <th>video6</th>\n",
       "      <th>video7</th>\n",
       "      <th>video8</th>\n",
       "      <th>video9</th>\n",
       "      <th>...</th>\n",
       "      <th>video1387</th>\n",
       "      <th>video1388</th>\n",
       "      <th>video1389</th>\n",
       "      <th>video1390</th>\n",
       "      <th>video1391</th>\n",
       "      <th>video1392</th>\n",
       "      <th>video1393</th>\n",
       "      <th>video1394</th>\n",
       "      <th>video1395</th>\n",
       "      <th>video1396</th>\n",
       "    </tr>\n",
       "    <tr>\n",
       "      <th>index</th>\n",
       "      <th></th>\n",
       "      <th></th>\n",
       "      <th></th>\n",
       "      <th></th>\n",
       "      <th></th>\n",
       "      <th></th>\n",
       "      <th></th>\n",
       "      <th></th>\n",
       "      <th></th>\n",
       "      <th></th>\n",
       "      <th></th>\n",
       "      <th></th>\n",
       "      <th></th>\n",
       "      <th></th>\n",
       "      <th></th>\n",
       "      <th></th>\n",
       "      <th></th>\n",
       "      <th></th>\n",
       "      <th></th>\n",
       "      <th></th>\n",
       "      <th></th>\n",
       "    </tr>\n",
       "  </thead>\n",
       "  <tbody>\n",
       "    <tr>\n",
       "      <th>0</th>\n",
       "      <td>108</td>\n",
       "      <td>103</td>\n",
       "      <td>103</td>\n",
       "      <td>103</td>\n",
       "      <td>103</td>\n",
       "      <td>103</td>\n",
       "      <td>103</td>\n",
       "      <td>103</td>\n",
       "      <td>103</td>\n",
       "      <td>98</td>\n",
       "      <td>...</td>\n",
       "      <td>103</td>\n",
       "      <td>103</td>\n",
       "      <td>103</td>\n",
       "      <td>104</td>\n",
       "      <td>103</td>\n",
       "      <td>103</td>\n",
       "      <td>103</td>\n",
       "      <td>103</td>\n",
       "      <td>100</td>\n",
       "      <td>103</td>\n",
       "    </tr>\n",
       "    <tr>\n",
       "      <th>1</th>\n",
       "      <td>107</td>\n",
       "      <td>105</td>\n",
       "      <td>105</td>\n",
       "      <td>100</td>\n",
       "      <td>104</td>\n",
       "      <td>98</td>\n",
       "      <td>108</td>\n",
       "      <td>98</td>\n",
       "      <td>98</td>\n",
       "      <td>103</td>\n",
       "      <td>...</td>\n",
       "      <td>108</td>\n",
       "      <td>48</td>\n",
       "      <td>200</td>\n",
       "      <td>103</td>\n",
       "      <td>104</td>\n",
       "      <td>104</td>\n",
       "      <td>98</td>\n",
       "      <td>104</td>\n",
       "      <td>104</td>\n",
       "      <td>104</td>\n",
       "    </tr>\n",
       "    <tr>\n",
       "      <th>2</th>\n",
       "      <td>102</td>\n",
       "      <td>200</td>\n",
       "      <td>101</td>\n",
       "      <td>104</td>\n",
       "      <td>108</td>\n",
       "      <td>109</td>\n",
       "      <td>200</td>\n",
       "      <td>100</td>\n",
       "      <td>101</td>\n",
       "      <td>41</td>\n",
       "      <td>...</td>\n",
       "      <td>109</td>\n",
       "      <td>104</td>\n",
       "      <td>108</td>\n",
       "      <td>102</td>\n",
       "      <td>98</td>\n",
       "      <td>200</td>\n",
       "      <td>200</td>\n",
       "      <td>200</td>\n",
       "      <td>103</td>\n",
       "      <td>101</td>\n",
       "    </tr>\n",
       "    <tr>\n",
       "      <th>3</th>\n",
       "      <td>103</td>\n",
       "      <td>100</td>\n",
       "      <td>104</td>\n",
       "      <td>102</td>\n",
       "      <td>200</td>\n",
       "      <td>108</td>\n",
       "      <td>102</td>\n",
       "      <td>104</td>\n",
       "      <td>200</td>\n",
       "      <td>95</td>\n",
       "      <td>...</td>\n",
       "      <td>102</td>\n",
       "      <td>98</td>\n",
       "      <td>98</td>\n",
       "      <td>108</td>\n",
       "      <td>200</td>\n",
       "      <td>108</td>\n",
       "      <td>101</td>\n",
       "      <td>105</td>\n",
       "      <td>105</td>\n",
       "      <td>100</td>\n",
       "    </tr>\n",
       "    <tr>\n",
       "      <th>4</th>\n",
       "      <td>100</td>\n",
       "      <td>101</td>\n",
       "      <td>100</td>\n",
       "      <td>109</td>\n",
       "      <td>102</td>\n",
       "      <td>104</td>\n",
       "      <td>100</td>\n",
       "      <td>102</td>\n",
       "      <td>100</td>\n",
       "      <td>101</td>\n",
       "      <td>...</td>\n",
       "      <td>105</td>\n",
       "      <td>105</td>\n",
       "      <td>109</td>\n",
       "      <td>100</td>\n",
       "      <td>108</td>\n",
       "      <td>109</td>\n",
       "      <td>105</td>\n",
       "      <td>102</td>\n",
       "      <td>108</td>\n",
       "      <td>105</td>\n",
       "    </tr>\n",
       "  </tbody>\n",
       "</table>\n",
       "<p>5 rows × 1397 columns</p>\n",
       "</div>"
      ],
      "text/plain": [
       "       video0  video1  video2  video3  video4  video5  video6  video7  video8  \\\n",
       "index                                                                           \n",
       "0         108     103     103     103     103     103     103     103     103   \n",
       "1         107     105     105     100     104      98     108      98      98   \n",
       "2         102     200     101     104     108     109     200     100     101   \n",
       "3         103     100     104     102     200     108     102     104     200   \n",
       "4         100     101     100     109     102     104     100     102     100   \n",
       "\n",
       "       video9  ...  video1387  video1388  video1389  video1390  video1391  \\\n",
       "index          ...                                                          \n",
       "0          98  ...        103        103        103        104        103   \n",
       "1         103  ...        108         48        200        103        104   \n",
       "2          41  ...        109        104        108        102         98   \n",
       "3          95  ...        102         98         98        108        200   \n",
       "4         101  ...        105        105        109        100        108   \n",
       "\n",
       "       video1392  video1393  video1394  video1395  video1396  \n",
       "index                                                         \n",
       "0            103        103        103        100        103  \n",
       "1            104         98        104        104        104  \n",
       "2            200        200        200        103        101  \n",
       "3            108        101        105        105        100  \n",
       "4            109        105        102        108        105  \n",
       "\n",
       "[5 rows x 1397 columns]"
      ]
     },
     "execution_count": 18,
     "metadata": {},
     "output_type": "execute_result"
    }
   ],
   "source": [
    "# first example ; we compute the rankings of the bitrate distribution for the first input video\n",
    "bitrates = listVideo[0][predDimension]\n",
    "# sorted rankings for the bitrates distribution (0: minimal, 200 : maximal)\n",
    "ind = sorted(range(len(bitrates)), key=lambda k: bitrates[k])\n",
    "# df\n",
    "rankings = pd.DataFrame({\"index\" : range(201), \"video0\" : ind}).set_index(\"index\")\n",
    "\n",
    "for i in np.arange(1,len(listVideo),1):\n",
    "    bitrates = listVideo[i][predDimension]\n",
    "    ind = sorted(range(len(bitrates)), key=lambda k: bitrates[k])\n",
    "    rankings[\"video\"+str(i)] = ind\n",
    "\n",
    "rankings.head()"
   ]
  },
  {
   "cell_type": "markdown",
   "metadata": {},
   "source": [
    "#### To get the most \"unstable\" ranking, we take the configuration having the highest standard deviation."
   ]
  },
  {
   "cell_type": "code",
   "execution_count": 19,
   "metadata": {},
   "outputs": [
    {
     "name": "stdout",
     "output_type": "stream",
     "text": [
      "Config min std :  0\n",
      "Config max std :  95\n",
      "Config med std :  43.94527433476486\n"
     ]
    },
    {
     "data": {
      "image/png": "[encoded data removed]",
      "text/plain": [
       "<Figure size 432x288 with 1 Axes>"
      ]
     },
     "metadata": {
      "needs_background": "light"
     },
     "output_type": "display_data"
    },
    {
     "data": {
      "image/png": "[encoded data removed]",
      "text/plain": [
       "<Figure size 432x288 with 1 Axes>"
      ]
     },
     "metadata": {
      "needs_background": "light"
     },
     "output_type": "display_data"
    }
   ],
   "source": [
    "# standard deviations for rankings of the 201 configurations\n",
    "stds = [np.std(rankings.loc[i,:]) for i in range(len(rankings.index))]\n",
    "print(\"Config min std : \", np.argmin(stds))\n",
    "print(\"Config max std : \", np.argmax(stds))\n",
    "print(\"Config med std : \", np.median(stds))\n",
    "\n",
    "# depicts the most stable configuration ranking across inputs\n",
    "plt.scatter(range(len(rankings.columns)), rankings.loc[np.argmin(stds), :])\n",
    "plt.ylabel(\"Rank\")\n",
    "plt.xlabel(\"Video id\")\n",
    "plt.title(\"Configuration \"+str(np.argmin(stds))+\" : std = \"+str(int(np.round(np.min(stds)))))\n",
    "plt.savefig(\"../../results/config_min_std_ranking_\"+predDimension+\".png\")\n",
    "plt.show()\n",
    "\n",
    "# depicts the most input sensitive configuration\n",
    "plt.scatter(range(len(rankings.columns)), rankings.loc[np.argmax(stds), :])\n",
    "plt.ylabel(\"Rank\")\n",
    "plt.xlabel(\"Video id\")\n",
    "plt.title(\"Configuration \"+str(np.argmax(stds))+\" : std = \"+str(int(np.round(np.max(stds)))))\n",
    "plt.savefig(\"../../results/config_max_std_ranking_\"+predDimension+\".png\")\n",
    "plt.show()"
   ]
  },
  {
   "cell_type": "markdown",
   "metadata": {},
   "source": [
    "#### Some statistics (not mentioned in the text)"
   ]
  },
  {
   "cell_type": "code",
   "execution_count": 20,
   "metadata": {},
   "outputs": [
    {
     "name": "stdout",
     "output_type": "stream",
     "text": [
      "For config. 200,  2 % of configurations are between 105 and 130!\n"
     ]
    }
   ],
   "source": [
    "print(\"For config. 200, \", int(np.sum([1  for j in range(len(rankings.loc[np.argmin(stds),:])) \n",
    "              if rankings.loc[np.argmin(stds),:][j] > 105 and rankings.loc[np.argmin(stds),:][j] < 130])\n",
    "      /len(rankings.loc[np.argmin(stds),:])*100),\"% of configurations are between 105 and 130!\")"
   ]
  },
  {
   "cell_type": "code",
   "execution_count": 21,
   "metadata": {},
   "outputs": [
    {
     "data": {
      "text/plain": [
       "(array([409]),)"
      ]
     },
     "execution_count": 21,
     "metadata": {},
     "output_type": "execute_result"
    }
   ],
   "source": [
    "np.where(rankings.loc[np.argmin(stds),:] == np.min(rankings.loc[np.argmin(stds),:]))"
   ]
  },
  {
   "cell_type": "code",
   "execution_count": 22,
   "metadata": {},
   "outputs": [
    {
     "data": {
      "text/plain": [
       "199"
      ]
     },
     "execution_count": 22,
     "metadata": {},
     "output_type": "execute_result"
    }
   ],
   "source": [
    "np.max(rankings.loc[np.argmax(stds),:])"
   ]
  },
  {
   "cell_type": "code",
   "execution_count": 23,
   "metadata": {},
   "outputs": [
    {
     "data": {
      "text/plain": [
       "(array([  48,  159,  160, 1145, 1312, 1335]),)"
      ]
     },
     "execution_count": 23,
     "metadata": {},
     "output_type": "execute_result"
    }
   ],
   "source": [
    "np.where(rankings.loc[np.argmax(stds),:] == np.min(rankings.loc[np.argmax(stds),:]))"
   ]
  },
  {
   "cell_type": "code",
   "execution_count": 24,
   "metadata": {},
   "outputs": [
    {
     "data": {
      "text/plain": [
       "199"
      ]
     },
     "execution_count": 24,
     "metadata": {},
     "output_type": "execute_result"
    }
   ],
   "source": [
    "np.max(rankings.loc[np.argmax(stds),:])"
   ]
  },
  {
   "cell_type": "code",
   "execution_count": 25,
   "metadata": {},
   "outputs": [
    {
     "data": {
      "text/plain": [
       "(array([  44,   51,   57,  130,  133,  137,  233,  371,  417,  528,  556,\n",
       "         666,  749,  754,  756,  758,  760, 1219, 1243, 1385]),)"
      ]
     },
     "execution_count": 25,
     "metadata": {},
     "output_type": "execute_result"
    }
   ],
   "source": [
    "np.where(rankings.loc[np.argmin(stds),:] == np.max(rankings.loc[np.argmin(stds),:]))"
   ]
  },
  {
   "cell_type": "markdown",
   "metadata": {},
   "source": [
    "#### Rankings distributions"
   ]
  },
  {
   "cell_type": "code",
   "execution_count": 26,
   "metadata": {},
   "outputs": [
    {
     "data": {
      "text/plain": [
       "count    1397.000000\n",
       "mean       84.887616\n",
       "std        75.978363\n",
       "min         1.000000\n",
       "25%        13.000000\n",
       "50%        54.000000\n",
       "75%       171.000000\n",
       "max       199.000000\n",
       "Name: 95, dtype: float64"
      ]
     },
     "execution_count": 26,
     "metadata": {},
     "output_type": "execute_result"
    }
   ],
   "source": [
    "pd.Series(rankings.loc[np.argmax(stds),:]).describe()"
   ]
  },
  {
   "cell_type": "code",
   "execution_count": 27,
   "metadata": {},
   "outputs": [
    {
     "data": {
      "text/plain": [
       "count    1397.000000\n",
       "mean      102.473157\n",
       "std        15.815878\n",
       "min        25.000000\n",
       "25%       103.000000\n",
       "50%       103.000000\n",
       "75%       103.000000\n",
       "max       200.000000\n",
       "Name: 0, dtype: float64"
      ]
     },
     "execution_count": 27,
     "metadata": {},
     "output_type": "execute_result"
    }
   ],
   "source": [
    "pd.Series(rankings.loc[np.argmin(stds),:]).describe()"
   ]
  },
  {
   "cell_type": "markdown",
   "metadata": {},
   "source": [
    "## RQ1-2- Are there some configuration options more sensitive to input videos?"
   ]
  },
  {
   "cell_type": "markdown",
   "metadata": {},
   "source": [
    "#### A-] For RQ1-2, we compute the feature importances of configuration options for each video"
   ]
  },
  {
   "cell_type": "code",
   "execution_count": 28,
   "metadata": {
    "scrolled": false
   },
   "outputs": [],
   "source": [
    "# the list of p = 24 features\n",
    "listFeatures = [\"cabac\", \"ref\", \"deblock\", \"analyse\", \"me\", \"subme\", \"mixed_ref\", \"me_range\", \"trellis\", \n",
    "                \"8x8dct\", \"fast_pskip\", \"chroma_qp_offset\", \"bframes\", \"b_pyramid\", \"b_adapt\", \"direct\", \n",
    "                \"weightb\", \"open_gop\", \"weightp\", \"scenecut\", \"rc_lookahead\", \"mbtree\", \"qpmax\", \"aq-mode\"]\n",
    "\n",
    "# we added the bitrates to predict it\n",
    "to_keep = [k for k in listFeatures]\n",
    "to_keep.append(predDimension)\n",
    "\n",
    "# Those feature have values, so we had to transform them into quantitative variables\n",
    "# They do not change a lot (in terms of feature importances and feature effects)\n",
    "# But if they did, we would have transformed them into a set of dummies\n",
    "# see https://www.xlstat.com/en/solutions/features/complete-disjuncive-tables-creating-dummy-variables\n",
    "categorial = ['analyse', 'me', 'direct']\n",
    "\n",
    "# A function that computes features importances \n",
    "# relative to a random forest learning the bitrate of a video compression\n",
    "# (reused for each group)\n",
    "def compute_Importances(listVid, id_short = None):\n",
    "    # input : a list of videos\n",
    "    # output : a dataframe of feature importances\n",
    "    \n",
    "    # we can give a list of ids, to work on a subset of the videos (e.g. a group)\n",
    "    if not id_short:\n",
    "        id_short = np.arange(0, len(listVid), 1)\n",
    "    \n",
    "    # the final list of importances\n",
    "    listImportances = []\n",
    "\n",
    "    # for each video of the list\n",
    "    for id_video in range(len(listVid)):\n",
    "        \n",
    "        # we replace missing numbers by 0\n",
    "        df = listVid[id_video][to_keep].replace(to_replace = \"None\", value = '0')\n",
    "        # two values for deblock, \"1:0:0\" and \"0:0:0\", \n",
    "        # we just take the first character as a int\n",
    "        df['deblock'] = [int(val[0]) for val in df['deblock']]\n",
    "        \n",
    "        for col in df.columns:\n",
    "            # we center and reduce the quantitative variables\n",
    "            # i.e substract the mean, and divide by the standard deviation\n",
    "            # to avoid the scale of the vars to interfere with the learning process\n",
    "            if col not in categorial:\n",
    "                arr_col = np.array(df[col], int)\n",
    "                arr_col = (arr_col-np.mean(arr_col))/(np.std(arr_col)+1e-5)\n",
    "                df[col] = arr_col\n",
    "            else:\n",
    "                # if the variable is categorial\n",
    "                if col not in [predDimension, 'ranking']:\n",
    "                    df[col] = [np.where(k==df[col].unique())[0][0] for k in df[col]]\n",
    "                    arr_col = np.array(df[col], int)\n",
    "                    arr_col = (arr_col-np.mean(arr_col))/(np.std(arr_col)+1e-5)\n",
    "                    df[col] = arr_col\n",
    "        \n",
    "        # for each video, we train a model\n",
    "        clf = RandomForestRegressor(n_estimators=200)\n",
    "        # we use all the configuration options as predicting variables\n",
    "        X = df.drop([predDimension], axis=1)\n",
    "        # and the bitrate distribution of the video as a variable to predict\n",
    "        y = df[predDimension]\n",
    "        # we train the model on all the data (not train-test since we don't use the model)\n",
    "        clf.fit(X, y)\n",
    "        \n",
    "        # we add feature importances to the list\n",
    "        listImportances.append(clf.feature_importances_)\n",
    "    # final dataframe of feature importances\n",
    "    res = pd.DataFrame({'features' : listFeatures})\n",
    "    \n",
    "    # significative numbers p, cs = 10^p\n",
    "    cs = 100\n",
    "    \n",
    "    # we add the feature imps to the dataframe \n",
    "    for id_video in range(len(listImportances)):\n",
    "        res['video_'+str(id_short[id_video])] = np.round(cs*listImportances[id_video])/cs\n",
    "    \n",
    "    # transpose it\n",
    "    res = res.set_index('features').transpose()#.drop(['open_gop','qpmax'],axis=1)\n",
    "    \n",
    "    # return it \n",
    "    return res"
   ]
  },
  {
   "cell_type": "code",
   "execution_count": 29,
   "metadata": {},
   "outputs": [],
   "source": [
    "# we compute the feature importances\n",
    "res_imp = compute_Importances(listVideo)"
   ]
  },
  {
   "cell_type": "markdown",
   "metadata": {},
   "source": [
    "## Figure 2a\n",
    "#### Then, we depict a boxplot of features importances; for each feature, there are 1397 feature importances (one per video)"
   ]
  },
  {
   "cell_type": "code",
   "execution_count": 30,
   "metadata": {
    "scrolled": false
   },
   "outputs": [
    {
     "data": {
      "image/png": "[encoded data removed]",
      "text/plain": [
       "<Figure size 1080x576 with 1 Axes>"
      ]
     },
     "metadata": {
      "needs_background": "light"
     },
     "output_type": "display_data"
    }
   ],
   "source": [
    "# we sort the features by names \n",
    "# here the first columns is not used, but it is useful \n",
    "# if we want to put the important features on top of the graph\n",
    "listImp = [(np.abs(np.percentile(res_imp[col],75)-np.percentile(res_imp[col],25)),res_imp[col], col) \n",
    "           for col in res_imp.columns]\n",
    "listImp.sort(key=lambda tup: tup[2], reverse=True)\n",
    "\n",
    "# the names of the features\n",
    "names = [l[2] for l in listImp]\n",
    "\n",
    "# pretty names, we replace the names\n",
    "to_replace_b4 = [\"b_adapt\", \"b_pyramid\", \"chroma_qp_offset\", \"fast_pskip\", \n",
    "                 \"me_range\", \"mixed_ref\", \"open_gop\", \"rc_lookahead\"]\n",
    "to_replace_after = [\"badapt\", \"bpyramid\", \"crqpoffset\", \"fastpskip\", \n",
    "                    \"merange\", \"mixedref\", \"opengop\", \"rclookahead\"]\n",
    "\n",
    "for n in range(len(to_replace_b4)):\n",
    "    names[np.where(np.array(names, str) == to_replace_b4[n])[0][0]] = to_replace_after[n]\n",
    "\n",
    "# fancy boxplot\n",
    "red_square = dict(markerfacecolor='r', marker='s')\n",
    "plt.figure(figsize=(15,8))\n",
    "plt.grid()\n",
    "plt.scatter([np.mean(l[1]) for l in listImp], range(1, 1+len(listImp)),\n",
    "           marker=\"x\", color = \"black\", alpha = 1, s = 20)\n",
    "plt.boxplot([l[1] for l in listImp], flierprops=red_square, \n",
    "          vert=False, patch_artist=True, #widths=0.25,\n",
    "          boxprops=dict(facecolor=(0,0,1,0.5),linewidth=1,edgecolor='k'),\n",
    "          whiskerprops = dict(linestyle='-.',linewidth=1.0, color='black'))\n",
    "# we add a line separating the influential features (median on the right of the orange line)\n",
    "# from the rest of the features\n",
    "plt.vlines(x = float(1/24), ymin = 0.5, ymax = 24, color=\"orange\", linewidth=3)\n",
    "plt.text(s = \"Influential\", x = 0.05, y = 8.1, size = 20, color = 'orange')\n",
    "plt.xlabel(\"Random Forest feature importances\", size=20)\n",
    "plt.yticks(range(1, len(listImp) + 1), names, size= 16)\n",
    "plt.savefig(\"../../results/boxplot_features_imp_rf_\"+predDimension+\".png\")\n",
    "plt.show()"
   ]
  },
  {
   "cell_type": "markdown",
   "metadata": {},
   "source": [
    "#### B-] Since feature importances do not get how the predicting variables (i.e. the configuraiton options) affect the variable to predict (i.e. the bitrate), we add linear regression coefficients"
   ]
  },
  {
   "cell_type": "code",
   "execution_count": 31,
   "metadata": {
    "scrolled": false
   },
   "outputs": [
    {
     "data": {
      "text/html": [
       "<div>\n",
       "<style scoped>\n",
       "    .dataframe tbody tr th:only-of-type {\n",
       "        vertical-align: middle;\n",
       "    }\n",
       "\n",
       "    .dataframe tbody tr th {\n",
       "        vertical-align: top;\n",
       "    }\n",
       "\n",
       "    .dataframe thead th {\n",
       "        text-align: right;\n",
       "    }\n",
       "</style>\n",
       "<table border=\"1\" class=\"dataframe\">\n",
       "  <thead>\n",
       "    <tr style=\"text-align: right;\">\n",
       "      <th>features</th>\n",
       "      <th>cabac</th>\n",
       "      <th>ref</th>\n",
       "      <th>deblock</th>\n",
       "      <th>analyse</th>\n",
       "      <th>me</th>\n",
       "      <th>subme</th>\n",
       "      <th>mixed_ref</th>\n",
       "      <th>me_range</th>\n",
       "      <th>trellis</th>\n",
       "      <th>8x8dct</th>\n",
       "      <th>...</th>\n",
       "      <th>b_adapt</th>\n",
       "      <th>direct</th>\n",
       "      <th>weightb</th>\n",
       "      <th>open_gop</th>\n",
       "      <th>weightp</th>\n",
       "      <th>scenecut</th>\n",
       "      <th>rc_lookahead</th>\n",
       "      <th>mbtree</th>\n",
       "      <th>qpmax</th>\n",
       "      <th>aq-mode</th>\n",
       "    </tr>\n",
       "  </thead>\n",
       "  <tbody>\n",
       "    <tr>\n",
       "      <th>video_0</th>\n",
       "      <td>-0.01</td>\n",
       "      <td>-0.10</td>\n",
       "      <td>-0.01</td>\n",
       "      <td>-0.03</td>\n",
       "      <td>-0.09</td>\n",
       "      <td>-0.23</td>\n",
       "      <td>0.09</td>\n",
       "      <td>-0.09</td>\n",
       "      <td>-0.15</td>\n",
       "      <td>-0.03</td>\n",
       "      <td>...</td>\n",
       "      <td>-0.23</td>\n",
       "      <td>0.06</td>\n",
       "      <td>0.21</td>\n",
       "      <td>-0.0</td>\n",
       "      <td>-0.00</td>\n",
       "      <td>-0.02</td>\n",
       "      <td>0.03</td>\n",
       "      <td>-0.18</td>\n",
       "      <td>0.0</td>\n",
       "      <td>-0.05</td>\n",
       "    </tr>\n",
       "    <tr>\n",
       "      <th>video_1</th>\n",
       "      <td>0.02</td>\n",
       "      <td>-0.14</td>\n",
       "      <td>-0.00</td>\n",
       "      <td>-0.06</td>\n",
       "      <td>-0.09</td>\n",
       "      <td>-0.48</td>\n",
       "      <td>-0.03</td>\n",
       "      <td>0.01</td>\n",
       "      <td>-0.24</td>\n",
       "      <td>-0.09</td>\n",
       "      <td>...</td>\n",
       "      <td>-0.01</td>\n",
       "      <td>-0.02</td>\n",
       "      <td>0.01</td>\n",
       "      <td>-0.0</td>\n",
       "      <td>-0.00</td>\n",
       "      <td>-0.03</td>\n",
       "      <td>0.03</td>\n",
       "      <td>-0.07</td>\n",
       "      <td>0.0</td>\n",
       "      <td>-0.01</td>\n",
       "    </tr>\n",
       "    <tr>\n",
       "      <th>video_2</th>\n",
       "      <td>0.03</td>\n",
       "      <td>-0.16</td>\n",
       "      <td>-0.02</td>\n",
       "      <td>-0.05</td>\n",
       "      <td>-0.10</td>\n",
       "      <td>-0.42</td>\n",
       "      <td>-0.01</td>\n",
       "      <td>-0.01</td>\n",
       "      <td>-0.34</td>\n",
       "      <td>-0.06</td>\n",
       "      <td>...</td>\n",
       "      <td>0.01</td>\n",
       "      <td>-0.01</td>\n",
       "      <td>0.10</td>\n",
       "      <td>-0.0</td>\n",
       "      <td>-0.01</td>\n",
       "      <td>-0.06</td>\n",
       "      <td>-0.00</td>\n",
       "      <td>-0.12</td>\n",
       "      <td>0.0</td>\n",
       "      <td>-0.01</td>\n",
       "    </tr>\n",
       "    <tr>\n",
       "      <th>video_3</th>\n",
       "      <td>0.01</td>\n",
       "      <td>-0.11</td>\n",
       "      <td>-0.01</td>\n",
       "      <td>-0.06</td>\n",
       "      <td>-0.08</td>\n",
       "      <td>-0.50</td>\n",
       "      <td>-0.02</td>\n",
       "      <td>0.00</td>\n",
       "      <td>-0.22</td>\n",
       "      <td>-0.10</td>\n",
       "      <td>...</td>\n",
       "      <td>-0.01</td>\n",
       "      <td>-0.02</td>\n",
       "      <td>-0.05</td>\n",
       "      <td>-0.0</td>\n",
       "      <td>-0.03</td>\n",
       "      <td>-0.01</td>\n",
       "      <td>0.01</td>\n",
       "      <td>-0.13</td>\n",
       "      <td>0.0</td>\n",
       "      <td>-0.03</td>\n",
       "    </tr>\n",
       "    <tr>\n",
       "      <th>video_4</th>\n",
       "      <td>0.04</td>\n",
       "      <td>-0.14</td>\n",
       "      <td>-0.01</td>\n",
       "      <td>-0.04</td>\n",
       "      <td>-0.07</td>\n",
       "      <td>-0.43</td>\n",
       "      <td>-0.02</td>\n",
       "      <td>-0.02</td>\n",
       "      <td>-0.33</td>\n",
       "      <td>-0.07</td>\n",
       "      <td>...</td>\n",
       "      <td>-0.00</td>\n",
       "      <td>-0.01</td>\n",
       "      <td>0.04</td>\n",
       "      <td>-0.0</td>\n",
       "      <td>-0.00</td>\n",
       "      <td>-0.03</td>\n",
       "      <td>-0.00</td>\n",
       "      <td>-0.10</td>\n",
       "      <td>0.0</td>\n",
       "      <td>-0.03</td>\n",
       "    </tr>\n",
       "    <tr>\n",
       "      <th>...</th>\n",
       "      <td>...</td>\n",
       "      <td>...</td>\n",
       "      <td>...</td>\n",
       "      <td>...</td>\n",
       "      <td>...</td>\n",
       "      <td>...</td>\n",
       "      <td>...</td>\n",
       "      <td>...</td>\n",
       "      <td>...</td>\n",
       "      <td>...</td>\n",
       "      <td>...</td>\n",
       "      <td>...</td>\n",
       "      <td>...</td>\n",
       "      <td>...</td>\n",
       "      <td>...</td>\n",
       "      <td>...</td>\n",
       "      <td>...</td>\n",
       "      <td>...</td>\n",
       "      <td>...</td>\n",
       "      <td>...</td>\n",
       "      <td>...</td>\n",
       "    </tr>\n",
       "    <tr>\n",
       "      <th>video_1392</th>\n",
       "      <td>0.07</td>\n",
       "      <td>-0.19</td>\n",
       "      <td>-0.01</td>\n",
       "      <td>-0.03</td>\n",
       "      <td>-0.07</td>\n",
       "      <td>-0.41</td>\n",
       "      <td>0.02</td>\n",
       "      <td>-0.03</td>\n",
       "      <td>-0.37</td>\n",
       "      <td>-0.04</td>\n",
       "      <td>...</td>\n",
       "      <td>-0.03</td>\n",
       "      <td>0.02</td>\n",
       "      <td>0.12</td>\n",
       "      <td>-0.0</td>\n",
       "      <td>0.02</td>\n",
       "      <td>-0.04</td>\n",
       "      <td>0.00</td>\n",
       "      <td>-0.06</td>\n",
       "      <td>0.0</td>\n",
       "      <td>0.00</td>\n",
       "    </tr>\n",
       "    <tr>\n",
       "      <th>video_1393</th>\n",
       "      <td>0.01</td>\n",
       "      <td>-0.10</td>\n",
       "      <td>0.01</td>\n",
       "      <td>-0.02</td>\n",
       "      <td>-0.08</td>\n",
       "      <td>-0.45</td>\n",
       "      <td>-0.10</td>\n",
       "      <td>0.05</td>\n",
       "      <td>-0.32</td>\n",
       "      <td>-0.14</td>\n",
       "      <td>...</td>\n",
       "      <td>0.13</td>\n",
       "      <td>-0.01</td>\n",
       "      <td>-0.10</td>\n",
       "      <td>-0.0</td>\n",
       "      <td>-0.01</td>\n",
       "      <td>-0.02</td>\n",
       "      <td>-0.00</td>\n",
       "      <td>-0.14</td>\n",
       "      <td>0.0</td>\n",
       "      <td>-0.03</td>\n",
       "    </tr>\n",
       "    <tr>\n",
       "      <th>video_1394</th>\n",
       "      <td>0.03</td>\n",
       "      <td>-0.11</td>\n",
       "      <td>-0.01</td>\n",
       "      <td>-0.05</td>\n",
       "      <td>-0.07</td>\n",
       "      <td>-0.50</td>\n",
       "      <td>-0.05</td>\n",
       "      <td>0.04</td>\n",
       "      <td>-0.26</td>\n",
       "      <td>-0.09</td>\n",
       "      <td>...</td>\n",
       "      <td>0.01</td>\n",
       "      <td>-0.03</td>\n",
       "      <td>-0.05</td>\n",
       "      <td>-0.0</td>\n",
       "      <td>0.01</td>\n",
       "      <td>0.01</td>\n",
       "      <td>-0.00</td>\n",
       "      <td>-0.09</td>\n",
       "      <td>0.0</td>\n",
       "      <td>-0.05</td>\n",
       "    </tr>\n",
       "    <tr>\n",
       "      <th>video_1395</th>\n",
       "      <td>-0.02</td>\n",
       "      <td>-0.08</td>\n",
       "      <td>0.00</td>\n",
       "      <td>-0.07</td>\n",
       "      <td>-0.09</td>\n",
       "      <td>-0.49</td>\n",
       "      <td>-0.06</td>\n",
       "      <td>0.04</td>\n",
       "      <td>-0.14</td>\n",
       "      <td>-0.14</td>\n",
       "      <td>...</td>\n",
       "      <td>0.20</td>\n",
       "      <td>-0.04</td>\n",
       "      <td>-0.20</td>\n",
       "      <td>-0.0</td>\n",
       "      <td>-0.02</td>\n",
       "      <td>-0.18</td>\n",
       "      <td>-0.00</td>\n",
       "      <td>-0.09</td>\n",
       "      <td>0.0</td>\n",
       "      <td>-0.06</td>\n",
       "    </tr>\n",
       "    <tr>\n",
       "      <th>video_1396</th>\n",
       "      <td>-0.01</td>\n",
       "      <td>-0.10</td>\n",
       "      <td>-0.00</td>\n",
       "      <td>-0.06</td>\n",
       "      <td>-0.08</td>\n",
       "      <td>-0.54</td>\n",
       "      <td>-0.05</td>\n",
       "      <td>0.02</td>\n",
       "      <td>-0.22</td>\n",
       "      <td>-0.11</td>\n",
       "      <td>...</td>\n",
       "      <td>0.03</td>\n",
       "      <td>-0.02</td>\n",
       "      <td>-0.05</td>\n",
       "      <td>-0.0</td>\n",
       "      <td>0.01</td>\n",
       "      <td>-0.04</td>\n",
       "      <td>0.01</td>\n",
       "      <td>-0.06</td>\n",
       "      <td>0.0</td>\n",
       "      <td>-0.04</td>\n",
       "    </tr>\n",
       "  </tbody>\n",
       "</table>\n",
       "<p>1397 rows × 24 columns</p>\n",
       "</div>"
      ],
      "text/plain": [
       "features    cabac   ref  deblock  analyse    me  subme  mixed_ref  me_range  \\\n",
       "video_0     -0.01 -0.10    -0.01    -0.03 -0.09  -0.23       0.09     -0.09   \n",
       "video_1      0.02 -0.14    -0.00    -0.06 -0.09  -0.48      -0.03      0.01   \n",
       "video_2      0.03 -0.16    -0.02    -0.05 -0.10  -0.42      -0.01     -0.01   \n",
       "video_3      0.01 -0.11    -0.01    -0.06 -0.08  -0.50      -0.02      0.00   \n",
       "video_4      0.04 -0.14    -0.01    -0.04 -0.07  -0.43      -0.02     -0.02   \n",
       "...           ...   ...      ...      ...   ...    ...        ...       ...   \n",
       "video_1392   0.07 -0.19    -0.01    -0.03 -0.07  -0.41       0.02     -0.03   \n",
       "video_1393   0.01 -0.10     0.01    -0.02 -0.08  -0.45      -0.10      0.05   \n",
       "video_1394   0.03 -0.11    -0.01    -0.05 -0.07  -0.50      -0.05      0.04   \n",
       "video_1395  -0.02 -0.08     0.00    -0.07 -0.09  -0.49      -0.06      0.04   \n",
       "video_1396  -0.01 -0.10    -0.00    -0.06 -0.08  -0.54      -0.05      0.02   \n",
       "\n",
       "features    trellis  8x8dct  ...  b_adapt  direct  weightb  open_gop  weightp  \\\n",
       "video_0       -0.15   -0.03  ...    -0.23    0.06     0.21      -0.0    -0.00   \n",
       "video_1       -0.24   -0.09  ...    -0.01   -0.02     0.01      -0.0    -0.00   \n",
       "video_2       -0.34   -0.06  ...     0.01   -0.01     0.10      -0.0    -0.01   \n",
       "video_3       -0.22   -0.10  ...    -0.01   -0.02    -0.05      -0.0    -0.03   \n",
       "video_4       -0.33   -0.07  ...    -0.00   -0.01     0.04      -0.0    -0.00   \n",
       "...             ...     ...  ...      ...     ...      ...       ...      ...   \n",
       "video_1392    -0.37   -0.04  ...    -0.03    0.02     0.12      -0.0     0.02   \n",
       "video_1393    -0.32   -0.14  ...     0.13   -0.01    -0.10      -0.0    -0.01   \n",
       "video_1394    -0.26   -0.09  ...     0.01   -0.03    -0.05      -0.0     0.01   \n",
       "video_1395    -0.14   -0.14  ...     0.20   -0.04    -0.20      -0.0    -0.02   \n",
       "video_1396    -0.22   -0.11  ...     0.03   -0.02    -0.05      -0.0     0.01   \n",
       "\n",
       "features    scenecut  rc_lookahead  mbtree  qpmax  aq-mode  \n",
       "video_0        -0.02          0.03   -0.18    0.0    -0.05  \n",
       "video_1        -0.03          0.03   -0.07    0.0    -0.01  \n",
       "video_2        -0.06         -0.00   -0.12    0.0    -0.01  \n",
       "video_3        -0.01          0.01   -0.13    0.0    -0.03  \n",
       "video_4        -0.03         -0.00   -0.10    0.0    -0.03  \n",
       "...              ...           ...     ...    ...      ...  \n",
       "video_1392     -0.04          0.00   -0.06    0.0     0.00  \n",
       "video_1393     -0.02         -0.00   -0.14    0.0    -0.03  \n",
       "video_1394      0.01         -0.00   -0.09    0.0    -0.05  \n",
       "video_1395     -0.18         -0.00   -0.09    0.0    -0.06  \n",
       "video_1396     -0.04          0.01   -0.06    0.0    -0.04  \n",
       "\n",
       "[1397 rows x 24 columns]"
      ]
     },
     "execution_count": 31,
     "metadata": {},
     "output_type": "execute_result"
    }
   ],
   "source": [
    "# alternatively, we can only select the important features to plot the tukey diagrams\n",
    "short_features = [\"mbtree\", \"aq-mode\", \"subme\"]\n",
    "\n",
    "# another function to compute the linear regression coefficients (reused for each group)\n",
    "def compute_poly(listVid, id_short=None):\n",
    "    # input : a list of videos, (list of ids)\n",
    "    # output : a dataframe of feature importances\n",
    "    \n",
    "    # see compute_importances function, same principle\n",
    "    if not id_short:\n",
    "        id_short = np.arange(0,len(listVid),1)\n",
    "    \n",
    "    # see compute_importances function, same principle\n",
    "    listImportances = []\n",
    "    \n",
    "    to_keep = [k for k in listFeatures]\n",
    "    to_keep.append(predDimension)\n",
    "    \n",
    "    # this part of the code is not used there, \n",
    "    # but allows to add features interactions in the model\n",
    "    names = listFeatures\n",
    "    final_names = []\n",
    "    final_names.append('constant')\n",
    "    for n in names:\n",
    "        final_names.append(n)\n",
    "    for n1 in range(len(names)):\n",
    "        for n2 in range(len(names)):\n",
    "            if n1>=n2:\n",
    "                final_names.append(str(names[n1])+'*'+str(names[n2]))\n",
    "    \n",
    "    for id_video in range(len(listVid)):\n",
    "        # see compute_importances function, same principle\n",
    "        df = listVid[id_video][to_keep].replace(to_replace =\"None\",value='0')\n",
    "        df['deblock'] =[int(val[0]) for val in df['deblock']]\n",
    "        # see compute_importances function, same principle\n",
    "        for col in df.columns:\n",
    "            if col not in categorial:\n",
    "                arr_col = np.array(df[col],int)\n",
    "                arr_col = (arr_col-np.mean(arr_col))/(np.std(arr_col)+1e-5)\n",
    "                df[col] = arr_col\n",
    "            else:\n",
    "                df[col] = [np.where(k==df[col].unique())[0][0] for k in df[col]]\n",
    "                arr_col = np.array(df[col],int)\n",
    "                arr_col = (arr_col-np.mean(arr_col))/(np.std(arr_col)+1e-5)\n",
    "                df[col] = arr_col\n",
    "        # This time, we train an ordinary least square regression\n",
    "        # i.e. we fit weights to predicting variables so it minimizes\n",
    "        # the mean squared error between the prediction and the measures of bitrates \n",
    "        clf = LinearRegression()\n",
    "        X = df.drop([predDimension],axis=1)\n",
    "        #X = df[short_features]\n",
    "\n",
    "        y = df[predDimension]\n",
    "        # this part of the code is not used there, \n",
    "        # but allows to add features interactions in the model\n",
    "        #poly = PolynomialFeatures(degree=1, interaction_only = False, include_bias = True)    \n",
    "        #X_interact = pd.DataFrame(poly.fit_transform(X))#, columns=final_names)\n",
    "        #kept_names = ['subme','aq-mode','mbtree','cabac','cabac*mbtree','aq-mode*subme','cabac*subme']\n",
    "        \n",
    "        # we train the model\n",
    "        clf.fit(X,y)\n",
    "        listImportances.append(clf.coef_)\n",
    "\n",
    "    #res = pd.DataFrame({'features' : short_features})\n",
    "    res = pd.DataFrame({'features' : listFeatures})\n",
    "\n",
    "    # see compute_importances function, same principle\n",
    "    cs = 100\n",
    "    for id_video in range(len(listImportances)):\n",
    "        res['video_'+str(id_short[id_video])] = np.round(cs*listImportances[id_video])/cs\n",
    "    \n",
    "    # see compute_importances function, same principle\n",
    "    res = res.set_index('features').transpose()#.drop(['open_gop','qpmax'])\n",
    "    #res = res.set_index('features').drop(['open_gop','qpmax']).transpose()\n",
    "    return res\n",
    "\n",
    "# we compute the coefficients\n",
    "res_coef = compute_poly(listVideo)\n",
    "# we can save the coefficients, useful for an analysis input per input\n",
    "#res_coef.to_csv(\"../../results/list_features_importances_poly_\"+predDimension+\".csv\")\n",
    "# and we print them\n",
    "res_coef"
   ]
  },
  {
   "cell_type": "markdown",
   "metadata": {},
   "source": [
    "## Figure 2b\n",
    "#### Same idea for this plot, see the last cell of RQ1.2-A-]"
   ]
  },
  {
   "cell_type": "code",
   "execution_count": 32,
   "metadata": {},
   "outputs": [
    {
     "data": {
      "image/png": "[encoded data removed]",
      "text/plain": [
       "<Figure size 1080x576 with 1 Axes>"
      ]
     },
     "metadata": {
      "needs_background": "light"
     },
     "output_type": "display_data"
    }
   ],
   "source": [
    "listImp = [(np.abs(np.percentile(res_coef[col],75)-np.percentile(res_coef[col],25)),res_coef[col], col) \n",
    "           for col in res_coef.columns]\n",
    "listImp.sort(key=lambda tup: tup[2], reverse=True)\n",
    "\n",
    "names = [l[2] for l in listImp]\n",
    "\n",
    "to_replace_b4 = [\"b_adapt\", \"b_pyramid\", \"chroma_qp_offset\", \"fast_pskip\", \n",
    "                 \"me_range\", \"mixed_ref\", \"open_gop\", \"rc_lookahead\"]\n",
    "to_replace_after = [\"badapt\", \"bpyramid\", \"crqpoffset\", \"fastpskip\", \n",
    "                    \"merange\", \"mixedref\", \"opengop\", \"rclookahead\"]\n",
    "\n",
    "for n in range(len(to_replace_b4)):\n",
    "    names[np.where(np.array(names, str) == to_replace_b4[n])[0][0]] = to_replace_after[n]\n",
    "    \n",
    "red_square = dict(markerfacecolor='r', marker='s')\n",
    "plt.figure(figsize=(15,8))\n",
    "plt.grid()\n",
    "plt.scatter([np.mean(l[1]) for l in listImp], range(1, 1+len(listImp)),\n",
    "           marker=\"x\", color = \"black\", alpha = 1, s = 20)\n",
    "plt.boxplot([l[1] for l in listImp], flierprops=red_square, \n",
    "          vert=False, patch_artist=True, #widths=0.25,\n",
    "          boxprops=dict(facecolor=(0,0,1,0.5),linewidth=1,edgecolor='k'),\n",
    "          whiskerprops = dict(linestyle='-.',linewidth=1.0, color='black'))\n",
    "# A feature will have a positive impact on the bitrate associated to a video if his coefficient is positive\n",
    "# A feature will have a negative impact on the bitrate associated to a video if his coefficient is negative\n",
    "# The border or limit between these two ranges is the vertical line at x = 0\n",
    "plt.vlines(x = 0, ymin = 0.5, ymax = 24.5, color=\"orange\", linewidth= 3)\n",
    "plt.text(s = \"Negative impact\", x = -0.96, y = 1.6, size = 20, color = 'orange')\n",
    "plt.text(s = \"Positive impact\", x = 0.55, y = 1.6, size = 20, color = 'orange')\n",
    "plt.xlabel(\"Linear Regression coefficients\", size = 20)\n",
    "plt.yticks(range(1, len(listImp) + 1), names, size= 16)\n",
    "plt.xlim(-1.1, 1.1)\n",
    "plt.savefig(\"../../results/boxplot_features_imp_linear_\"+predDimension+\".png\")\n",
    "plt.show()"
   ]
  },
  {
   "cell_type": "markdown",
   "metadata": {},
   "source": [
    "# In the paper, here starts Section III\n",
    "\n",
    "# RQ2. What could be a good tradeoff between the accuracy and the cost of the prediction? "
   ]
  },
  {
   "cell_type": "markdown",
   "metadata": {},
   "source": [
    "## Separation of training set of videos and test set of videos"
   ]
  },
  {
   "cell_type": "code",
   "execution_count": 33,
   "metadata": {},
   "outputs": [],
   "source": [
    "# v_names_train, v_names_test = train_test_split(v_names, train_size = 1050)\n",
    "\n",
    "# v_names_train contains the inputs' names of the training set \n",
    "# the training set is used to learn the differences between inputs, i.e. it replaces domain knowledge\n",
    "# v_names_test -> same for the test set\n",
    "# the test set is used to evaluate the different state-of-the-art approaches\n",
    "\n",
    "# save names of train inputs\n",
    "# np.savetxt(\"../../data/train_names.csv\", v_names_train, fmt='%s')\n",
    "v_names_train = np.loadtxt(\"../../results/raw_data/train_names.csv\", dtype= str)\n",
    "\n",
    "# save names of test inputs\n",
    "# np.savetxt(\"../../data/test_names.csv\", v_names_test, fmt='%s')\n",
    "v_names_test = np.loadtxt(\"../../results/raw_data/test_names.csv\", dtype= str)\n"
   ]
  },
  {
   "cell_type": "code",
   "execution_count": 34,
   "metadata": {},
   "outputs": [
    {
     "data": {
      "text/plain": [
       "array(['MusicVideo_480P-4cc8.csv', 'CoverSong_720P-6ae4.csv',\n",
       "       'Sports_2160P-3d85.csv', 'HowTo_360P-18e7.csv',\n",
       "       'TelevisionClip_360P-11d5.csv', 'TelevisionClip_360P-29f1.csv',\n",
       "       'HowTo_720P-37d0.csv', 'HowTo_480P-7579.csv', 'VR_2160P-674b.csv',\n",
       "       'Sports_480P-6508.csv', 'Gaming_2160P-28de.csv',\n",
       "       'Gaming_1080P-55ac.csv', 'NewsClip_720P-2182.csv',\n",
       "       'HDR_2160P-70ca.csv', 'HowTo_1080P-63ec.csv',\n",
       "       'CoverSong_720P-7360.csv', 'Animation_1080P-6a33.csv',\n",
       "       'HowTo_720P-479b.csv', 'Gaming_1080P-0ef8.csv',\n",
       "       'Gaming_480P-5a5a.csv', 'Lecture_480P-2655.csv',\n",
       "       'Sports_720P-6365.csv', 'Vlog_1080P-4a91.csv',\n",
       "       'Vlog_1080P-4921.csv', 'HowTo_480P-3435.csv',\n",
       "       'VerticalVideo_1080P-3a9b.csv', 'Gaming_360P-3eb6.csv',\n",
       "       'HowTo_360P-7dcd.csv', 'CoverSong_720P-3dca.csv',\n",
       "       'VR_1080P-5667.csv', 'NewsClip_720P-0c81.csv',\n",
       "       'TelevisionClip_1080P-4c24.csv', 'VR_2160P-613e.csv',\n",
       "       'Sports_480P-1019.csv', 'VR_2160P-097e.csv',\n",
       "       'LyricVideo_360P-5b54.csv', 'Vlog_1080P-52fe.csv',\n",
       "       'VerticalVideo_720P-44de.csv', 'Animation_720P-06a6.csv',\n",
       "       'Sports_1080P-0640.csv', 'VR_2160P-7eab.csv',\n",
       "       'TelevisionClip_480P-280f.csv', 'Gaming_1080P-3d58.csv',\n",
       "       'NewsClip_720P-672c.csv', 'Gaming_1080P-6db2.csv',\n",
       "       'HowTo_720P-7782.csv', 'Sports_360P-1803.csv', 'VR_1080P-0519.csv',\n",
       "       'LyricVideo_1080P-28e8.csv', 'Gaming_360P-63e6.csv'], dtype='<U29')"
      ]
     },
     "execution_count": 34,
     "metadata": {},
     "output_type": "execute_result"
    }
   ],
   "source": [
    "v_names_train[0:50]"
   ]
  },
  {
   "cell_type": "code",
   "execution_count": 35,
   "metadata": {},
   "outputs": [],
   "source": [
    "listVideoTest = [listVideo[i] for i in range(len(listVideo)) if v_names[i] in v_names_test]\n",
    "assert len(listVideoTest) == len(v_names_test)"
   ]
  },
  {
   "cell_type": "markdown",
   "metadata": {},
   "source": [
    "#### Isolate best configurations"
   ]
  },
  {
   "cell_type": "code",
   "execution_count": 36,
   "metadata": {},
   "outputs": [],
   "source": [
    "best_perfs = [np.min(vid[predDimension]) for vid in listVideoTest]\n",
    "best_configs = [np.argmin(vid[predDimension]) for vid in listVideoTest]"
   ]
  },
  {
   "cell_type": "markdown",
   "metadata": {},
   "source": [
    "## State-of-the-art approaches\n",
    "\n",
    "### *SImple Learning*"
   ]
  },
  {
   "cell_type": "code",
   "execution_count": 37,
   "metadata": {},
   "outputs": [],
   "source": [
    "res_dir = \"../../results/raw_data/\"+predDimension+\"/\""
   ]
  },
  {
   "cell_type": "markdown",
   "metadata": {},
   "source": [
    "### Model Reuse (MR)\n",
    "\n",
    "\n",
    "We arbitrarily choose a first video, learn a performance model on it, and select the best configuration minimizing the performance for this video. This approach represents the error made by a model trained on a  source input (i.e., a  first video) and transposed to a target input (i.e., a second video, different from the first one), without considering the difference of content between the source and the target. In theory, it corresponds to a fixed configuration, optimized for the first video. We add Model Reuse as a witness approach to measure how we can improve the standard performance model.\n",
    "\n",
    "The **Model Reuse** selects a video of the training set, apply a model on it and keep a near-optimal configuration working for this video. Then, it applies this configuration to all inputs of the test set."
   ]
  },
  {
   "cell_type": "code",
   "execution_count": 38,
   "metadata": {},
   "outputs": [],
   "source": [
    "MR_configs = np.loadtxt(res_dir+\"MR_results.csv\")\n",
    "MR_ratios = [listVideoTest[i][predDimension][MR_configs[i]]/best_perfs[i] for i in range(len(listVideoTest))]"
   ]
  },
  {
   "cell_type": "markdown",
   "metadata": {},
   "source": [
    "### Best compromise (BC)\n",
    "\n",
    "**Best compromise (BC)** applies a performance model on all the training set, without making a difference between input videos. \n",
    "It selects the configuration working best for most videos in the training set. \n",
    "Technically, we rank the 201 configurations (1 being the optimal configuration, and 201 the worst) and select the one optimizing the sum of ranks for all input videos in the training set. "
   ]
  },
  {
   "cell_type": "code",
   "execution_count": 39,
   "metadata": {},
   "outputs": [],
   "source": [
    "BC_configs = np.loadtxt(res_dir+\"BC_results.csv\")\n",
    "BC_ratios = [listVideoTest[i][predDimension][BC_configs[i]]/best_perfs[i] for i in range(len(listVideoTest))]"
   ]
  },
  {
   "cell_type": "markdown",
   "metadata": {},
   "source": [
    "### *Learning with properties*"
   ]
  },
  {
   "cell_type": "markdown",
   "metadata": {},
   "source": [
    "### Direct Inclusion (DI)\n",
    "\n",
    "**Direct Inclusion (DI)** includes input properties directly in the model during the training phase. The trained model then predicts the performance of x264 based on a set of properties (i.e. information about the input video) **and** a set of configuration options (i.e. information about the configuration). We fed this model with the 201 configurations of our dataset, and the properties of the test videos. We select the configuration giving the best prediction (e.g. the lowest bitrate)."
   ]
  },
  {
   "cell_type": "code",
   "execution_count": 40,
   "metadata": {},
   "outputs": [],
   "source": [
    "DI_configs = np.loadtxt(res_dir+\"DI_results.csv\")\n",
    "DI_ratios = [listVideoTest[i][predDimension][DI_configs[i]]/best_perfs[i] for i in range(len(listVideoTest))]"
   ]
  },
  {
   "cell_type": "markdown",
   "metadata": {},
   "source": [
    "### Input-aware Learning (IaL)\n",
    "\n",
    "**Input-aware Learning (IaL)** was first designed to overcome the input sensitivity of programs when compiling them with PetaBricks. \n",
    "\n",
    "> See the reference @inproceedings{ding2015,\n",
    "  title={Autotuning algorithmic choice for input sensitivity},\n",
    "  author={Ding, Yufei and Ansel, Jason and Veeramachaneni, Kalyan and Shen, Xipeng and O’Reilly, Una-May and Amarasinghe, Saman},\n",
    "  booktitle={ACM SIGPLAN Notices},\n",
    "  volume={50},\n",
    "  number={6},\n",
    "  pages={379--390},\n",
    "  year={2015},\n",
    "  organization={ACM},\n",
    "  url={https://dl.acm.org/doi/pdf/10.1145/2813885.2737969},\n",
    "}\n",
    "\n",
    "Applied to the x264 case, it uses input properties of videos to propose a configuration working for a group of videos, sharing similar performances. \n",
    "\n",
    "\n",
    "According to Ding et al,  Input-Aware Learning can be broken down to six steps. \n",
    "\n",
    "\n",
    "Steps 1 to 4 are applied on the training set, while Step 5 and 6 consider a new input of the test set. \n",
    "\n",
    "**Step 1. Property extraction** - To mimic the domain knowledge of the expert, we use the videos' properties provided by the dataset of inputs\n",
    "\n",
    "**Step 2. Form groups of inputs** - \n",
    "Based on the dendogram of Figure 1, we report on videos' properties that can be used to characterize four performance groups :\n",
    "- Group 1. Action videos (high spatial and chunk complexities, Sports and News); \n",
    "- Group 2. Big resolution videos (low spatial and high temporal complexities, High Dynamic Range);\n",
    "- Group 3. Still image videos (low temporal and chunk complexities, Lectures and HowTo)\n",
    "- Group 4. Standard videos (average properties values, various contents)\n",
    "\n",
    "Similarly, we used the training set of videos to build four groups of inputs. \n",
    "\n",
    "**Step 3. Landmark creation** - For each group, we artificially build a video, being the centroid of all the input videos of its group. We then use this video to select a set of landmarks (i.e. configurations), potential candidates to optimize the performance for this group. \n",
    "\n",
    "**Step 4. Performance measurements** - For each input video, we save the performances of its landmarks (i.e. the landmarks kept in Step 3, corresponding to its group).\n",
    "\n",
    "**Step 5. Classify new inputs into a performance group** - Based on its input properties (see Step 1), we attribute a group to a new input video of the test set. It becomes a k-classification problem, k being the number of performance groups of Step 2. \n",
    "\n",
    "**Step 6. Propose a configuration for the new input** - We then propose a configuration based on the input properties of the video. It becomes a n-classification problem, where n is the number of landmarks kept for the group predicted in Step 5. We keep the best configuration predicted in Step 6."
   ]
  },
  {
   "cell_type": "code",
   "execution_count": 41,
   "metadata": {},
   "outputs": [],
   "source": [
    "IaL_configs = np.loadtxt(res_dir+\"IaL_results.csv\")\n",
    "IaL_ratios = [listVideoTest[i][predDimension][IaL_configs[i]]/best_perfs[i] for i in range(len(listVideoTest))]"
   ]
  },
  {
   "cell_type": "markdown",
   "metadata": {},
   "source": [
    "### *Transfer Learning*"
   ]
  },
  {
   "cell_type": "markdown",
   "metadata": {},
   "source": [
    "### Beetle\n",
    "\n",
    "\n",
    "> @article{beetle,\n",
    "  author    = {Rahul Krishna and\n",
    "               Vivek Nair and\n",
    "               Pooyan Jamshidi and\n",
    "               Tim Menzies},\n",
    "  title     = {Whence to Learn? Transferring Knowledge in Configurable Systems using\n",
    "               {BEETLE}},\n",
    "  journal   = {CoRR},\n",
    "  volume    = {abs/1911.01817},\n",
    "  year      = {2019},\n",
    "  url       = {http://arxiv.org/abs/1911.01817},\n",
    "  archivePrefix = {arXiv},\n",
    "  eprint    = {1911.01817},\n",
    "  timestamp = {Mon, 11 Nov 2019 18:38:09 +0100},\n",
    "  biburl    = {https://dblp.org/rec/journals/corr/abs-1911-01817.bib},\n",
    "  bibsource = {dblp computer science bibliography, https://dblp.org}\n",
    "}\n",
    "\n",
    "**Beetle** is a transfer learning approach defined by Krishna et al that relies on *source selection*. \n",
    "Given a (set of) input(s), the goal is to rank the sources by performance, in order to discover a bellwether input from which we can easily transfer performances (i.e. find the best source). \n",
    "Then, we transfer performances from this bellwether input to all inputs of the test set. \n",
    "We only apply the discovery phase (i.e. the search of bellwether) on the training set, to avoid introducing any bias in the results. "
   ]
  },
  {
   "cell_type": "code",
   "execution_count": 42,
   "metadata": {},
   "outputs": [
    {
     "data": {
      "text/html": [
       "<div>\n",
       "<style scoped>\n",
       "    .dataframe tbody tr th:only-of-type {\n",
       "        vertical-align: middle;\n",
       "    }\n",
       "\n",
       "    .dataframe tbody tr th {\n",
       "        vertical-align: top;\n",
       "    }\n",
       "\n",
       "    .dataframe thead th {\n",
       "        text-align: right;\n",
       "    }\n",
       "</style>\n",
       "<table border=\"1\" class=\"dataframe\">\n",
       "  <thead>\n",
       "    <tr style=\"text-align: right;\">\n",
       "      <th></th>\n",
       "      <th>conf5</th>\n",
       "      <th>conf10</th>\n",
       "      <th>conf15</th>\n",
       "      <th>conf20</th>\n",
       "      <th>conf25</th>\n",
       "      <th>conf30</th>\n",
       "    </tr>\n",
       "    <tr>\n",
       "      <th>id_video</th>\n",
       "      <th></th>\n",
       "      <th></th>\n",
       "      <th></th>\n",
       "      <th></th>\n",
       "      <th></th>\n",
       "      <th></th>\n",
       "    </tr>\n",
       "  </thead>\n",
       "  <tbody>\n",
       "    <tr>\n",
       "      <th>0</th>\n",
       "      <td>48</td>\n",
       "      <td>112</td>\n",
       "      <td>108</td>\n",
       "      <td>104</td>\n",
       "      <td>102</td>\n",
       "      <td>100</td>\n",
       "    </tr>\n",
       "    <tr>\n",
       "      <th>1</th>\n",
       "      <td>16</td>\n",
       "      <td>105</td>\n",
       "      <td>108</td>\n",
       "      <td>107</td>\n",
       "      <td>105</td>\n",
       "      <td>100</td>\n",
       "    </tr>\n",
       "    <tr>\n",
       "      <th>2</th>\n",
       "      <td>103</td>\n",
       "      <td>102</td>\n",
       "      <td>68</td>\n",
       "      <td>189</td>\n",
       "      <td>83</td>\n",
       "      <td>200</td>\n",
       "    </tr>\n",
       "    <tr>\n",
       "      <th>3</th>\n",
       "      <td>105</td>\n",
       "      <td>62</td>\n",
       "      <td>93</td>\n",
       "      <td>107</td>\n",
       "      <td>107</td>\n",
       "      <td>112</td>\n",
       "    </tr>\n",
       "    <tr>\n",
       "      <th>4</th>\n",
       "      <td>143</td>\n",
       "      <td>85</td>\n",
       "      <td>107</td>\n",
       "      <td>101</td>\n",
       "      <td>103</td>\n",
       "      <td>109</td>\n",
       "    </tr>\n",
       "    <tr>\n",
       "      <th>...</th>\n",
       "      <td>...</td>\n",
       "      <td>...</td>\n",
       "      <td>...</td>\n",
       "      <td>...</td>\n",
       "      <td>...</td>\n",
       "      <td>...</td>\n",
       "    </tr>\n",
       "    <tr>\n",
       "      <th>342</th>\n",
       "      <td>100</td>\n",
       "      <td>103</td>\n",
       "      <td>102</td>\n",
       "      <td>109</td>\n",
       "      <td>100</td>\n",
       "      <td>101</td>\n",
       "    </tr>\n",
       "    <tr>\n",
       "      <th>343</th>\n",
       "      <td>105</td>\n",
       "      <td>53</td>\n",
       "      <td>101</td>\n",
       "      <td>93</td>\n",
       "      <td>104</td>\n",
       "      <td>85</td>\n",
       "    </tr>\n",
       "    <tr>\n",
       "      <th>344</th>\n",
       "      <td>41</td>\n",
       "      <td>54</td>\n",
       "      <td>93</td>\n",
       "      <td>105</td>\n",
       "      <td>101</td>\n",
       "      <td>112</td>\n",
       "    </tr>\n",
       "    <tr>\n",
       "      <th>345</th>\n",
       "      <td>91</td>\n",
       "      <td>47</td>\n",
       "      <td>98</td>\n",
       "      <td>103</td>\n",
       "      <td>103</td>\n",
       "      <td>105</td>\n",
       "    </tr>\n",
       "    <tr>\n",
       "      <th>346</th>\n",
       "      <td>185</td>\n",
       "      <td>93</td>\n",
       "      <td>64</td>\n",
       "      <td>83</td>\n",
       "      <td>105</td>\n",
       "      <td>108</td>\n",
       "    </tr>\n",
       "  </tbody>\n",
       "</table>\n",
       "<p>347 rows × 6 columns</p>\n",
       "</div>"
      ],
      "text/plain": [
       "          conf5  conf10  conf15  conf20  conf25  conf30\n",
       "id_video                                               \n",
       "0            48     112     108     104     102     100\n",
       "1            16     105     108     107     105     100\n",
       "2           103     102      68     189      83     200\n",
       "3           105      62      93     107     107     112\n",
       "4           143      85     107     101     103     109\n",
       "...         ...     ...     ...     ...     ...     ...\n",
       "342         100     103     102     109     100     101\n",
       "343         105      53     101      93     104      85\n",
       "344          41      54      93     105     101     112\n",
       "345          91      47      98     103     103     105\n",
       "346         185      93      64      83     105     108\n",
       "\n",
       "[347 rows x 6 columns]"
      ]
     },
     "execution_count": 42,
     "metadata": {},
     "output_type": "execute_result"
    }
   ],
   "source": [
    "beetle_data = pd.read_csv(res_dir+\"Beetle_results.csv\").set_index(\"id_video\")\n",
    "beetle_data"
   ]
  },
  {
   "cell_type": "markdown",
   "metadata": {},
   "source": [
    "### L2S\n",
    "\n",
    ">@inproceedings{jamshidi2018,\n",
    "    title={Learning to sample: exploiting similarities across environments to learn performance models for configurable systems}, \n",
    "    author={Jamshidi, Pooyan and Velez, Miguel and K{\\\"a}stner, Christian and Siegmund, Norbert},\n",
    "    booktitle={Proceedings of the 2018 26th ACM Joint Meeting on European Software Engineering Conference and Symposium on the Foundations of Software Engineering},\n",
    "    pages={71--82},\n",
    "    year={2018},\n",
    "    organization={ACM},\n",
    "    url={https://dl.acm.org/doi/pdf/10.1145/3236024.3236074},\n",
    "}\n",
    "\n",
    "**Learning to Sample (L2S)** is a transfer learning approach defined by Jamshidi et al. \n",
    "First, it exploits the source input and selects configurations that leverage influential (interactions of) features for this input. \n",
    "Then, it explores the similarities between the source and the target, thus adding configurations having similar performances for the source and the target. \n",
    "Finally, it uses the configurations selected in previous steps to efficiently train a model on the target input. "
   ]
  },
  {
   "cell_type": "code",
   "execution_count": 43,
   "metadata": {},
   "outputs": [
    {
     "data": {
      "text/html": [
       "<div>\n",
       "<style scoped>\n",
       "    .dataframe tbody tr th:only-of-type {\n",
       "        vertical-align: middle;\n",
       "    }\n",
       "\n",
       "    .dataframe tbody tr th {\n",
       "        vertical-align: top;\n",
       "    }\n",
       "\n",
       "    .dataframe thead th {\n",
       "        text-align: right;\n",
       "    }\n",
       "</style>\n",
       "<table border=\"1\" class=\"dataframe\">\n",
       "  <thead>\n",
       "    <tr style=\"text-align: right;\">\n",
       "      <th></th>\n",
       "      <th>conf5</th>\n",
       "      <th>conf10</th>\n",
       "      <th>conf15</th>\n",
       "      <th>conf20</th>\n",
       "      <th>conf25</th>\n",
       "      <th>conf30</th>\n",
       "    </tr>\n",
       "    <tr>\n",
       "      <th>id_video</th>\n",
       "      <th></th>\n",
       "      <th></th>\n",
       "      <th></th>\n",
       "      <th></th>\n",
       "      <th></th>\n",
       "      <th></th>\n",
       "    </tr>\n",
       "  </thead>\n",
       "  <tbody>\n",
       "    <tr>\n",
       "      <th>0</th>\n",
       "      <td>1</td>\n",
       "      <td>1</td>\n",
       "      <td>13</td>\n",
       "      <td>100</td>\n",
       "      <td>41</td>\n",
       "      <td>100</td>\n",
       "    </tr>\n",
       "    <tr>\n",
       "      <th>1</th>\n",
       "      <td>4</td>\n",
       "      <td>7</td>\n",
       "      <td>83</td>\n",
       "      <td>85</td>\n",
       "      <td>42</td>\n",
       "      <td>103</td>\n",
       "    </tr>\n",
       "    <tr>\n",
       "      <th>2</th>\n",
       "      <td>4</td>\n",
       "      <td>12</td>\n",
       "      <td>100</td>\n",
       "      <td>43</td>\n",
       "      <td>95</td>\n",
       "      <td>100</td>\n",
       "    </tr>\n",
       "    <tr>\n",
       "      <th>3</th>\n",
       "      <td>41</td>\n",
       "      <td>4</td>\n",
       "      <td>6</td>\n",
       "      <td>98</td>\n",
       "      <td>91</td>\n",
       "      <td>97</td>\n",
       "    </tr>\n",
       "    <tr>\n",
       "      <th>4</th>\n",
       "      <td>12</td>\n",
       "      <td>1</td>\n",
       "      <td>10</td>\n",
       "      <td>100</td>\n",
       "      <td>62</td>\n",
       "      <td>25</td>\n",
       "    </tr>\n",
       "    <tr>\n",
       "      <th>...</th>\n",
       "      <td>...</td>\n",
       "      <td>...</td>\n",
       "      <td>...</td>\n",
       "      <td>...</td>\n",
       "      <td>...</td>\n",
       "      <td>...</td>\n",
       "    </tr>\n",
       "    <tr>\n",
       "      <th>342</th>\n",
       "      <td>4</td>\n",
       "      <td>1</td>\n",
       "      <td>42</td>\n",
       "      <td>4</td>\n",
       "      <td>104</td>\n",
       "      <td>103</td>\n",
       "    </tr>\n",
       "    <tr>\n",
       "      <th>343</th>\n",
       "      <td>41</td>\n",
       "      <td>41</td>\n",
       "      <td>41</td>\n",
       "      <td>100</td>\n",
       "      <td>108</td>\n",
       "      <td>105</td>\n",
       "    </tr>\n",
       "    <tr>\n",
       "      <th>344</th>\n",
       "      <td>6</td>\n",
       "      <td>4</td>\n",
       "      <td>105</td>\n",
       "      <td>4</td>\n",
       "      <td>46</td>\n",
       "      <td>102</td>\n",
       "    </tr>\n",
       "    <tr>\n",
       "      <th>345</th>\n",
       "      <td>0</td>\n",
       "      <td>15</td>\n",
       "      <td>41</td>\n",
       "      <td>41</td>\n",
       "      <td>103</td>\n",
       "      <td>41</td>\n",
       "    </tr>\n",
       "    <tr>\n",
       "      <th>346</th>\n",
       "      <td>4</td>\n",
       "      <td>100</td>\n",
       "      <td>20</td>\n",
       "      <td>41</td>\n",
       "      <td>100</td>\n",
       "      <td>100</td>\n",
       "    </tr>\n",
       "  </tbody>\n",
       "</table>\n",
       "<p>347 rows × 6 columns</p>\n",
       "</div>"
      ],
      "text/plain": [
       "          conf5  conf10  conf15  conf20  conf25  conf30\n",
       "id_video                                               \n",
       "0             1       1      13     100      41     100\n",
       "1             4       7      83      85      42     103\n",
       "2             4      12     100      43      95     100\n",
       "3            41       4       6      98      91      97\n",
       "4            12       1      10     100      62      25\n",
       "...         ...     ...     ...     ...     ...     ...\n",
       "342           4       1      42       4     104     103\n",
       "343          41      41      41     100     108     105\n",
       "344           6       4     105       4      46     102\n",
       "345           0      15      41      41     103      41\n",
       "346           4     100      20      41     100     100\n",
       "\n",
       "[347 rows x 6 columns]"
      ]
     },
     "execution_count": 43,
     "metadata": {},
     "output_type": "execute_result"
    }
   ],
   "source": [
    "l2s_data = pd.read_csv(res_dir+\"L2S_results.csv\").set_index(\"id_video\")\n",
    "l2s_data"
   ]
  },
  {
   "cell_type": "markdown",
   "metadata": {},
   "source": [
    "### Model Shift\n",
    "\n",
    ">@inproceedings{DBLP:conf/wosp/ValovPGFC17,\n",
    "  author    = {Pavel Valov and\n",
    "               Jean{-}Christophe Petkovich and\n",
    "               Jianmei Guo and\n",
    "               Sebastian Fischmeister and\n",
    "               Krzysztof Czarnecki},\n",
    "  title     = {Transferring Performance Prediction Models Across Different Hardware\n",
    "               Platforms},\n",
    "  booktitle = {Proceedings of the 8th {ACM/SPEC} on International Conference on Performance\n",
    "               Engineering, {ICPE} 2017, L'Aquila, Italy, April 22-26, 2017},\n",
    "  pages     = {39--50},\n",
    "  year      = {2017},\n",
    "  url       = {http://doi.acm.org/10.1145/3030207.3030216},\n",
    "  doi       = {10.1145/3030207.3030216},\n",
    "  timestamp = {Sat, 22 Apr 2017 15:59:26 +0200},\n",
    "  biburl    = {http://dblp.uni-trier.de/rec/bib/conf/wosp/ValovPGFC17},\n",
    "  bibsource = {dblp computer science bibliography, http://dblp.org}\n",
    "}\n",
    "\n",
    "**Model Shift (MS)** is a transfer learning defined by Valov et al. \n",
    "First, it trains a performance model on the source input and predicts the performance distribution of the source input. \n",
    "Then, it trains a *shifting function*, predicting the performances of the target input based on the performances of the source. \n",
    "Finally, it applies the shifting function to the predictions of the source. \n",
    "The original paper uses a linear function to transfer the performances between the source and the target. \n",
    "However, we extended this definition to any function (\\eg random forest, neural network, \\etc) able to learn the differences between the source and the target measurements. "
   ]
  },
  {
   "cell_type": "code",
   "execution_count": 44,
   "metadata": {},
   "outputs": [
    {
     "data": {
      "text/html": [
       "<div>\n",
       "<style scoped>\n",
       "    .dataframe tbody tr th:only-of-type {\n",
       "        vertical-align: middle;\n",
       "    }\n",
       "\n",
       "    .dataframe tbody tr th {\n",
       "        vertical-align: top;\n",
       "    }\n",
       "\n",
       "    .dataframe thead th {\n",
       "        text-align: right;\n",
       "    }\n",
       "</style>\n",
       "<table border=\"1\" class=\"dataframe\">\n",
       "  <thead>\n",
       "    <tr style=\"text-align: right;\">\n",
       "      <th></th>\n",
       "      <th>conf5</th>\n",
       "      <th>conf10</th>\n",
       "      <th>conf15</th>\n",
       "      <th>conf20</th>\n",
       "      <th>conf25</th>\n",
       "      <th>conf30</th>\n",
       "    </tr>\n",
       "    <tr>\n",
       "      <th>id_video</th>\n",
       "      <th></th>\n",
       "      <th></th>\n",
       "      <th></th>\n",
       "      <th></th>\n",
       "      <th></th>\n",
       "      <th></th>\n",
       "    </tr>\n",
       "  </thead>\n",
       "  <tbody>\n",
       "    <tr>\n",
       "      <th>0</th>\n",
       "      <td>41</td>\n",
       "      <td>41</td>\n",
       "      <td>41</td>\n",
       "      <td>42</td>\n",
       "      <td>100</td>\n",
       "      <td>102</td>\n",
       "    </tr>\n",
       "    <tr>\n",
       "      <th>1</th>\n",
       "      <td>45</td>\n",
       "      <td>102</td>\n",
       "      <td>101</td>\n",
       "      <td>41</td>\n",
       "      <td>98</td>\n",
       "      <td>41</td>\n",
       "    </tr>\n",
       "    <tr>\n",
       "      <th>2</th>\n",
       "      <td>41</td>\n",
       "      <td>4</td>\n",
       "      <td>42</td>\n",
       "      <td>41</td>\n",
       "      <td>41</td>\n",
       "      <td>46</td>\n",
       "    </tr>\n",
       "    <tr>\n",
       "      <th>3</th>\n",
       "      <td>20</td>\n",
       "      <td>20</td>\n",
       "      <td>42</td>\n",
       "      <td>106</td>\n",
       "      <td>42</td>\n",
       "      <td>100</td>\n",
       "    </tr>\n",
       "    <tr>\n",
       "      <th>4</th>\n",
       "      <td>4</td>\n",
       "      <td>41</td>\n",
       "      <td>41</td>\n",
       "      <td>94</td>\n",
       "      <td>41</td>\n",
       "      <td>98</td>\n",
       "    </tr>\n",
       "    <tr>\n",
       "      <th>...</th>\n",
       "      <td>...</td>\n",
       "      <td>...</td>\n",
       "      <td>...</td>\n",
       "      <td>...</td>\n",
       "      <td>...</td>\n",
       "      <td>...</td>\n",
       "    </tr>\n",
       "    <tr>\n",
       "      <th>342</th>\n",
       "      <td>54</td>\n",
       "      <td>41</td>\n",
       "      <td>41</td>\n",
       "      <td>41</td>\n",
       "      <td>41</td>\n",
       "      <td>41</td>\n",
       "    </tr>\n",
       "    <tr>\n",
       "      <th>343</th>\n",
       "      <td>25</td>\n",
       "      <td>42</td>\n",
       "      <td>41</td>\n",
       "      <td>41</td>\n",
       "      <td>100</td>\n",
       "      <td>100</td>\n",
       "    </tr>\n",
       "    <tr>\n",
       "      <th>344</th>\n",
       "      <td>1</td>\n",
       "      <td>41</td>\n",
       "      <td>48</td>\n",
       "      <td>46</td>\n",
       "      <td>48</td>\n",
       "      <td>48</td>\n",
       "    </tr>\n",
       "    <tr>\n",
       "      <th>345</th>\n",
       "      <td>42</td>\n",
       "      <td>4</td>\n",
       "      <td>42</td>\n",
       "      <td>42</td>\n",
       "      <td>100</td>\n",
       "      <td>100</td>\n",
       "    </tr>\n",
       "    <tr>\n",
       "      <th>346</th>\n",
       "      <td>41</td>\n",
       "      <td>47</td>\n",
       "      <td>42</td>\n",
       "      <td>103</td>\n",
       "      <td>100</td>\n",
       "      <td>42</td>\n",
       "    </tr>\n",
       "  </tbody>\n",
       "</table>\n",
       "<p>347 rows × 6 columns</p>\n",
       "</div>"
      ],
      "text/plain": [
       "          conf5  conf10  conf15  conf20  conf25  conf30\n",
       "id_video                                               \n",
       "0            41      41      41      42     100     102\n",
       "1            45     102     101      41      98      41\n",
       "2            41       4      42      41      41      46\n",
       "3            20      20      42     106      42     100\n",
       "4             4      41      41      94      41      98\n",
       "...         ...     ...     ...     ...     ...     ...\n",
       "342          54      41      41      41      41      41\n",
       "343          25      42      41      41     100     100\n",
       "344           1      41      48      46      48      48\n",
       "345          42       4      42      42     100     100\n",
       "346          41      47      42     103     100      42\n",
       "\n",
       "[347 rows x 6 columns]"
      ]
     },
     "execution_count": 44,
     "metadata": {},
     "output_type": "execute_result"
    }
   ],
   "source": [
    "ms_data = pd.read_csv(res_dir+\"MS_results.csv\").set_index(\"id_video\")\n",
    "ms_data"
   ]
  },
  {
   "cell_type": "markdown",
   "metadata": {},
   "source": [
    "### No Transfer\n",
    "\n",
    "**No Transfer (NT)** is a Simple Learning approach, acting as a control approach to state whether transfer learning is suited to solve this problem. \n",
    "It trains a performance model directly on the target input, without using the source. \n",
    "We expect to outperform No Transfer with transfer learning approaches. "
   ]
  },
  {
   "cell_type": "code",
   "execution_count": 45,
   "metadata": {},
   "outputs": [
    {
     "data": {
      "text/html": [
       "<div>\n",
       "<style scoped>\n",
       "    .dataframe tbody tr th:only-of-type {\n",
       "        vertical-align: middle;\n",
       "    }\n",
       "\n",
       "    .dataframe tbody tr th {\n",
       "        vertical-align: top;\n",
       "    }\n",
       "\n",
       "    .dataframe thead th {\n",
       "        text-align: right;\n",
       "    }\n",
       "</style>\n",
       "<table border=\"1\" class=\"dataframe\">\n",
       "  <thead>\n",
       "    <tr style=\"text-align: right;\">\n",
       "      <th></th>\n",
       "      <th>conf5</th>\n",
       "      <th>conf10</th>\n",
       "      <th>conf15</th>\n",
       "      <th>conf20</th>\n",
       "      <th>conf25</th>\n",
       "      <th>conf30</th>\n",
       "    </tr>\n",
       "    <tr>\n",
       "      <th>id_video</th>\n",
       "      <th></th>\n",
       "      <th></th>\n",
       "      <th></th>\n",
       "      <th></th>\n",
       "      <th></th>\n",
       "      <th></th>\n",
       "    </tr>\n",
       "  </thead>\n",
       "  <tbody>\n",
       "    <tr>\n",
       "      <th>0</th>\n",
       "      <td>95</td>\n",
       "      <td>4</td>\n",
       "      <td>41</td>\n",
       "      <td>100</td>\n",
       "      <td>42</td>\n",
       "      <td>200</td>\n",
       "    </tr>\n",
       "    <tr>\n",
       "      <th>1</th>\n",
       "      <td>20</td>\n",
       "      <td>98</td>\n",
       "      <td>85</td>\n",
       "      <td>86</td>\n",
       "      <td>109</td>\n",
       "      <td>41</td>\n",
       "    </tr>\n",
       "    <tr>\n",
       "      <th>2</th>\n",
       "      <td>20</td>\n",
       "      <td>45</td>\n",
       "      <td>46</td>\n",
       "      <td>41</td>\n",
       "      <td>41</td>\n",
       "      <td>100</td>\n",
       "    </tr>\n",
       "    <tr>\n",
       "      <th>3</th>\n",
       "      <td>0</td>\n",
       "      <td>63</td>\n",
       "      <td>38</td>\n",
       "      <td>91</td>\n",
       "      <td>46</td>\n",
       "      <td>41</td>\n",
       "    </tr>\n",
       "    <tr>\n",
       "      <th>4</th>\n",
       "      <td>62</td>\n",
       "      <td>63</td>\n",
       "      <td>85</td>\n",
       "      <td>42</td>\n",
       "      <td>62</td>\n",
       "      <td>104</td>\n",
       "    </tr>\n",
       "    <tr>\n",
       "      <th>...</th>\n",
       "      <td>...</td>\n",
       "      <td>...</td>\n",
       "      <td>...</td>\n",
       "      <td>...</td>\n",
       "      <td>...</td>\n",
       "      <td>...</td>\n",
       "    </tr>\n",
       "    <tr>\n",
       "      <th>342</th>\n",
       "      <td>46</td>\n",
       "      <td>100</td>\n",
       "      <td>42</td>\n",
       "      <td>17</td>\n",
       "      <td>100</td>\n",
       "      <td>41</td>\n",
       "    </tr>\n",
       "    <tr>\n",
       "      <th>343</th>\n",
       "      <td>42</td>\n",
       "      <td>69</td>\n",
       "      <td>83</td>\n",
       "      <td>85</td>\n",
       "      <td>100</td>\n",
       "      <td>41</td>\n",
       "    </tr>\n",
       "    <tr>\n",
       "      <th>344</th>\n",
       "      <td>41</td>\n",
       "      <td>96</td>\n",
       "      <td>100</td>\n",
       "      <td>49</td>\n",
       "      <td>48</td>\n",
       "      <td>100</td>\n",
       "    </tr>\n",
       "    <tr>\n",
       "      <th>345</th>\n",
       "      <td>4</td>\n",
       "      <td>71</td>\n",
       "      <td>79</td>\n",
       "      <td>200</td>\n",
       "      <td>42</td>\n",
       "      <td>98</td>\n",
       "    </tr>\n",
       "    <tr>\n",
       "      <th>346</th>\n",
       "      <td>41</td>\n",
       "      <td>100</td>\n",
       "      <td>102</td>\n",
       "      <td>100</td>\n",
       "      <td>23</td>\n",
       "      <td>62</td>\n",
       "    </tr>\n",
       "  </tbody>\n",
       "</table>\n",
       "<p>347 rows × 6 columns</p>\n",
       "</div>"
      ],
      "text/plain": [
       "          conf5  conf10  conf15  conf20  conf25  conf30\n",
       "id_video                                               \n",
       "0            95       4      41     100      42     200\n",
       "1            20      98      85      86     109      41\n",
       "2            20      45      46      41      41     100\n",
       "3             0      63      38      91      46      41\n",
       "4            62      63      85      42      62     104\n",
       "...         ...     ...     ...     ...     ...     ...\n",
       "342          46     100      42      17     100      41\n",
       "343          42      69      83      85     100      41\n",
       "344          41      96     100      49      48     100\n",
       "345           4      71      79     200      42      98\n",
       "346          41     100     102     100      23      62\n",
       "\n",
       "[347 rows x 6 columns]"
      ]
     },
     "execution_count": 45,
     "metadata": {},
     "output_type": "execute_result"
    }
   ],
   "source": [
    "nt_data = pd.read_csv(res_dir+\"NT_results.csv\").set_index(\"id_video\")\n",
    "nt_data"
   ]
  },
  {
   "cell_type": "markdown",
   "metadata": {},
   "source": [
    "## First results about properties - Figure 5a"
   ]
  },
  {
   "cell_type": "code",
   "execution_count": 93,
   "metadata": {},
   "outputs": [
    {
     "data": {
      "image/png": "[encoded data removed]",
      "text/plain": [
       "<Figure size 1152x864 with 1 Axes>"
      ]
     },
     "metadata": {
      "needs_background": "light"
     },
     "output_type": "display_data"
    }
   ],
   "source": [
    "# we aggregate the different ratios, sorted by increasing efficiency\n",
    "box_res = np.transpose(pd.DataFrame({\"MR\" : MR_ratios,\n",
    "                                     \"BC\" : BC_ratios,\n",
    "                                     \"DI\" : DI_ratios,\n",
    "                                     \"IaL\" : IaL_ratios}))\n",
    "\n",
    "# rotation of the text in the ordered axis, to fit the figure in the paper\n",
    "degrees = 20\n",
    "\n",
    "# cosmetic choices\n",
    "red_square = dict(markerfacecolor='r', marker='s')\n",
    "# figure size\n",
    "plt.figure(figsize=(16,12))\n",
    "# add a grid\n",
    "plt.grid(alpha =0.5)\n",
    "plt.boxplot(box_res, flierprops=red_square, \n",
    "          vert=True, patch_artist=True, widths=0.25,\n",
    "          boxprops=dict(facecolor=(0,0,1,0.5),linewidth=1,edgecolor='k'),\n",
    "          whiskerprops = dict(linestyle='-.',linewidth=1.0, color='black'))\n",
    "# add crosses for average values of distributions\n",
    "plt.scatter(np.arange(1, 5, 1), np.array([np.mean(box_res.iloc[i]) for i in range(4)]), \n",
    "            marker=\"x\", color = \"black\", alpha = 1, s = 100)\n",
    "# Limits\n",
    "plt.ylim(0.9,2.5)\n",
    "plt.xlim(0.5,4.5)\n",
    "# Inputec vs Baseline\n",
    "plt.vlines(x=2.5, ymin=0.5, ymax=4.5, linestyle='-.', color='green', linewidth = 5)\n",
    "plt.text(s = \"Simple Learning\", x = 1.12, y = 2.25, size = 20, color = 'green')\n",
    "plt.text(s = \"Learning\", x = 3.32, y = 2.3, size = 20, color = 'green')\n",
    "plt.text(s = \"with properties\", x = 3.13, y = 2.2, size = 20, color = 'green')\n",
    "# Labels\n",
    "plt.ylabel(\"Ratio performance/best\", size = 20)\n",
    "plt.xlabel(\"\", size = 20)\n",
    "# Arrow\n",
    "plt.arrow(x = 4.35, y = 2, dx= 0, dy = -0.3, head_width = 0.1, head_length = .1, color=\"orange\")\n",
    "plt.text(s = \"Better\", x = 4.05, y = 1.82, size = 20, color = 'orange')\n",
    "# Ticks of axis\n",
    "plt.xticks([1, 2, 3, 4], \n",
    "           ['Model Reuse (MR)', 'Best Compromise (BC)', \n",
    "            'Direct Inclusion (DI)', 'Input-aware Learning (IaL)'],\n",
    "          size = 20,\n",
    "          rotation=degrees)\n",
    "plt.yticks(size = 20)\n",
    "# save figure in the results folder\n",
    "plt.savefig(\"../../results/res_box_approach_\"+predDimension+\".png\")\n",
    "# show the figure\n",
    "plt.show()"
   ]
  },
  {
   "cell_type": "markdown",
   "metadata": {},
   "source": [
    "#### Description of the results"
   ]
  },
  {
   "cell_type": "markdown",
   "metadata": {},
   "source": [
    "##### Average results"
   ]
  },
  {
   "cell_type": "code",
   "execution_count": 47,
   "metadata": {},
   "outputs": [
    {
     "data": {
      "text/plain": [
       "1.1963765688049417"
      ]
     },
     "execution_count": 47,
     "metadata": {},
     "output_type": "execute_result"
    }
   ],
   "source": [
    "np.mean(BC_ratios)"
   ]
  },
  {
   "cell_type": "code",
   "execution_count": 48,
   "metadata": {},
   "outputs": [
    {
     "data": {
      "text/plain": [
       "1.1277368506527417"
      ]
     },
     "execution_count": 48,
     "metadata": {},
     "output_type": "execute_result"
    }
   ],
   "source": [
    "np.mean(MR_ratios)"
   ]
  },
  {
   "cell_type": "code",
   "execution_count": 49,
   "metadata": {},
   "outputs": [
    {
     "data": {
      "text/plain": [
       "1.1655585346035846"
      ]
     },
     "execution_count": 49,
     "metadata": {},
     "output_type": "execute_result"
    }
   ],
   "source": [
    "np.mean(IaL_ratios)"
   ]
  },
  {
   "cell_type": "code",
   "execution_count": 50,
   "metadata": {
    "scrolled": true
   },
   "outputs": [
    {
     "data": {
      "text/plain": [
       "1.244971983913473"
      ]
     },
     "execution_count": 50,
     "metadata": {},
     "output_type": "execute_result"
    }
   ],
   "source": [
    "np.mean(DI_ratios)"
   ]
  },
  {
   "cell_type": "markdown",
   "metadata": {},
   "source": [
    "##### Median results"
   ]
  },
  {
   "cell_type": "code",
   "execution_count": 51,
   "metadata": {},
   "outputs": [
    {
     "data": {
      "text/plain": [
       "1.1383508577753183"
      ]
     },
     "execution_count": 51,
     "metadata": {},
     "output_type": "execute_result"
    }
   ],
   "source": [
    "np.median(BC_ratios)"
   ]
  },
  {
   "cell_type": "code",
   "execution_count": 52,
   "metadata": {},
   "outputs": [
    {
     "data": {
      "text/plain": [
       "1.064128256513026"
      ]
     },
     "execution_count": 52,
     "metadata": {},
     "output_type": "execute_result"
    }
   ],
   "source": [
    "np.median(MR_ratios)"
   ]
  },
  {
   "cell_type": "code",
   "execution_count": 53,
   "metadata": {},
   "outputs": [
    {
     "data": {
      "text/plain": [
       "1.1150614091790563"
      ]
     },
     "execution_count": 53,
     "metadata": {},
     "output_type": "execute_result"
    }
   ],
   "source": [
    "np.median(IaL_ratios)"
   ]
  },
  {
   "cell_type": "code",
   "execution_count": 54,
   "metadata": {
    "scrolled": false
   },
   "outputs": [
    {
     "data": {
      "text/plain": [
       "1.1614987080103358"
      ]
     },
     "execution_count": 54,
     "metadata": {},
     "output_type": "execute_result"
    }
   ],
   "source": [
    "np.median(DI_ratios)"
   ]
  },
  {
   "cell_type": "markdown",
   "metadata": {},
   "source": [
    "##### IQR"
   ]
  },
  {
   "cell_type": "code",
   "execution_count": 55,
   "metadata": {},
   "outputs": [],
   "source": [
    "def iqr(distrib):\n",
    "    return np.percentile(distrib, 75) - np.percentile(distrib, 25)"
   ]
  },
  {
   "cell_type": "code",
   "execution_count": 56,
   "metadata": {},
   "outputs": [
    {
     "data": {
      "text/plain": [
       "0.18368895847817424"
      ]
     },
     "execution_count": 56,
     "metadata": {},
     "output_type": "execute_result"
    }
   ],
   "source": [
    "iqr(MR_ratios)"
   ]
  },
  {
   "cell_type": "code",
   "execution_count": 57,
   "metadata": {},
   "outputs": [
    {
     "data": {
      "text/plain": [
       "0.17844191176362267"
      ]
     },
     "execution_count": 57,
     "metadata": {},
     "output_type": "execute_result"
    }
   ],
   "source": [
    "iqr(BC_ratios)"
   ]
  },
  {
   "cell_type": "code",
   "execution_count": 58,
   "metadata": {},
   "outputs": [
    {
     "data": {
      "text/plain": [
       "0.17824876922538602"
      ]
     },
     "execution_count": 58,
     "metadata": {},
     "output_type": "execute_result"
    }
   ],
   "source": [
    "iqr(IaL_ratios)"
   ]
  },
  {
   "cell_type": "code",
   "execution_count": 59,
   "metadata": {},
   "outputs": [
    {
     "data": {
      "text/plain": [
       "0.31351719565382874"
      ]
     },
     "execution_count": 59,
     "metadata": {},
     "output_type": "execute_result"
    }
   ],
   "source": [
    "iqr(DI_ratios)"
   ]
  },
  {
   "cell_type": "markdown",
   "metadata": {},
   "source": [
    "#### Statistical tests - Welch t-test"
   ]
  },
  {
   "cell_type": "code",
   "execution_count": 60,
   "metadata": {},
   "outputs": [
    {
     "data": {
      "text/plain": [
       "WilcoxonResult(statistic=20552.5, pvalue=2.6519224267130245e-05)"
      ]
     },
     "execution_count": 60,
     "metadata": {},
     "output_type": "execute_result"
    }
   ],
   "source": [
    "stats.wilcoxon(IaL_ratios, BC_ratios)"
   ]
  },
  {
   "cell_type": "code",
   "execution_count": 61,
   "metadata": {},
   "outputs": [
    {
     "data": {
      "text/plain": [
       "WilcoxonResult(statistic=9901.0, pvalue=2.1883798583725074e-08)"
      ]
     },
     "execution_count": 61,
     "metadata": {},
     "output_type": "execute_result"
    }
   ],
   "source": [
    "stats.wilcoxon(IaL_ratios, MR_ratios)"
   ]
  },
  {
   "cell_type": "code",
   "execution_count": 62,
   "metadata": {},
   "outputs": [
    {
     "data": {
      "text/plain": [
       "WilcoxonResult(statistic=21807.5, pvalue=0.00035743730223744937)"
      ]
     },
     "execution_count": 62,
     "metadata": {},
     "output_type": "execute_result"
    }
   ],
   "source": [
    "stats.wilcoxon(DI_ratios, BC_ratios)"
   ]
  },
  {
   "cell_type": "code",
   "execution_count": 63,
   "metadata": {},
   "outputs": [
    {
     "data": {
      "text/plain": [
       "WilcoxonResult(statistic=10275.0, pvalue=3.985087818100381e-17)"
      ]
     },
     "execution_count": 63,
     "metadata": {},
     "output_type": "execute_result"
    }
   ],
   "source": [
    "stats.wilcoxon(DI_ratios, MR_ratios)"
   ]
  },
  {
   "cell_type": "markdown",
   "metadata": {},
   "source": [
    "DI and MR, DI and BC, IaL and MR, IaL and BC are significantly different"
   ]
  },
  {
   "cell_type": "code",
   "execution_count": 64,
   "metadata": {},
   "outputs": [
    {
     "data": {
      "text/plain": [
       "WilcoxonResult(statistic=18045.0, pvalue=9.281499003583958e-08)"
      ]
     },
     "execution_count": 64,
     "metadata": {},
     "output_type": "execute_result"
    }
   ],
   "source": [
    "stats.wilcoxon(DI_ratios, IaL_ratios)"
   ]
  },
  {
   "cell_type": "markdown",
   "metadata": {},
   "source": [
    "IaL and DI are significantly different"
   ]
  },
  {
   "cell_type": "code",
   "execution_count": 65,
   "metadata": {},
   "outputs": [
    {
     "data": {
      "text/plain": [
       "WilcoxonResult(statistic=8092.5, pvalue=3.573785809450277e-22)"
      ]
     },
     "execution_count": 65,
     "metadata": {},
     "output_type": "execute_result"
    }
   ],
   "source": [
    "stats.wilcoxon(BC_ratios, MR_ratios)"
   ]
  },
  {
   "cell_type": "markdown",
   "metadata": {},
   "source": [
    "MR and BC are not significantly different"
   ]
  },
  {
   "cell_type": "markdown",
   "metadata": {},
   "source": [
    "## Results about cost - Figure 5b"
   ]
  },
  {
   "cell_type": "markdown",
   "metadata": {},
   "source": [
    "Aggregation of data"
   ]
  },
  {
   "cell_type": "code",
   "execution_count": 66,
   "metadata": {},
   "outputs": [
    {
     "data": {
      "text/html": [
       "<div>\n",
       "<style scoped>\n",
       "    .dataframe tbody tr th:only-of-type {\n",
       "        vertical-align: middle;\n",
       "    }\n",
       "\n",
       "    .dataframe tbody tr th {\n",
       "        vertical-align: top;\n",
       "    }\n",
       "\n",
       "    .dataframe thead th {\n",
       "        text-align: right;\n",
       "    }\n",
       "</style>\n",
       "<table border=\"1\" class=\"dataframe\">\n",
       "  <thead>\n",
       "    <tr style=\"text-align: right;\">\n",
       "      <th></th>\n",
       "      <th>ratio</th>\n",
       "      <th>training_size</th>\n",
       "      <th>Approach</th>\n",
       "    </tr>\n",
       "  </thead>\n",
       "  <tbody>\n",
       "    <tr>\n",
       "      <th>0</th>\n",
       "      <td>1.775216</td>\n",
       "      <td>05</td>\n",
       "      <td>Beetle</td>\n",
       "    </tr>\n",
       "    <tr>\n",
       "      <th>1</th>\n",
       "      <td>1.734150</td>\n",
       "      <td>05</td>\n",
       "      <td>Model Shift (MS)</td>\n",
       "    </tr>\n",
       "    <tr>\n",
       "      <th>2</th>\n",
       "      <td>1.565562</td>\n",
       "      <td>05</td>\n",
       "      <td>No Transfer (NT)</td>\n",
       "    </tr>\n",
       "    <tr>\n",
       "      <th>3</th>\n",
       "      <td>10.301873</td>\n",
       "      <td>05</td>\n",
       "      <td>Learning to Sample (L2S)</td>\n",
       "    </tr>\n",
       "    <tr>\n",
       "      <th>4</th>\n",
       "      <td>1.235591</td>\n",
       "      <td>10</td>\n",
       "      <td>Beetle</td>\n",
       "    </tr>\n",
       "    <tr>\n",
       "      <th>...</th>\n",
       "      <td>...</td>\n",
       "      <td>...</td>\n",
       "      <td>...</td>\n",
       "    </tr>\n",
       "    <tr>\n",
       "      <th>8323</th>\n",
       "      <td>1.000000</td>\n",
       "      <td>25</td>\n",
       "      <td>Learning to Sample (L2S)</td>\n",
       "    </tr>\n",
       "    <tr>\n",
       "      <th>8324</th>\n",
       "      <td>1.090595</td>\n",
       "      <td>30</td>\n",
       "      <td>Beetle</td>\n",
       "    </tr>\n",
       "    <tr>\n",
       "      <th>8325</th>\n",
       "      <td>1.149378</td>\n",
       "      <td>30</td>\n",
       "      <td>Model Shift (MS)</td>\n",
       "    </tr>\n",
       "    <tr>\n",
       "      <th>8326</th>\n",
       "      <td>3.558783</td>\n",
       "      <td>30</td>\n",
       "      <td>No Transfer (NT)</td>\n",
       "    </tr>\n",
       "    <tr>\n",
       "      <th>8327</th>\n",
       "      <td>1.000000</td>\n",
       "      <td>30</td>\n",
       "      <td>Learning to Sample (L2S)</td>\n",
       "    </tr>\n",
       "  </tbody>\n",
       "</table>\n",
       "<p>8328 rows × 3 columns</p>\n",
       "</div>"
      ],
      "text/plain": [
       "          ratio training_size                  Approach\n",
       "0      1.775216            05                    Beetle\n",
       "1      1.734150            05          Model Shift (MS)\n",
       "2      1.565562            05          No Transfer (NT)\n",
       "3     10.301873            05  Learning to Sample (L2S)\n",
       "4      1.235591            10                    Beetle\n",
       "...         ...           ...                       ...\n",
       "8323   1.000000            25  Learning to Sample (L2S)\n",
       "8324   1.090595            30                    Beetle\n",
       "8325   1.149378            30          Model Shift (MS)\n",
       "8326   3.558783            30          No Transfer (NT)\n",
       "8327   1.000000            30  Learning to Sample (L2S)\n",
       "\n",
       "[8328 rows x 3 columns]"
      ]
     },
     "execution_count": 66,
     "metadata": {},
     "output_type": "execute_result"
    }
   ],
   "source": [
    "f = []\n",
    "\n",
    "cols = [\"conf5\", \"conf10\", \"conf15\", \"conf20\", \"conf25\", \"conf30\"]\n",
    "names_cols = ['05', '10', '15', '20', '25', '30']\n",
    "for i in range(len(listVideoTest)):\n",
    "    for j in range(len(cols)):\n",
    "        c = cols[j]\n",
    "        nc = names_cols[j]\n",
    "        f.append((listVideoTest[i][predDimension][beetle_data[c].iloc[i]]/best_perfs[i], nc, \"Beetle\"))\n",
    "        f.append((listVideoTest[i][predDimension][ms_data[c].iloc[i]]/best_perfs[i], nc, \"Model Shift (MS)\"))\n",
    "        f.append((listVideoTest[i][predDimension][nt_data[c].iloc[i]]/best_perfs[i], nc, \"No Transfer (NT)\"))\n",
    "        f.append((listVideoTest[i][predDimension][l2s_data[c].iloc[i]]/best_perfs[i], nc, \"Learning to Sample (L2S)\"))\n",
    "\n",
    "\n",
    "final_tl_data = pd.DataFrame(f, columns = [\"ratio\", \"training_size\", \"Approach\"])\n",
    "final_tl_data"
   ]
  },
  {
   "cell_type": "code",
   "execution_count": 92,
   "metadata": {},
   "outputs": [
    {
     "data": {
      "image/png": "[encoded data removed]",
      "text/plain": [
       "<Figure size 1152x864 with 1 Axes>"
      ]
     },
     "metadata": {
      "needs_background": "light"
     },
     "output_type": "display_data"
    }
   ],
   "source": [
    "plt.figure(figsize=(16,12))\n",
    "\n",
    "plt.grid(alpha=0.5)\n",
    "\n",
    "# Draw a nested boxplot to show bills by day and time\n",
    "sns.boxplot(x=\"training_size\", y=\"ratio\",\n",
    "            hue=\"Approach\", palette=[\"lightgreen\", \"coral\", \"lightgray\", \"purple\"],\n",
    "            data=final_tl_data, \n",
    "            showmeans=True, \n",
    "            meanprops={\"marker\":\"x\", \"markeredgecolor\":\"black\"})\n",
    "plt.ylabel(\"Ratio performance/best\", size = 20)\n",
    "plt.xlabel(\"Budget - # Training configurations - Target\", size = 20)\n",
    "plt.ylim(0.9,15)\n",
    "plt.legend(fontsize=20, loc = 'upper right', framealpha=1)\n",
    "\n",
    "\n",
    "# Arrow\n",
    "plt.arrow(x = 4.5, y = 2, dx= 0, dy = -0.3, head_width = 0.15, head_length = .1, color=\"orange\")\n",
    "plt.text(s = \"Better\", x = 4, y = 1.95, size = 20, color = 'orange')\n",
    "\n",
    "plt.xticks(size = 20)\n",
    "plt.yticks(size = 20)\n",
    "plt.savefig(\"../../results/res_box_tl_approach_\"+predDimension+\".png\")\n",
    "plt.show()"
   ]
  },
  {
   "cell_type": "code",
   "execution_count": 68,
   "metadata": {},
   "outputs": [],
   "source": [
    "approaches = [\"Beetle\", \"Learning to Sample (L2S)\", \"Model Shift (MS)\", \"No Transfer (NT)\"]\n",
    "budgets = np.arange(5, 31, 5)\n",
    "\n",
    "def get_ratio(approach, training_size):\n",
    "    if training_size < 10:\n",
    "        training_size= '0'+str(training_size)\n",
    "    return final_tl_data.query(\"Approach=='\"+approach\n",
    "                               +\"' and training_size=='\"+str(training_size)+\"'\")['ratio']"
   ]
  },
  {
   "cell_type": "code",
   "execution_count": 69,
   "metadata": {},
   "outputs": [
    {
     "data": {
      "text/plain": [
       "3.256985395909188"
      ]
     },
     "execution_count": 69,
     "metadata": {},
     "output_type": "execute_result"
    }
   ],
   "source": [
    "np.mean(get_ratio(\"Model Shift (MS)\", 10))"
   ]
  },
  {
   "cell_type": "code",
   "execution_count": 70,
   "metadata": {},
   "outputs": [
    {
     "data": {
      "text/plain": [
       "2.00576"
      ]
     },
     "execution_count": 70,
     "metadata": {},
     "output_type": "execute_result"
    }
   ],
   "source": [
    "np.median(get_ratio(\"Model Shift (MS)\", 10))"
   ]
  },
  {
   "cell_type": "code",
   "execution_count": 71,
   "metadata": {},
   "outputs": [
    {
     "data": {
      "text/plain": [
       "1.2447781610094135"
      ]
     },
     "execution_count": 71,
     "metadata": {},
     "output_type": "execute_result"
    }
   ],
   "source": [
    "iqr(get_ratio(\"Model Shift (MS)\", 10))"
   ]
  },
  {
   "cell_type": "code",
   "execution_count": 72,
   "metadata": {},
   "outputs": [
    {
     "data": {
      "text/plain": [
       "2.5622087369670967"
      ]
     },
     "execution_count": 72,
     "metadata": {},
     "output_type": "execute_result"
    }
   ],
   "source": [
    "np.mean(get_ratio(\"Beetle\", 10))"
   ]
  },
  {
   "cell_type": "code",
   "execution_count": 73,
   "metadata": {},
   "outputs": [
    {
     "data": {
      "text/plain": [
       "1.5700757575757573"
      ]
     },
     "execution_count": 73,
     "metadata": {},
     "output_type": "execute_result"
    }
   ],
   "source": [
    "np.median(get_ratio(\"Beetle\", 10))"
   ]
  },
  {
   "cell_type": "code",
   "execution_count": 74,
   "metadata": {},
   "outputs": [
    {
     "data": {
      "text/plain": [
       "1.6988325295381541"
      ]
     },
     "execution_count": 74,
     "metadata": {},
     "output_type": "execute_result"
    }
   ],
   "source": [
    "iqr(get_ratio(\"Beetle\", 10))"
   ]
  },
  {
   "cell_type": "code",
   "execution_count": 75,
   "metadata": {},
   "outputs": [
    {
     "data": {
      "text/plain": [
       "3.8410596026490063"
      ]
     },
     "execution_count": 75,
     "metadata": {},
     "output_type": "execute_result"
    }
   ],
   "source": [
    "np.median(get_ratio(\"Learning to Sample (L2S)\", 10))"
   ]
  },
  {
   "cell_type": "code",
   "execution_count": 76,
   "metadata": {},
   "outputs": [
    {
     "data": {
      "text/plain": [
       "WilcoxonResult(statistic=9105.0, pvalue=7.348846646708823e-27)"
      ]
     },
     "execution_count": 76,
     "metadata": {},
     "output_type": "execute_result"
    }
   ],
   "source": [
    "stats.wilcoxon(DI_ratios, get_ratio(\"Learning to Sample (L2S)\", 30))"
   ]
  },
  {
   "cell_type": "code",
   "execution_count": 77,
   "metadata": {},
   "outputs": [
    {
     "data": {
      "text/plain": [
       "2.2501330365954457"
      ]
     },
     "execution_count": 77,
     "metadata": {},
     "output_type": "execute_result"
    }
   ],
   "source": [
    "np.mean(get_ratio(\"Learning to Sample (L2S)\", 30))"
   ]
  },
  {
   "cell_type": "code",
   "execution_count": 78,
   "metadata": {},
   "outputs": [
    {
     "data": {
      "text/plain": [
       "1.5820224719101124"
      ]
     },
     "execution_count": 78,
     "metadata": {},
     "output_type": "execute_result"
    }
   ],
   "source": [
    "np.median(get_ratio(\"Learning to Sample (L2S)\", 30))"
   ]
  },
  {
   "cell_type": "code",
   "execution_count": 79,
   "metadata": {},
   "outputs": [
    {
     "data": {
      "text/plain": [
       "0.06628242074927954"
      ]
     },
     "execution_count": 79,
     "metadata": {},
     "output_type": "execute_result"
    }
   ],
   "source": [
    "np.mean(get_ratio(\"Learning to Sample (L2S)\", 30)==1)"
   ]
  },
  {
   "cell_type": "code",
   "execution_count": 80,
   "metadata": {},
   "outputs": [
    {
     "data": {
      "text/plain": [
       "7.4416294451601885"
      ]
     },
     "execution_count": 80,
     "metadata": {},
     "output_type": "execute_result"
    }
   ],
   "source": [
    "iqr(get_ratio(\"Learning to Sample (L2S)\", 10))"
   ]
  },
  {
   "cell_type": "code",
   "execution_count": 81,
   "metadata": {},
   "outputs": [
    {
     "data": {
      "text/plain": [
       "1.2065565902528874"
      ]
     },
     "execution_count": 81,
     "metadata": {},
     "output_type": "execute_result"
    }
   ],
   "source": [
    "iqr(get_ratio(\"Learning to Sample (L2S)\", 30))"
   ]
  },
  {
   "cell_type": "code",
   "execution_count": 82,
   "metadata": {},
   "outputs": [
    {
     "data": {
      "text/plain": [
       "4.121349019500986"
      ]
     },
     "execution_count": 82,
     "metadata": {},
     "output_type": "execute_result"
    }
   ],
   "source": [
    "iqr(get_ratio(\"Beetle\", 5))"
   ]
  },
  {
   "cell_type": "code",
   "execution_count": 83,
   "metadata": {},
   "outputs": [
    {
     "data": {
      "text/plain": [
       "0.26206448233035884"
      ]
     },
     "execution_count": 83,
     "metadata": {},
     "output_type": "execute_result"
    }
   ],
   "source": [
    "iqr(get_ratio(\"Beetle\", 30))"
   ]
  },
  {
   "cell_type": "code",
   "execution_count": 84,
   "metadata": {},
   "outputs": [
    {
     "data": {
      "text/plain": [
       "1.2447781610094135"
      ]
     },
     "execution_count": 84,
     "metadata": {},
     "output_type": "execute_result"
    }
   ],
   "source": [
    "iqr(get_ratio(\"Model Shift (MS)\", 10))"
   ]
  },
  {
   "cell_type": "code",
   "execution_count": 85,
   "metadata": {},
   "outputs": [
    {
     "data": {
      "text/plain": [
       "0.7729909244839046"
      ]
     },
     "execution_count": 85,
     "metadata": {},
     "output_type": "execute_result"
    }
   ],
   "source": [
    "iqr(get_ratio(\"Model Shift (MS)\", 30))"
   ]
  },
  {
   "cell_type": "code",
   "execution_count": null,
   "metadata": {},
   "outputs": [],
   "source": []
  },
  {
   "cell_type": "code",
   "execution_count": null,
   "metadata": {},
   "outputs": [],
   "source": []
  },
  {
   "cell_type": "code",
   "execution_count": null,
   "metadata": {},
   "outputs": [],
   "source": []
  },
  {
   "cell_type": "code",
   "execution_count": null,
   "metadata": {},
   "outputs": [],
   "source": []
  },
  {
   "cell_type": "code",
   "execution_count": null,
   "metadata": {},
   "outputs": [],
   "source": []
  },
  {
   "cell_type": "code",
   "execution_count": null,
   "metadata": {},
   "outputs": [],
   "source": []
  },
  {
   "cell_type": "code",
   "execution_count": null,
   "metadata": {},
   "outputs": [],
   "source": []
  },
  {
   "cell_type": "code",
   "execution_count": null,
   "metadata": {},
   "outputs": [],
   "source": []
  },
  {
   "cell_type": "code",
   "execution_count": null,
   "metadata": {},
   "outputs": [],
   "source": []
  }
 ],
 "metadata": {
  "kernelspec": {
   "display_name": "Python 3",
   "language": "python",
   "name": "python3"
  },
  "language_info": {
   "codemirror_mode": {
    "name": "ipython",
    "version": 3
   },
   "file_extension": ".py",
   "mimetype": "text/x-python",
   "name": "python",
   "nbconvert_exporter": "python",
   "pygments_lexer": "ipython3",
   "version": "3.7.6"
  }
 },
 "nbformat": 4,
 "nbformat_minor": 4
}

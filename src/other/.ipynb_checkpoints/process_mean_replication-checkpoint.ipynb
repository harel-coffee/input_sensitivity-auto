{
 "cells": [
  {
   "cell_type": "markdown",
   "metadata": {},
   "source": [
    "### input : \n",
    "#### ten datasets with different values for the dependant variables\n",
    "### output :\n",
    "#### one dataset with the mean of the ten different launches"
   ]
  },
  {
   "cell_type": "code",
   "execution_count": 17,
   "metadata": {},
   "outputs": [],
   "source": [
    "import numpy as np\n",
    "import pandas as pd"
   ]
  },
  {
   "cell_type": "code",
   "execution_count": 19,
   "metadata": {},
   "outputs": [],
   "source": [
    "dataFolderName = '../../data/old'\n",
    "\n",
    "listVideoName =['deadline_cif', 'bridge_close_cif','720p50_parkrun_ter',\n",
    "'akiyo_qcif','bridge_far_cif','sunflower_1080p25','sintel_trailer_2k_480p24','husky_cif',\n",
    "'netflix','waterfall_cif','claire_qcif','FourPeople_1280x720_60','students_cif','mobile_sif',\n",
    "'flower_sif','riverbed_1080p25','blue_sky_1080p25','football_cif','tractor_1080p25',\n",
    "'football_cif_15fps','tennis_sif','ducks_take_off_420_720p50','ice_cif','crowd_run_1080p50','soccer_4cif']\n",
    "\n",
    "\n",
    "def elapsedtime_to_sec(el):\n",
    "    tab = el.split(\":\")\n",
    "    return float(tab[0])*60+float(tab[1])\n",
    "\n",
    "for vn in listVideoName:\n",
    "    cpu_repl = []\n",
    "    fps_repl = []\n",
    "    kbs_repl = []\n",
    "    etime_repl = []\n",
    "    size_repl = []\n",
    "    for nb_repl in np.arange(1,11,1):\n",
    "        data = pd.read_csv(open(dataFolderName+'/'+vn+'/x264-results'+str(nb_repl)+'.csv',\"r\"))\n",
    "        data['elapsedtime'] = [*map(elapsedtime_to_sec, data['elapsedtime'])]\n",
    "        cpu_repl.append(data[\"cpu\"])\n",
    "        etime_repl.append(data[\"elapsedtime\"])\n",
    "        fps_repl.append(data[\"fps\"])\n",
    "        kbs_repl.append(data[\"kbs\"])\n",
    "        size_repl.append(data[\"size\"])\n",
    "    res = data.drop(columns=['usertime', 'systemtime', 'cpu', 'elapsedtime', 'fps','kbs','size'])\n",
    "    cpu = []\n",
    "    fps = []\n",
    "    kbs = []\n",
    "    etime = []\n",
    "    size = []\n",
    "    for id_config in range(data.shape[0]):\n",
    "        inter_cpu = []\n",
    "        inter_fps = []\n",
    "        inter_kbs = []\n",
    "        inter_etime = []\n",
    "        inter_size = []\n",
    "        for j in range(10):\n",
    "            inter_fps.append(fps_repl[j][id_config])\n",
    "            inter_cpu.append(cpu_repl[j][id_config])\n",
    "            inter_kbs.append(kbs_repl[j][id_config])\n",
    "            inter_etime.append(etime_repl[j][id_config])\n",
    "            inter_size.append(size_repl[j][id_config])\n",
    "        cpu.append(np.mean(inter_cpu))\n",
    "        fps.append(np.mean(inter_fps))\n",
    "        kbs.append(np.mean(inter_kbs))\n",
    "        etime.append(np.mean(inter_etime))\n",
    "        size.append(np.mean(inter_size))\n",
    "\n",
    "    res['cpu'] = cpu\n",
    "    res['fps'] = fps\n",
    "    res['kbs'] = kbs\n",
    "    res['etime'] = etime\n",
    "    res['size'] = size\n",
    "    res.to_csv(dataFolderName+'/'+vn+'/result_mean.csv')"
   ]
  },
  {
   "cell_type": "code",
   "execution_count": null,
   "metadata": {},
   "outputs": [],
   "source": []
  }
 ],
 "metadata": {
  "kernelspec": {
   "display_name": "Python 3",
   "language": "python",
   "name": "python3"
  },
  "language_info": {
   "codemirror_mode": {
    "name": "ipython",
    "version": 3
   },
   "file_extension": ".py",
   "mimetype": "text/x-python",
   "name": "python",
   "nbconvert_exporter": "python",
   "pygments_lexer": "ipython3",
   "version": "3.7.6"
  }
 },
 "nbformat": 4,
 "nbformat_minor": 4
}

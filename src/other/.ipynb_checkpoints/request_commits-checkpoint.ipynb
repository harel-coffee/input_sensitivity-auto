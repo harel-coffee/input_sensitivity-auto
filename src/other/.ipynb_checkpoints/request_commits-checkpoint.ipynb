{
 "cells": [
  {
   "cell_type": "code",
   "execution_count": 1,
   "metadata": {},
   "outputs": [],
   "source": [
    "import os, json"
   ]
  },
  {
   "cell_type": "code",
   "execution_count": 14,
   "metadata": {
    "scrolled": false
   },
   "outputs": [
    {
     "name": "stdout",
     "output_type": "stream",
     "text": [
      "current commit34c06d1c17ad968fbdda153cb772f77ee31b3095\n",
      "current commit83acefef8990302caf962c77e5a8189bb620ca6f\n",
      "current commit3d9ec58f27f1cd6732484246aaad59158b98af47\n",
      "current commitb00bcafe53a166b63a179a2f41470cd13b59f927\n",
      "current commit8f2437d33301faaf0e2fcaff16e2b01e9bbe27ae\n",
      "current commit79b36f27a57dd511eefead6d5422689220c767b5\n",
      "current commit2b2f039512bde7c097280255c6376cf9a901e08e\n",
      "current commit46a489b5e21cae3b4fea5d41cc285dcaf79d19e3\n",
      "current commit97eaef2ab82a46d13ea5e00270712d6475fbe42b\n",
      "current commit9521b278adb92081f052c1b7bfc4b95651d88b07\n",
      "current commitaa26e880bc2cd04cc81c776051d5e21d03fc975a\n",
      "current commit065321c48d0d371c1735b3cc9d368b43e1b64aaa\n",
      "current commite0d722f85f8599e324be2bebef9430155b25c329\n",
      "current commitd2b04a26b26d02c41ffb05cf1a605dafe9e6fa59\n",
      "current commit3ce6430eb11839c69d606c59c0f8c31ce0b6dd17\n",
      "current commit94e476d80b9635508907893c97e8f8d9f0bc9ddf\n",
      "current commit8d655b63b4f7bc021ad038ea64b7c4de9d0ef74b\n",
      "current commitb85a74a22f79c8722674c4cfd7cddf5f54c8421d\n",
      "current commitfeec4a478bfdfb4426268b2ee79bac473b97488c\n",
      "current commit9b77dffab04e3ea242598454282b40800e720353\n",
      "current commit8596dd36df38d33d402e848035b1bd31edc2c389\n",
      "current commit7634f8c6047e9e12036778a8dc8d4cd4b06eebcb\n",
      "current commitfa215fc9d77d131595e8b1eda0fc4e9da62c1f94\n",
      "current commit5444e95a5c9ee866625b1122a19dbae6bf044008\n",
      "current commit732e4f7e8b9ab6d214cbcf059445b4712709faa4\n",
      "current commit5ec5c78920914a88da415c57904fa01c99deeb7b\n",
      "current commitcc61a4b4d0838b6d5f4cdaf88a0b6d06a12b6d3e\n",
      "current commit8e57a9a0b5bddfecea5e45345c8c50efb0bac10d\n",
      "current commit10e1ba55803970ecd240f2057e7dfe0c22fc8efb\n",
      "current commita35fd4194dd7004abe6f66679496beded405515a\n",
      "current commit87b23e25eee0c04bb47957445e7cf941a7d8b980\n",
      "current commit5b0cb86f27ba0c5433c404bed51c06a5124dfb49\n",
      "current commit1921c6824e37bdf5a8436a6cbe36b0d3a8c376b3\n",
      "current commit670d81811866e9e5045d25c5def5ba2b9f06d2ac\n",
      "current commit6c54a135f5d552cbed4d3067aae2621ffb4f73af\n",
      "current commit532bb60a6695ba1ceb698747e57107de422491f2\n",
      "current commit42693c88c7c10f6156a4bb3a980a04eb23f02276\n",
      "current commit03a8f4c8e32bf03096344244271ade318e252ce1\n",
      "current commitb2bf3f99c060fdbd930e9ed5500a05da1344c229\n",
      "current commit8bed3a1418edf4b146d84445e692b17cf854bbe5\n",
      "current commit972de279b363210fdf4858e3efe7203e979b6e36\n",
      "current commit946f81551e3e8a1e6dc022a08788ba3004c9cf42\n",
      "current commit506683ae4789946e45d328250e72b304810fdb0f\n",
      "current commit91b83f585a5cdc45a3fb83100b09a2fb9dacc02e\n",
      "current commit9fd187e63a2296a3334abc3f9ef1ade458ff671c\n",
      "current commitf98fed632827610c80950fc201b7a5306968ffe9\n",
      "current commit317001c67caffc6618c0b736d22e43795f1efed3\n",
      "current commit19e1f24e09ee540a8517bd6d36de5c1b828c24b6\n",
      "current commitaf0c64f701d90cf9326185e954f3d85e25bfb338\n",
      "current commite2f0f1816c8e930800270b0cb2198416700761c1\n",
      "current commit29820105cf31f3bc399e82450a2bf18944026f88\n",
      "current commite77bbb6af56d2c7ff2f184e6cfdcac6f2328ccfa\n",
      "current commit5f77d1c4a03e7f3ca5a606ab07d1f3901b6d98c5\n",
      "current commit8b333f51feab0c90387294895466b1941d06acc2\n",
      "current commit0d38729198fd135bb8edeff4960d421512a26f43\n",
      "current commit398d0eb3e86ccd1b092fa52cf1217cc58b22ddaa\n",
      "current commit4aa33d658263abb40bf91438b5ec1eb93d86621f\n",
      "current commitccac8546bc1596f2313c3f472caab720c9753275\n",
      "current commitd9e6b1732e8a49054870e50990dc54e659f9e1af\n",
      "current commite0920d6fac5b51ab6ebc08482b2eace3a667cc1c\n",
      "current commit22342aa3bfedb2ad29fde8d236145db2021614dc\n",
      "current commite586d699b2f13364aa443b367dba9fe38699f5de\n",
      "current commit1921079dd03d36502308379c4437e4440a970473\n",
      "current commit303e985d09f6562cf3a52327d30e3120fa481008\n",
      "current commitf701ebc84812eeab34735964a84f706ef2aa9625\n",
      "current commit9c55521590a2afe496394e51f6a42dc30939f8ad\n",
      "current commit9e1f300078a010d07a7331c796d08d78c624c772\n",
      "current commit0e58d0373bb8586f78eb1b95221b347123689e3c\n",
      "current commit5993b7e968fc1154a4fae417fb9dbb0157c60cf8\n",
      "current commitc4f3dabecde673fabcefa832fff490af9d738641\n",
      "current commit8de7dbbec1bc754826227c67cba74ad8a225cfde\n",
      "current commit9da8410dfd8877576438c909a3311688c19d6104\n",
      "current commited9a9f313240c887a7a3b330ceabe25fccbf47db\n",
      "current commit53712c4bb01f9cc5c22d7eeb408f20d4f4d9520e\n",
      "current commit20720d6b7e2e0406e29a121d5340cd5199083f44\n",
      "current commitdef7e3aaf85502eba82efa9a13c176e87cff8268\n",
      "current commit263abc67c9c37d8cfddcb5bc9e9ddf768366429b\n",
      "current commit3d5beaee8325c2788f17a632558759ec95ec76e6\n",
      "current commitab69c14b91fc4fcdd15b5449fb549c05fe94e9a8\n",
      "current commit2cd3c7b140e7bc60d902e4e7a049c17e82c02f6e\n",
      "current commit80090ccfb3493659451c21506d77dcacda6bcab2\n",
      "current commit8aef0e941d986f10427cc2d3a848162065bdef3a\n",
      "current commit4659f518e453250783fd13bedda8a8560e8d32a5\n",
      "current commitf9cc941183c0b190d09e030a30c537259c3e4088\n",
      "current commiteeebca20ad854271fab898f306f1657887ca6588\n",
      "current commitf51297f19065e4ab34179e6e1d785b28fb3ad6be\n",
      "current commit540ed9aafdf7577cf51914676dfc010952c76052\n",
      "current commit9773268370492490235dee06d46e091f563626d7\n",
      "current commite1d852d2947dfaac201dfb7149070ed341caa64f\n",
      "current commit743ad5971608e491bd1d70a31e9bfdc496301eef\n",
      "current commit528cbd1f16cd20b3ee8bbfd5b5edf6634a7f4634\n",
      "current commit109ae085288c0068e2f40bfffd41070bd25dfa8b\n",
      "current commit4c8ccfe6de4a44cd46bcaf1fc17ae90bfe34d958\n",
      "current commit47673d940a290207345bb13f08c371aa435e92a2\n",
      "current commitc4f5de5230b584189c57db18f68d73f19d653d00\n",
      "current commit92ea0c5c30a74408e931227765009ef8aaee1542\n",
      "current commitc0abfd39627fcb3e2f6c9aed7ebbed7dfda9230e\n",
      "current commite72f431c685731663d2824aa768218927490e704\n",
      "current commit24a6672ecaa6bccc65c4043248c1787e3161062c\n",
      "current commitbccb009f9fa67797da6cd3da742ad9a27266b12b\n",
      "current commit007c6f71c2b0d2868dfc46edaf24a5c27eceab47\n",
      "current commit3f7206dc5bfb84ff4e1fb494d9ecf09e98baa937\n",
      "current commit07a0494bd1b2c1ec05866d09bf84d0564d6e5080\n",
      "current commit5dc0aae2f900064d1f58579929a2285ab289a436\n",
      "current commit5dc0aae2f900064d1f58579929a2285ab289a436\n",
      "current commit5dc0aae2f900064d1f58579929a2285ab289a436\n",
      "current commit5dc0aae2f900064d1f58579929a2285ab289a436\n",
      "current commit5dc0aae2f900064d1f58579929a2285ab289a436\n",
      "current commit5dc0aae2f900064d1f58579929a2285ab289a436\n",
      "current commit5dc0aae2f900064d1f58579929a2285ab289a436\n"
     ]
    }
   ],
   "source": [
    "header = 'curl -u id:secret'\n",
    "begin_repo = ' \"https://api.github.com/repos/mirror/x264/commits?sha='\n",
    "end_repo = '\" -o ./res_commits/'\n",
    "end_output_file = '.json'\n",
    "actual_commit = '4c9b076be684832b9141f5b6c03aaf302adca0e4'\n",
    "\n",
    "for i in range(110): #3009 < 29*110\n",
    "    os.system(header+begin_repo+actual_commit+end_repo+actual_commit+end_output_file)\n",
    "    tab = json.load(open(\"./res_commits/\"+actual_commit+\".json\",'r'))\n",
    "    actual_commit = tab[len(tab)-1]['sha']\n",
    "    print(\"current commit\"+str(actual_commit))"
   ]
  },
  {
   "cell_type": "code",
   "execution_count": 20,
   "metadata": {},
   "outputs": [],
   "source": [
    "commits = []\n",
    "\n",
    "res_dir = './res_commits/'\n",
    "paths = os.listdir(res_dir)\n",
    "\n",
    "for path in paths:\n",
    "    tab = json.load(open(res_dir+path))\n",
    "    for t in tab:\n",
    "        if t not in commits:\n",
    "            commits.append(t)"
   ]
  },
  {
   "cell_type": "code",
   "execution_count": 21,
   "metadata": {},
   "outputs": [
    {
     "data": {
      "text/plain": [
       "3009"
      ]
     },
     "execution_count": 21,
     "metadata": {},
     "output_type": "execute_result"
    }
   ],
   "source": [
    "len(commits)"
   ]
  },
  {
   "cell_type": "code",
   "execution_count": 22,
   "metadata": {},
   "outputs": [],
   "source": [
    "with open('commits_x264.json', 'w', encoding='utf-8') as f:\n",
    "    json.dump(commits, f, ensure_ascii=False, indent=4)"
   ]
  }
 ],
 "metadata": {
  "kernelspec": {
   "display_name": "Python 3",
   "language": "python",
   "name": "python3"
  },
  "language_info": {
   "codemirror_mode": {
    "name": "ipython",
    "version": 3
   },
   "file_extension": ".py",
   "mimetype": "text/x-python",
   "name": "python",
   "nbconvert_exporter": "python",
   "pygments_lexer": "ipython3",
   "version": "3.7.6"
  }
 },
 "nbformat": 4,
 "nbformat_minor": 4
}
